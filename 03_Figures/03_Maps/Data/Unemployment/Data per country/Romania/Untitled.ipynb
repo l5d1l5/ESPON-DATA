{
 "cells": [
  {
   "cell_type": "code",
   "execution_count": 1,
   "id": "f84e7dc3",
   "metadata": {},
   "outputs": [],
   "source": [
    "import pandas as pd"
   ]
  },
  {
   "cell_type": "code",
   "execution_count": 31,
   "id": "36431cd5",
   "metadata": {},
   "outputs": [],
   "source": [
    "r = pd.read_csv('Romania.csv').drop(['Sex', ' MU: Percentage'], axis =1)\n",
    "# r = r[~(r['Macroregions development regions and counties'] == \"TOTAL\")]\n",
    "r[' Months'] = r[' Months'].apply(lambda x: str(x).split()[1].strip())\n",
    "r.columns = ['region', 'year', 'value']\n",
    "r = r.groupby(['region', 'year']).mean().unstack().reset_index()\n",
    "r = r.round(decimals = 2)\n",
    "r.to_csv('Romania-done.csv')"
   ]
  },
  {
   "cell_type": "code",
   "execution_count": null,
   "id": "06fe5228",
   "metadata": {},
   "outputs": [],
   "source": []
  }
 ],
 "metadata": {
  "kernelspec": {
   "display_name": "Python 3 (ipykernel)",
   "language": "python",
   "name": "python3"
  },
  "language_info": {
   "codemirror_mode": {
    "name": "ipython",
    "version": 3
   },
   "file_extension": ".py",
   "mimetype": "text/x-python",
   "name": "python",
   "nbconvert_exporter": "python",
   "pygments_lexer": "ipython3",
   "version": "3.9.9"
  }
 },
 "nbformat": 4,
 "nbformat_minor": 5
}
