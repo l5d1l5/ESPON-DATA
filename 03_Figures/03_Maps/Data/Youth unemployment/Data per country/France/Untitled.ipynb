{
 "cells": [
  {
   "cell_type": "code",
   "execution_count": 17,
   "id": "bef1557f",
   "metadata": {},
   "outputs": [],
   "source": [
    "import pandas as pd"
   ]
  },
  {
   "cell_type": "code",
   "execution_count": 32,
   "id": "d6f8434b",
   "metadata": {},
   "outputs": [
    {
     "name": "stderr",
     "output_type": "stream",
     "text": [
      "C:\\Users\\mhachaichi\\Miniconda3\\lib\\site-packages\\openpyxl\\styles\\stylesheet.py:226: UserWarning: Workbook contains no default style, apply openpyxl's default\n",
      "  warn(\"Workbook contains no default style, apply openpyxl's default\")\n"
     ]
    },
    {
     "data": {
      "text/html": [
       "<div>\n",
       "<style scoped>\n",
       "    .dataframe tbody tr th:only-of-type {\n",
       "        vertical-align: middle;\n",
       "    }\n",
       "\n",
       "    .dataframe tbody tr th {\n",
       "        vertical-align: top;\n",
       "    }\n",
       "\n",
       "    .dataframe thead th {\n",
       "        text-align: right;\n",
       "    }\n",
       "</style>\n",
       "<table border=\"1\" class=\"dataframe\">\n",
       "  <thead>\n",
       "    <tr style=\"text-align: right;\">\n",
       "      <th></th>\n",
       "      <th>Libellé</th>\n",
       "      <th>idBank</th>\n",
       "      <th>Dernière mise à jour</th>\n",
       "      <th>Période</th>\n",
       "      <th>1982</th>\n",
       "      <th>1983</th>\n",
       "      <th>1984</th>\n",
       "      <th>1985</th>\n",
       "      <th>1986</th>\n",
       "      <th>1987</th>\n",
       "      <th>...</th>\n",
       "      <th>2011</th>\n",
       "      <th>2012</th>\n",
       "      <th>2013</th>\n",
       "      <th>2014</th>\n",
       "      <th>2015</th>\n",
       "      <th>2016</th>\n",
       "      <th>2017</th>\n",
       "      <th>2018</th>\n",
       "      <th>2019</th>\n",
       "      <th>2020</th>\n",
       "    </tr>\n",
       "  </thead>\n",
       "  <tbody>\n",
       "    <tr>\n",
       "      <th>5</th>\n",
       "      <td>Taux de chômage au sens du BIT (moyenne annuel...</td>\n",
       "      <td>1787750</td>\n",
       "      <td>30/08/2016 00:00</td>\n",
       "      <td>NaN</td>\n",
       "      <td>(O)</td>\n",
       "      <td>(O)</td>\n",
       "      <td>(O)</td>\n",
       "      <td>(O)</td>\n",
       "      <td>(O)</td>\n",
       "      <td>(O)</td>\n",
       "      <td>...</td>\n",
       "      <td>(O)</td>\n",
       "      <td>(O)</td>\n",
       "      <td>(O)</td>\n",
       "      <td>52.3</td>\n",
       "      <td>51.4</td>\n",
       "      <td>(O)</td>\n",
       "      <td>(O)</td>\n",
       "      <td>(O)</td>\n",
       "      <td>(O)</td>\n",
       "      <td>(O)</td>\n",
       "    </tr>\n",
       "    <tr>\n",
       "      <th>117</th>\n",
       "      <td>Taux de chômage localisés (moyenne annuelle) -...</td>\n",
       "      <td>1785029</td>\n",
       "      <td>03/06/2021 17:48</td>\n",
       "      <td>NaN</td>\n",
       "      <td>(O)</td>\n",
       "      <td>(O)</td>\n",
       "      <td>(O)</td>\n",
       "      <td>(O)</td>\n",
       "      <td>(O)</td>\n",
       "      <td>(O)</td>\n",
       "      <td>...</td>\n",
       "      <td>15.9</td>\n",
       "      <td>17.5</td>\n",
       "      <td>17.5</td>\n",
       "      <td>17.0</td>\n",
       "      <td>18.5</td>\n",
       "      <td>19.0</td>\n",
       "      <td>17.1</td>\n",
       "      <td>15.6</td>\n",
       "      <td>14.9</td>\n",
       "      <td>16.3</td>\n",
       "    </tr>\n",
       "    <tr>\n",
       "      <th>118</th>\n",
       "      <td>Taux de chômage localisés (moyenne annuelle) -...</td>\n",
       "      <td>1785030</td>\n",
       "      <td>03/06/2021 17:48</td>\n",
       "      <td>NaN</td>\n",
       "      <td>(O)</td>\n",
       "      <td>(O)</td>\n",
       "      <td>(O)</td>\n",
       "      <td>(O)</td>\n",
       "      <td>(O)</td>\n",
       "      <td>(O)</td>\n",
       "      <td>...</td>\n",
       "      <td>34.9</td>\n",
       "      <td>37.5</td>\n",
       "      <td>37.4</td>\n",
       "      <td>35.6</td>\n",
       "      <td>36.0</td>\n",
       "      <td>36.7</td>\n",
       "      <td>33.6</td>\n",
       "      <td>31.4</td>\n",
       "      <td>29.4</td>\n",
       "      <td>29.3</td>\n",
       "    </tr>\n",
       "  </tbody>\n",
       "</table>\n",
       "<p>3 rows × 43 columns</p>\n",
       "</div>"
      ],
      "text/plain": [
       "                                               Libellé   idBank  \\\n",
       "5    Taux de chômage au sens du BIT (moyenne annuel...  1787750   \n",
       "117  Taux de chômage localisés (moyenne annuelle) -...  1785029   \n",
       "118  Taux de chômage localisés (moyenne annuelle) -...  1785030   \n",
       "\n",
       "    Dernière mise à jour  Période 1982 1983 1984 1985 1986 1987  ...  2011  \\\n",
       "5       30/08/2016 00:00      NaN  (O)  (O)  (O)  (O)  (O)  (O)  ...   (O)   \n",
       "117     03/06/2021 17:48      NaN  (O)  (O)  (O)  (O)  (O)  (O)  ...  15.9   \n",
       "118     03/06/2021 17:48      NaN  (O)  (O)  (O)  (O)  (O)  (O)  ...  34.9   \n",
       "\n",
       "     2012  2013  2014  2015  2016  2017  2018  2019  2020  \n",
       "5     (O)   (O)  52.3  51.4   (O)   (O)   (O)   (O)   (O)  \n",
       "117  17.5  17.5  17.0  18.5  19.0  17.1  15.6  14.9  16.3  \n",
       "118  37.5  37.4  35.6  36.0  36.7  33.6  31.4  29.4  29.3  \n",
       "\n",
       "[3 rows x 43 columns]"
      ]
     },
     "execution_count": 32,
     "metadata": {},
     "output_type": "execute_result"
    }
   ],
   "source": [
    "d = pd.read_excel('France_total.xlsx')\n",
    "d = d[d['Libellé'].str.contains('Ensemble des 15 à 24 ans')]\n",
    "d.head(3)"
   ]
  },
  {
   "cell_type": "code",
   "execution_count": 33,
   "id": "6015dc84",
   "metadata": {},
   "outputs": [],
   "source": [
    "d['region'] = d['Libellé'].apply(lambda x: x.split('-')[-1].strip())"
   ]
  },
  {
   "cell_type": "code",
   "execution_count": 37,
   "id": "70c0fd95",
   "metadata": {},
   "outputs": [],
   "source": [
    "d = d[['region', '2019', \"2020\"]]"
   ]
  },
  {
   "cell_type": "code",
   "execution_count": 38,
   "id": "90ae1591",
   "metadata": {},
   "outputs": [],
   "source": [
    "import pandas as pd\n",
    "import string\n",
    "import xlsxwriter"
   ]
  },
  {
   "cell_type": "code",
   "execution_count": 39,
   "id": "c9c661b3",
   "metadata": {},
   "outputs": [],
   "source": [
    "with pd.ExcelWriter ('test.xlsx') as writer:\n",
    "                d.to_excel(writer, sheet_name = 'sheet1',engine='xlsxwriter')"
   ]
  },
  {
   "cell_type": "code",
   "execution_count": 12,
   "id": "eec71c27",
   "metadata": {},
   "outputs": [],
   "source": [
    "d[['region', 41, 42]].to_csv('France.xlsx')"
   ]
  }
 ],
 "metadata": {
  "kernelspec": {
   "display_name": "Python 3 (ipykernel)",
   "language": "python",
   "name": "python3"
  },
  "language_info": {
   "codemirror_mode": {
    "name": "ipython",
    "version": 3
   },
   "file_extension": ".py",
   "mimetype": "text/x-python",
   "name": "python",
   "nbconvert_exporter": "python",
   "pygments_lexer": "ipython3",
   "version": "3.9.9"
  }
 },
 "nbformat": 4,
 "nbformat_minor": 5
}
