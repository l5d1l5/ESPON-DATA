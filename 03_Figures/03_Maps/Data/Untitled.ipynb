{
 "cells": [
  {
   "cell_type": "code",
   "execution_count": 1,
   "id": "f961691b",
   "metadata": {},
   "outputs": [],
   "source": [
    "import pandas as pd\n",
    "import geopandas as gpd"
   ]
  },
  {
   "cell_type": "markdown",
   "id": "1a906d5b",
   "metadata": {},
   "source": [
    "## Unemployment "
   ]
  },
  {
   "cell_type": "code",
   "execution_count": 10,
   "id": "a48e319e",
   "metadata": {},
   "outputs": [
    {
     "data": {
      "text/html": [
       "<div>\n",
       "<style scoped>\n",
       "    .dataframe tbody tr th:only-of-type {\n",
       "        vertical-align: middle;\n",
       "    }\n",
       "\n",
       "    .dataframe tbody tr th {\n",
       "        vertical-align: top;\n",
       "    }\n",
       "\n",
       "    .dataframe thead th {\n",
       "        text-align: right;\n",
       "    }\n",
       "</style>\n",
       "<table border=\"1\" class=\"dataframe\">\n",
       "  <thead>\n",
       "    <tr style=\"text-align: right;\">\n",
       "      <th></th>\n",
       "      <th>NUTS_ID</th>\n",
       "      <th>2019</th>\n",
       "      <th>2020</th>\n",
       "    </tr>\n",
       "  </thead>\n",
       "  <tbody>\n",
       "    <tr>\n",
       "      <th>0</th>\n",
       "      <td>EU27_2020</td>\n",
       "      <td>6.7</td>\n",
       "      <td>7.1</td>\n",
       "    </tr>\n",
       "    <tr>\n",
       "      <th>1</th>\n",
       "      <td>EU28</td>\n",
       "      <td>6.3</td>\n",
       "      <td>6.3</td>\n",
       "    </tr>\n",
       "    <tr>\n",
       "      <th>2</th>\n",
       "      <td>EU15</td>\n",
       "      <td>6.9</td>\n",
       "      <td>6.9</td>\n",
       "    </tr>\n",
       "    <tr>\n",
       "      <th>3</th>\n",
       "      <td>EA19</td>\n",
       "      <td>7.6</td>\n",
       "      <td>7.9</td>\n",
       "    </tr>\n",
       "    <tr>\n",
       "      <th>4</th>\n",
       "      <td>BE</td>\n",
       "      <td>5.4</td>\n",
       "      <td>5.6</td>\n",
       "    </tr>\n",
       "    <tr>\n",
       "      <th>...</th>\n",
       "      <td>...</td>\n",
       "      <td>...</td>\n",
       "      <td>...</td>\n",
       "    </tr>\n",
       "    <tr>\n",
       "      <th>495</th>\n",
       "      <td>TRB2</td>\n",
       "      <td>25.7</td>\n",
       "      <td>23.6</td>\n",
       "    </tr>\n",
       "    <tr>\n",
       "      <th>496</th>\n",
       "      <td>TRC</td>\n",
       "      <td>22.3</td>\n",
       "      <td>20.6</td>\n",
       "    </tr>\n",
       "    <tr>\n",
       "      <th>497</th>\n",
       "      <td>TRC1</td>\n",
       "      <td>15.2</td>\n",
       "      <td>13.0</td>\n",
       "    </tr>\n",
       "    <tr>\n",
       "      <th>498</th>\n",
       "      <td>TRC2</td>\n",
       "      <td>23.2</td>\n",
       "      <td>20.0</td>\n",
       "    </tr>\n",
       "    <tr>\n",
       "      <th>499</th>\n",
       "      <td>TRC3</td>\n",
       "      <td>30.8</td>\n",
       "      <td>33.4</td>\n",
       "    </tr>\n",
       "  </tbody>\n",
       "</table>\n",
       "<p>500 rows × 3 columns</p>\n",
       "</div>"
      ],
      "text/plain": [
       "       NUTS_ID  2019  2020\n",
       "0    EU27_2020   6.7   7.1\n",
       "1         EU28   6.3   6.3\n",
       "2         EU15   6.9   6.9\n",
       "3         EA19   7.6   7.9\n",
       "4           BE   5.4   5.6\n",
       "..         ...   ...   ...\n",
       "495       TRB2  25.7  23.6\n",
       "496        TRC  22.3  20.6\n",
       "497       TRC1  15.2  13.0\n",
       "498       TRC2  23.2  20.0\n",
       "499       TRC3  30.8  33.4\n",
       "\n",
       "[500 rows x 3 columns]"
      ]
     },
     "execution_count": 10,
     "metadata": {},
     "output_type": "execute_result"
    }
   ],
   "source": [
    "unem_base = pd.read_excel('Unemployment/Unemployment rates.xls', skiprows = 11)\n",
    "unem_base['NUTS_ID'] = unem_base['GEO/TIME'].apply(lambda x: x.split('-')[0].strip()) \n",
    "unem_base = unem_base[['NUTS_ID', '2019', '2020']]\n",
    "unem_base"
   ]
  },
  {
   "cell_type": "code",
   "execution_count": 2,
   "id": "1c65465c",
   "metadata": {},
   "outputs": [],
   "source": [
    "# read the shape files \n",
    "lau = gpd.read_file('01_GIS/02_LAU/LAU_RG_01M_2020_3035.shp')\n",
    "shape = gpd.read_file('01_GIS/01_Full file/NUTS_COVID.shp')"
   ]
  },
  {
   "cell_type": "code",
   "execution_count": 22,
   "id": "d4cdbcef",
   "metadata": {},
   "outputs": [],
   "source": [
    "unm = gpd.GeoDataFrame(pd.merge(unem_base, shape, on ='NUTS_ID'))"
   ]
  },
  {
   "cell_type": "code",
   "execution_count": 34,
   "id": "a7f85f11",
   "metadata": {},
   "outputs": [],
   "source": [
    "unm = unm.query('LEVL_CODE == 2')\n",
    "unm = unm[~(unm['NUTS_ID'].str.contains('FRY'))]"
   ]
  },
  {
   "cell_type": "code",
   "execution_count": 38,
   "id": "17edb85a",
   "metadata": {},
   "outputs": [],
   "source": [
    "unm = unm[~(unm['NUTS_ID'].str.contains('ES7'))]"
   ]
  },
  {
   "cell_type": "code",
   "execution_count": 40,
   "id": "073badbb",
   "metadata": {},
   "outputs": [],
   "source": [
    "unm.to_file('../F-dataset/Unemployment.shp')"
   ]
  }
 ],
 "metadata": {
  "kernelspec": {
   "display_name": "Python 3 (ipykernel)",
   "language": "python",
   "name": "python3"
  },
  "language_info": {
   "codemirror_mode": {
    "name": "ipython",
    "version": 3
   },
   "file_extension": ".py",
   "mimetype": "text/x-python",
   "name": "python",
   "nbconvert_exporter": "python",
   "pygments_lexer": "ipython3",
   "version": "3.9.7"
  }
 },
 "nbformat": 4,
 "nbformat_minor": 5
}
