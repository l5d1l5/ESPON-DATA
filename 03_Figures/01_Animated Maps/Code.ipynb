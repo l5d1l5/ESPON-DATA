{
 "cells": [
  {
   "cell_type": "code",
   "execution_count": null,
   "metadata": {
    "id": "6YY6z6ZZAzU2"
   },
   "outputs": [],
   "source": [
    "# import modules \n",
    "import matplotlib.cbook as cbook\n",
    "from matplotlib_scalebar.scalebar import ScaleBar\n",
    "import pandas as pd \n",
    "import geopandas as gpd \n",
    "import matplotlib.pyplot as plt \n",
    "import numpy as np\n",
    "import PIL\n",
    "import io\n",
    "%matplotlib inline\n",
    "%config InlineBackend.figure_format='retina'"
   ]
  },
  {
   "cell_type": "code",
   "execution_count": null,
   "metadata": {
    "id": "w3C2O--44RV2"
   },
   "outputs": [],
   "source": [
    "# read ESPON LOGO \n",
    "im = plt.imread('ESPON images/espon-logo.png') # insert local ESPON logo."
   ]
  },
  {
   "cell_type": "code",
   "execution_count": null,
   "metadata": {
    "id": "tqd4Rl--nBXB"
   },
   "outputs": [],
   "source": [
    "# make the base map \n",
    "world = gpd.read_file(gpd.datasets.get_path('naturalearth_lowres'))\n",
    "cities = gpd.read_file(gpd.datasets.get_path('naturalearth_cities'))"
   ]
  },
  {
   "cell_type": "code",
   "execution_count": null,
   "metadata": {},
   "outputs": [],
   "source": [
    "fiji = world.query('name == \"Fiji\"')[['geometry']]"
   ]
  },
  {
   "cell_type": "markdown",
   "metadata": {},
   "source": [
    "## 1. Cases"
   ]
  },
  {
   "cell_type": "markdown",
   "metadata": {},
   "source": [
    "### 1.1 New cases"
   ]
  },
  {
   "cell_type": "code",
   "execution_count": null,
   "metadata": {
    "colab": {
     "base_uri": "https://localhost:8080/",
     "height": 554
    },
    "id": "EZbrZHTGnAnl",
    "outputId": "07a47622-b895-4878-da3e-f941e2576acc"
   },
   "outputs": [],
   "source": [
    "## Read the data \n",
    "# Cases\n",
    "cases = pd.read_excel('../../02_Data/02_Pandemic variables/01_Cases/EU_Cases_Weekly_Unstacked.xlsx')\n",
    "cases.rename(columns = {\"Unnamed: 0\": 'nuts_id'}, inplace= True)\n",
    "cases.index = cases.nuts_id\n",
    "cases.drop('nuts_id', axis =1, inplace = True)"
   ]
  },
  {
   "cell_type": "code",
   "execution_count": null,
   "metadata": {
    "id": "om04VwdAA56s"
   },
   "outputs": [],
   "source": [
    "# read shape file \n",
    "covid = gpd.read_file('../../02_Data/01_GIS/02_Full file/Full shape.shp')\n",
    "# read shape file by ESPON\n",
    "# shp0 = gpd.read_file('/content/drive/MyDrive/Colab Notebooks/Data/ESPON MAPS/nuts-version2016-level0.shp')\n",
    "# shp1 = gpd.read_file('/content/drive/MyDrive/Colab Notebooks/Data/ESPON MAPS/nuts-version2016-level1.shp')\n",
    "# shp2 = gpd.read_file('/content/drive/MyDrive/Colab Notebooks/Data/ESPON MAPS/nuts-version2016-level2.shp')\n",
    "# shp3 = gpd.read_file('/content/drive/MyDrive/Colab Notebooks/Data/ESPON MAPS/nuts-version2016-level3.shp')"
   ]
  },
  {
   "cell_type": "code",
   "execution_count": null,
   "metadata": {
    "id": "IcUEUbW-Oqa0"
   },
   "outputs": [],
   "source": [
    "cases.dropna(thresh = len(cases) -200, axis = 1, inplace= True)\n",
    "cases = abs(cases)"
   ]
  },
  {
   "cell_type": "code",
   "execution_count": null,
   "metadata": {
    "id": "hqByOVWo5nAz"
   },
   "outputs": [],
   "source": [
    "# turn dataframes into GeoDataFrames \n",
    "geo_cases = gpd.GeoDataFrame(pd.merge(cases, covid, left_on = cases.index, right_on = 'NUTS_ID').fillna(np.nan))\n"
   ]
  },
  {
   "cell_type": "code",
   "execution_count": null,
   "metadata": {},
   "outputs": [],
   "source": [
    "geo_cases = pd.concat([geo_cases,fiji])"
   ]
  },
  {
   "cell_type": "code",
   "execution_count": null,
   "metadata": {
    "id": "2Q3FfpfBIpTm"
   },
   "outputs": [],
   "source": [
    "# change the CRS to Europe \n",
    "geo_cases = geo_cases.to_crs(epsg=3035) \n",
    "world = world.to_crs(epsg = 3035)\n",
    "cities = cities.to_crs(epsg = 3035)"
   ]
  },
  {
   "cell_type": "code",
   "execution_count": null,
   "metadata": {
    "id": "N4N1jJXvxZhf"
   },
   "outputs": [],
   "source": [
    "# Selecting only cities we want to see on the plot   \n",
    "cities['x'] = cities['geometry'].x\n",
    "cities['y'] = cities['geometry'].y\n",
    "cities = cities[cities['x'] > 0.23e7]\n",
    "cities = cities[cities['x'] < 0.67e7]\n",
    "cities = cities[cities['y'] > 0.1e7]\n",
    "cities = cities[cities['y'] < 0.545e7]\n",
    "# Delete these cities from the plot \n",
    "cities = cities[~cities['name'].isin(['Beirut', 'Vatican City', 'Cairo', 'Jerusalem', 'Tripoli', 'Zagreb', 'Bratislava'])]"
   ]
  },
  {
   "cell_type": "code",
   "execution_count": null,
   "metadata": {
    "id": "S-TtQLQD9GCS"
   },
   "outputs": [],
   "source": [
    "source=\"\"\"Regional level: NUTS 2/3 v2021.\n",
    "Source: WHO EPISTAT, NPGEO, mscbs.gob.es.\n",
    "santé-publique-France, statistichecoronavirus.it.\n",
    "folkhalsomyndigheten, gov.scot, Korona.gov.sk.\n",
    "data.gv.at, sso.dk, salute.gov.it.\"\"\""
   ]
  },
  {
   "cell_type": "code",
   "execution_count": null,
   "metadata": {},
   "outputs": [],
   "source": [
    "geo_cases.describe()"
   ]
  },
  {
   "cell_type": "code",
   "execution_count": null,
   "metadata": {
    "id": "nElC5EYuASYD"
   },
   "outputs": [],
   "source": [
    "# Creating the bins \n",
    "bins = [-1, 0, 5, 100, 1000, 6647]\n",
    "label = ['None', 'Less than 5', '5-100', '100-1000', 'More than 1000']\n",
    "for col in geo_cases.iloc[:, :-2]:\n",
    "    geo_cases[col] = pd.cut(geo_cases[col], bins = bins, labels= label)"
   ]
  },
  {
   "cell_type": "code",
   "execution_count": null,
   "metadata": {
    "id": "uDni0F4wA0v1"
   },
   "outputs": [],
   "source": [
    "# set mamp general general aspect \n",
    "\n",
    "plt.rcParams['axes.facecolor'] = 'white'\n",
    "plt.rcParams['axes.edgecolor'] = 'white'\n",
    "plt.rcParams['axes.grid'] = True\n",
    "plt.rcParams['grid.alpha'] = 0.4\n",
    "plt.rcParams['grid.color'] = \"white\"\n",
    "plt.rcParams['axes.facecolor'] = '#f4f9fa'"
   ]
  },
  {
   "cell_type": "code",
   "execution_count": null,
   "metadata": {
    "id": "AWrkRIsD6z0x"
   },
   "outputs": [],
   "source": [
    "## add the ESPON logo \n",
    "plt.rcParams[\"figure.figsize\"] = [7.00, 3.50]\n",
    "plt.rcParams[\"figure.autolayout\"] = True"
   ]
  },
  {
   "cell_type": "code",
   "execution_count": null,
   "metadata": {
    "id": "sGRVSvRz4acg"
   },
   "outputs": [],
   "source": [
    "plt.rcParams[\"figure.figsize\"] = [7.00, 3.50]\n",
    "plt.rcParams[\"figure.autolayout\"] = True\n",
    "plt.rcParams['figure.dpi'] = 80"
   ]
  },
  {
   "cell_type": "code",
   "execution_count": null,
   "metadata": {},
   "outputs": [],
   "source": [
    "geo_cases"
   ]
  },
  {
   "cell_type": "code",
   "execution_count": null,
   "metadata": {
    "colab": {
     "base_uri": "https://localhost:8080/",
     "height": 1000
    },
    "id": "l_aPA9-785cD",
    "outputId": "2cbf50b8-d60b-4db5-af61-1a179af746d6"
   },
   "outputs": [],
   "source": [
    "image_frames = []\n",
    "\n",
    "# # create the maps \n",
    "for i in geo_cases.iloc[:,:-2]:\n",
    "    fig, ax = plt.subplots(figsize = (12, 12))\n",
    "    # Set the global map \n",
    "    world.plot(color = '#e5e3e6', ax = ax, edgecolor = 'w', linewidth = 0.8)\n",
    "    # set out map \n",
    "    geo_cases.plot(column = geo_cases[i], ax =ax, cmap = 'RdPu', legend = True, alpha = .4,\n",
    "              linewidth = 0.3, edgecolor = 'w', categorical = True, missing_kwds={\n",
    "            \"color\": \"lightgrey\",\n",
    "            \"edgecolor\": \"red\",\n",
    "            \"hatch\": \"///\",\n",
    "            \"label\": \"Missing values\"})   \n",
    "    \n",
    "    # set the final limite\n",
    "    plt.xlim(2.4e6, 6.6e6)\n",
    "    plt.ylim(0.13e7, 0.545e7)\n",
    "    # add capitals points \n",
    "    cities.plot(ax = ax, color = 'k', markersize = 1)\n",
    "    for x, y, label in zip(cities.geometry.x, cities.geometry.y, cities.name):\n",
    "        ax.annotate(label, xy=(x, y), xytext=(1, 2), textcoords=\"offset points\", fontsize = 6.5)\n",
    "    # Disable scientific representation \n",
    "    ax.ticklabel_format(useOffset=False, style='plain')\n",
    "\n",
    "    # add the graphical-scale \n",
    "    scalebar = ScaleBar(0.66, width_fraction=None,\n",
    "            location= \"lower right\", box_alpha = 0) # 1 pixel = 0.2 meter\n",
    "    plt.gca().add_artist(scalebar)\n",
    "\n",
    "    # legend \n",
    "    leg = ax.get_legend()\n",
    "    leg.set_bbox_to_anchor((0.24, 0)) \n",
    "    leg.get_frame().set_alpha(0)\n",
    "    leg.set_title('NEW CASES')\n",
    "    plt.title(f'  Weekly new confirmed COVID-19 cases: {pd.Timestamp(i).month_name()} - {i.year}', fontweight = 'light',\n",
    "            fontsize= 14, loc = 'left', color = '#054ea2')\n",
    "    # Set outside the figure color \n",
    "    fig.patch.set_facecolor('#fbfdfe')\n",
    "    #  Set source \n",
    "    fig.text(0.92, .055, source, ha='right', fontsize = 8)\n",
    "    # add ESPON's title \n",
    "    plt.text(x = 3.5e6, y = 1.4e6, s = u\"\\u00A9 ESPON EGTC, 2021\", fontsize = 10)\n",
    "    # add bleu lines \n",
    "    plt.vlines(x = 2.4e6, ymin = 1e6, ymax = 2e6, color = '#054ea2', linewidth = 10)\n",
    "    plt.vlines(x = 2.4e6, ymin = 4.8e6, ymax = 6e6, color = '#054ea2', linewidth = 10)\n",
    "    plt.vlines(x = 6.6e6, ymin = 1e6, ymax = 6e6, color = '#054ea2', linewidth = 10)\n",
    "\n",
    "    plt.hlines(y = 0.13e7, xmin = 5.4e6, xmax = 6.6e6, color = '#054ea2', linewidth = 5)\n",
    "    plt.hlines(y = 0.545e7, xmin = 2.4e6, xmax = 3.4e6, color = '#054ea2', linewidth = 5)\n",
    "    # revome axis  \n",
    "    ax.set_xticklabels([])\n",
    "    ax.set_yticklabels([])\n",
    "    # grid params \n",
    "    plt.tick_params(bottom = False, left = False)\n",
    "    plt.grid(True, dash_capstyle = 'projecting')\n",
    "\n",
    "    # add ESPON logo \n",
    "    newax = fig.add_axes([0.1, 0.015,0.14,0.18], anchor='NE', zorder=1)\n",
    "    newax.imshow(im)\n",
    "    newax.axis('off')\n",
    "    plt.show()\n",
    "\n",
    "    img = ax.get_figure()\n",
    "    f = io.BytesIO()\n",
    "    img.savefig(f, format= 'png')\n",
    "    f.seek(0)\n",
    "    image_frames.append(PIL.Image.open(f))"
   ]
  },
  {
   "cell_type": "code",
   "execution_count": null,
   "metadata": {
    "id": "GoL3zpLzvOmw"
   },
   "outputs": [],
   "source": [
    "# create a GIF animation \n",
    "image_frames[0].save('Animated Maps/Dynamic COVID-19 cases Map.gif', format = 'GIF', append_images = image_frames[1:],\n",
    "                    save_all = True, duration = 800,\n",
    "                     loop = 2)\n",
    "f.close()"
   ]
  },
  {
   "cell_type": "markdown",
   "metadata": {},
   "source": [
    "### 1.2 Cumulitave cases"
   ]
  },
  {
   "cell_type": "code",
   "execution_count": null,
   "metadata": {},
   "outputs": [],
   "source": []
  },
  {
   "cell_type": "markdown",
   "metadata": {},
   "source": [
    "## 2. Deaths"
   ]
  },
  {
   "cell_type": "markdown",
   "metadata": {},
   "source": [
    "## 3. Exc. Mortality "
   ]
  },
  {
   "cell_type": "code",
   "execution_count": null,
   "metadata": {},
   "outputs": [],
   "source": []
  }
 ],
 "metadata": {
  "colab": {
   "collapsed_sections": [],
   "name": "ESPON animated maps.ipynb",
   "provenance": []
  },
  "kernelspec": {
   "display_name": "Python 3 (ipykernel)",
   "language": "python",
   "name": "python3"
  },
  "language_info": {
   "codemirror_mode": {
    "name": "ipython",
    "version": 3
   },
   "file_extension": ".py",
   "mimetype": "text/x-python",
   "name": "python",
   "nbconvert_exporter": "python",
   "pygments_lexer": "ipython3",
   "version": "3.9.7"
  }
 },
 "nbformat": 4,
 "nbformat_minor": 4
}
