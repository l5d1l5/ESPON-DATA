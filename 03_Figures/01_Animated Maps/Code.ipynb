{
 "cells": [
  {
   "cell_type": "code",
   "execution_count": 1,
   "metadata": {
    "id": "6YY6z6ZZAzU2"
   },
   "outputs": [],
   "source": [
    "# import modules \n",
    "import matplotlib.cbook as cbook\n",
    "from matplotlib_scalebar.scalebar import ScaleBar\n",
    "import pandas as pd \n",
    "import geopandas as gpd \n",
    "import matplotlib.pyplot as plt \n",
    "import numpy as np\n",
    "import PIL\n",
    "import io\n",
    "import geoplot \n",
    "%matplotlib inline\n",
    "%config InlineBackend.figure_format='retina'"
   ]
  },
  {
   "cell_type": "code",
   "execution_count": 2,
   "metadata": {},
   "outputs": [
    {
     "data": {
      "text/html": [
       "<div>\n",
       "<style scoped>\n",
       "    .dataframe tbody tr th:only-of-type {\n",
       "        vertical-align: middle;\n",
       "    }\n",
       "\n",
       "    .dataframe tbody tr th {\n",
       "        vertical-align: top;\n",
       "    }\n",
       "\n",
       "    .dataframe thead th {\n",
       "        text-align: right;\n",
       "    }\n",
       "</style>\n",
       "<table border=\"1\" class=\"dataframe\">\n",
       "  <thead>\n",
       "    <tr style=\"text-align: right;\">\n",
       "      <th></th>\n",
       "      <th>NUTS_ID</th>\n",
       "      <th>nuts_name</th>\n",
       "      <th>Population</th>\n",
       "    </tr>\n",
       "  </thead>\n",
       "  <tbody>\n",
       "    <tr>\n",
       "      <th>0</th>\n",
       "      <td>EU27_2020</td>\n",
       "      <td>European Union - 27 countries (from 2020)</td>\n",
       "      <td>447319916</td>\n",
       "    </tr>\n",
       "    <tr>\n",
       "      <th>1</th>\n",
       "      <td>EU28</td>\n",
       "      <td>European Union - 28 countries (2013-2020)</td>\n",
       "      <td>:</td>\n",
       "    </tr>\n",
       "    <tr>\n",
       "      <th>2</th>\n",
       "      <td>EU27_2007</td>\n",
       "      <td>European Union - 27 countries (2007-2013)</td>\n",
       "      <td>:</td>\n",
       "    </tr>\n",
       "    <tr>\n",
       "      <th>3</th>\n",
       "      <td>BE</td>\n",
       "      <td>Belgium</td>\n",
       "      <td>11522440</td>\n",
       "    </tr>\n",
       "    <tr>\n",
       "      <th>4</th>\n",
       "      <td>BE1</td>\n",
       "      <td>Région de Bruxelles-Capitale/Brussels Hoofdste...</td>\n",
       "      <td>1223364</td>\n",
       "    </tr>\n",
       "    <tr>\n",
       "      <th>...</th>\n",
       "      <td>...</td>\n",
       "      <td>...</td>\n",
       "      <td>...</td>\n",
       "    </tr>\n",
       "    <tr>\n",
       "      <th>2785</th>\n",
       "      <td>PL62</td>\n",
       "      <td>NaN</td>\n",
       "      <td>2337769</td>\n",
       "    </tr>\n",
       "    <tr>\n",
       "      <th>2786</th>\n",
       "      <td>PL63</td>\n",
       "      <td>NaN</td>\n",
       "      <td>2337769</td>\n",
       "    </tr>\n",
       "    <tr>\n",
       "      <th>2787</th>\n",
       "      <td>PL33</td>\n",
       "      <td>NaN</td>\n",
       "      <td>1237369</td>\n",
       "    </tr>\n",
       "    <tr>\n",
       "      <th>2788</th>\n",
       "      <td>PL34</td>\n",
       "      <td>NaN</td>\n",
       "      <td>1179430</td>\n",
       "    </tr>\n",
       "    <tr>\n",
       "      <th>2789</th>\n",
       "      <td>PL41</td>\n",
       "      <td>NaN</td>\n",
       "      <td>3495470</td>\n",
       "    </tr>\n",
       "  </tbody>\n",
       "</table>\n",
       "<p>2790 rows × 3 columns</p>\n",
       "</div>"
      ],
      "text/plain": [
       "        NUTS_ID                                          nuts_name Population\n",
       "0     EU27_2020          European Union - 27 countries (from 2020)  447319916\n",
       "1          EU28          European Union - 28 countries (2013-2020)          :\n",
       "2     EU27_2007          European Union - 27 countries (2007-2013)          :\n",
       "3            BE                                            Belgium   11522440\n",
       "4           BE1  Région de Bruxelles-Capitale/Brussels Hoofdste...    1223364\n",
       "...         ...                                                ...        ...\n",
       "2785       PL62                                                NaN    2337769\n",
       "2786       PL63                                                NaN    2337769\n",
       "2787       PL33                                                NaN    1237369\n",
       "2788       PL34                                                NaN    1179430\n",
       "2789       PL41                                                NaN    3495470\n",
       "\n",
       "[2790 rows x 3 columns]"
      ]
     },
     "execution_count": 2,
     "metadata": {},
     "output_type": "execute_result"
    }
   ],
   "source": [
    "## read the population data \n",
    "population = pd.read_excel('../../02_Data/population_2020.xlsx')\n",
    "population"
   ]
  },
  {
   "cell_type": "code",
   "execution_count": 3,
   "metadata": {
    "id": "w3C2O--44RV2"
   },
   "outputs": [],
   "source": [
    "# read ESPON LOGO \n",
    "im = plt.imread('Extra/espon-eu-logo-vector.png') # insert local ESPON logo."
   ]
  },
  {
   "cell_type": "code",
   "execution_count": 4,
   "metadata": {
    "id": "tqd4Rl--nBXB"
   },
   "outputs": [],
   "source": [
    "# make the base map \n",
    "world = gpd.read_file(gpd.datasets.get_path('naturalearth_lowres'))\n",
    "cities = gpd.read_file(gpd.datasets.get_path('naturalearth_cities'))"
   ]
  },
  {
   "cell_type": "code",
   "execution_count": 5,
   "metadata": {},
   "outputs": [],
   "source": [
    "fiji = world.query('name == \"Fiji\"')[['geometry']]"
   ]
  },
  {
   "cell_type": "code",
   "execution_count": 6,
   "metadata": {},
   "outputs": [],
   "source": [
    "# Read shape file and associate data.\n",
    "v3 = gpd.read_file('../../02_Data/01_GIS/01_ESPON Narrow MapKit NUTS2016/nuts-version2016-level3.shp')\n",
    "## read the shape file \n",
    "shape = gpd.read_file('../../02_Data/01_GIS/02_Full file/NUTS_COVID.shp')\n",
    "add = v3[v3['id'].str.contains('IE')].drop('name', axis =1)\n",
    "add = add.to_crs(epsg = 4326)\n",
    "add.rename(columns = {\"id\": 'NUTS_ID'}, inplace = True)\n",
    "nor = gpd.read_file('../../02_Data/01_GIS/03_Norway_GIS/Norway.shp')\n",
    "nor.rename(columns = {'UID': 'NUTS_ID'}, inplace = True)\n",
    "nor = nor.to_crs(epsg = 4326)\n",
    "shape = pd.concat([shape, nor, add])\n",
    "shape = shape[~(shape['CNTR_CODE'].isin(['TR', 'RS', 'MK', 'ME', 'AL']))][['NUTS_ID', 'geometry', 'LEVL_CODE']]\n",
    "world = gpd.read_file(gpd.datasets.get_path('naturalearth_lowres'))\n",
    "continents = world.dissolve()\n",
    "\n",
    "# read shape file by ESPON\n",
    "# shp0 = gpd.read_file('../../02_Data/01_GIS/01_ESPON Narrow MapKit NUTS2016/nuts-version2016-level0.shp')\n",
    "# shp1 = gpd.read_file('/content/drive/MyDrive/Colab Notebooks/Data/ESPON MAPS/nuts-version2016-level1.shp')\n",
    "# shp2 = gpd.read_file('/content/drive/MyDrive/Colab Notebooks/Data/ESPON MAPS/nuts-version2016-level2.shp')\n",
    "# shp3 = gpd.read_file('/content/drive/MyDrive/Colab Notebooks/Data/ESPON MAPS/nuts-version2016-level3.shp')"
   ]
  },
  {
   "cell_type": "markdown",
   "metadata": {},
   "source": [
    "##### make the figures"
   ]
  },
  {
   "cell_type": "code",
   "execution_count": null,
   "metadata": {},
   "outputs": [],
   "source": [
    "# set mamp general general aspect \n",
    "\n",
    "plt.rcParams['axes.facecolor'] = 'white'\n",
    "plt.rcParams['axes.edgecolor'] = 'white'\n",
    "plt.rcParams['axes.grid'] = True\n",
    "plt.rcParams['grid.alpha'] = 0.4\n",
    "plt.rcParams['grid.color'] = \"white\"\n",
    "plt.rcParams['axes.facecolor'] = '#f4f9fa'"
   ]
  },
  {
   "cell_type": "code",
   "execution_count": null,
   "metadata": {},
   "outputs": [],
   "source": [
    "## add the ESPON logo \n",
    "plt.rcParams[\"figure.figsize\"] = [7.00, 3.50]\n",
    "plt.rcParams[\"figure.autolayout\"] = True"
   ]
  },
  {
   "cell_type": "code",
   "execution_count": null,
   "metadata": {},
   "outputs": [],
   "source": [
    "plt.rcParams[\"figure.figsize\"] = [7.00, 3.50]\n",
    "plt.rcParams[\"figure.autolayout\"] = True\n",
    "plt.rcParams['figure.dpi'] = 80"
   ]
  },
  {
   "cell_type": "markdown",
   "metadata": {},
   "source": [
    "## 1. Cases"
   ]
  },
  {
   "cell_type": "markdown",
   "metadata": {},
   "source": [
    "### 1.1 New cases"
   ]
  },
  {
   "cell_type": "code",
   "execution_count": null,
   "metadata": {
    "colab": {
     "base_uri": "https://localhost:8080/",
     "height": 554
    },
    "id": "EZbrZHTGnAnl",
    "outputId": "07a47622-b895-4878-da3e-f941e2576acc"
   },
   "outputs": [],
   "source": [
    "## Read the data \n",
    "# Cases\n",
    "cases = pd.read_csv('../../02_Data/02_Pandemic variables/01_Cases/EU_Cases_Weekly_Unstacked.csv')\n",
    "cases.rename(columns = {\"Unnamed: 0\": 'nuts_id'}, inplace= True)\n",
    "cases = cases.melt(id_vars = 'nuts_id', var_name = 'date', value_name = 'cases')\n",
    "cases['date'] = pd.to_datetime(cases['date']).dt.date\n",
    "cases = cases.pivot_table(index = 'nuts_id', columns = 'date', values = 'cases')\n",
    "cases = cases.iloc[:, 3:-9]\n",
    "cases.fillna(0, inplace = True)\n",
    "cases"
   ]
  },
  {
   "cell_type": "code",
   "execution_count": null,
   "metadata": {},
   "outputs": [],
   "source": [
    "# cases = cases.fillna(method = 'ffill')"
   ]
  },
  {
   "cell_type": "code",
   "execution_count": null,
   "metadata": {
    "id": "hqByOVWo5nAz"
   },
   "outputs": [],
   "source": [
    "# turn dataframes into GeoDataFrames \n",
    "geo_cases = gpd.GeoDataFrame(pd.merge(cases, shape, left_on = cases.index, right_on = 'NUTS_ID').fillna(np.nan))\n",
    "geo_cases = pd.concat([geo_cases,fiji])"
   ]
  },
  {
   "cell_type": "code",
   "execution_count": null,
   "metadata": {
    "id": "2Q3FfpfBIpTm"
   },
   "outputs": [],
   "source": [
    "# change the CRS to Europe \n",
    "geo_cases = geo_cases.to_crs(epsg=3035) \n",
    "shape = shape.to_crs(epsg=3035) \n",
    "continenets = continents.to_crs(epsg=3035) \n",
    "world = world.to_crs(epsg = 3035)\n",
    "cities = cities.to_crs(epsg = 3035)"
   ]
  },
  {
   "cell_type": "code",
   "execution_count": null,
   "metadata": {
    "id": "N4N1jJXvxZhf"
   },
   "outputs": [],
   "source": [
    "# Selecting only cities we want to see on the plot   \n",
    "cities['x'] = cities['geometry'].x\n",
    "cities['y'] = cities['geometry'].y\n",
    "cities = cities[cities['x'] > 0.23e7]\n",
    "cities = cities[cities['x'] < 0.67e7]\n",
    "cities = cities[cities['y'] > 0.1e7]\n",
    "cities = cities[cities['y'] < 0.545e7]\n",
    "# Delete these cities from the plot \n",
    "cities = cities[~cities['name'].isin(['Beirut', 'Vatican City', 'Cairo', 'Jerusalem', 'Tripoli', 'Zagreb', 'Bratislava'])]"
   ]
  },
  {
   "cell_type": "code",
   "execution_count": null,
   "metadata": {
    "id": "S-TtQLQD9GCS"
   },
   "outputs": [],
   "source": [
    "source=\"\"\"Regional level: NUTS3 v2016 | Data version 2021.\n",
    "Source: WHO EPISTAT, NPGEO, mscbs.gob.es.\n",
    "santé-publique-France, statistichecoronavirus.it.\n",
    "folkhalsomyndigheten, gov.scot, Korona.gov.sk.\n",
    "data.gv.at, sso.dk, salute.gov.it.\"\"\""
   ]
  },
  {
   "cell_type": "code",
   "execution_count": null,
   "metadata": {
    "id": "nElC5EYuASYD"
   },
   "outputs": [],
   "source": [
    "# Creating the bins \n",
    "bins = [-1, 5, 100, 1000, 5000, 43040]\n",
    "label = ['Less than 5', '5-100', '100-1000', '1000 - 500' , 'More than 1000']\n",
    "for col in geo_cases.iloc[:, :-3]:\n",
    "    geo_cases[col] = pd.cut(geo_cases[col], bins = bins, labels= label)"
   ]
  },
  {
   "cell_type": "code",
   "execution_count": null,
   "metadata": {},
   "outputs": [],
   "source": [
    "geo_cases"
   ]
  },
  {
   "cell_type": "code",
   "execution_count": null,
   "metadata": {
    "colab": {
     "base_uri": "https://localhost:8080/",
     "height": 1000
    },
    "id": "l_aPA9-785cD",
    "outputId": "2cbf50b8-d60b-4db5-af61-1a179af746d6"
   },
   "outputs": [],
   "source": [
    "image_frames = []\n",
    "\n",
    "# # create the maps \n",
    "for i in geo_cases.iloc[:,:-3]:\n",
    "    fig, ax = plt.subplots(figsize = (12, 12))\n",
    "    # set out map \n",
    "    geo_cases.plot(column = geo_cases[i], ax =ax, cmap = 'RdPu', legend = True, alpha = .4,\n",
    "              linewidth = 0.5, edgecolor = 'w', categorical = True, missing_kwds={\n",
    "            \"color\": \"lightgrey\",\n",
    "            \"edgecolor\": \"red\",\n",
    "            \"hatch\": \"///\",\n",
    "            \"label\": \"Missing values\"})   \n",
    "    # add countries boundaries \n",
    "    world.query('continent == \"Europe\"').dissolve().boundary.plot(color = 'black', linewidth = 3, alpha = 0.09, ax = ax, zorder = -1)\n",
    "    world.plot(ax = ax, color = 'grey', alpha = .1, zorder=0)\n",
    "    shape.query('LEVL_CODE == 0').boundary.plot(color = 'w', linewidth = 1.4 , zorder  =1, ax =ax)\n",
    "    world.query('continent == \"Africa\"').boundary.plot(color = 'w', linewidth = 1.4 , zorder  =1, ax =ax)\n",
    "    shape.query('LEVL_CODE == 3').boundary.plot(color = 'gray', linewidth = 0.5, zorder=1, ax =ax, alpha = 0.09)\n",
    "    # set the final limite\n",
    "    plt.xlim(2.4e6, 6.6e6)\n",
    "    plt.ylim(0.13e7, 0.545e7)\n",
    "    # add capitals points \n",
    "    cities.plot(ax = ax, color = 'k', markersize = 1)\n",
    "    for x, y, label in zip(cities.geometry.x, cities.geometry.y, cities.name):\n",
    "        ax.annotate(label, xy=(x, y), xytext=(1, 2), textcoords=\"offset points\", fontsize = 6.5)\n",
    "    # Disable scientific representation \n",
    "    ax.ticklabel_format(useOffset=False, style='plain')\n",
    "\n",
    "    # add the graphical-scale \n",
    "    scalebar = ScaleBar(0.66, width_fraction=None,\n",
    "            location= \"lower right\", box_alpha = 0, length_fraction = 0.08,\n",
    "                       height_fraction  = 0.003) # 1 pixel = 0.2 meter\n",
    "    plt.gca().add_artist(scalebar)\n",
    "\n",
    "    # legend \n",
    "    leg = ax.get_legend()\n",
    "    leg.set_bbox_to_anchor((0.24, 0)) \n",
    "    leg.get_frame().set_alpha(0)\n",
    "    leg.set_title('New cases')\n",
    "    plt.title(f'  Weekly new confirmed COVID-19 cases: {pd.Timestamp(i).month_name()} (week {pd.Timestamp(i).week}) - {i.year}', fontweight = 'light',\n",
    "            fontsize= 14, loc = 'left', color = '#054ea2')\n",
    "    # Set outside the figure color \n",
    "    fig.patch.set_facecolor('#fbfdfe')\n",
    "    #  Set source \n",
    "    fig.text(0.92, .055, source, ha='right', fontsize = 8)\n",
    "    # add ESPON's title \n",
    "    plt.text(x = 3.5e6, y = 1.4e6, s = u\"\\u00A9 ESPON EGTC, 2021\", fontsize = 10)\n",
    "    # add bleu lines \n",
    "    plt.vlines(x = 2.4e6, ymin = 1e6, ymax = 2e6, color = '#054ea2', linewidth = 10)\n",
    "    plt.vlines(x = 2.4e6, ymin = 4.8e6, ymax = 6e6, color = '#054ea2', linewidth = 10)\n",
    "    plt.vlines(x = 6.6e6, ymin = 1e6, ymax = 6e6, color = '#054ea2', linewidth = 10)\n",
    "\n",
    "    plt.hlines(y = 0.13e7, xmin = 5.4e6, xmax = 6.6e6, color = '#054ea2', linewidth = 5)\n",
    "    plt.hlines(y = 0.545e7, xmin = 2.4e6, xmax = 3.4e6, color = '#054ea2', linewidth = 5)\n",
    "    # revome axis  \n",
    "    ax.set_xticklabels([])\n",
    "    ax.set_yticklabels([])\n",
    "    # grid params \n",
    "    plt.tick_params(bottom = False, left = False)\n",
    "    plt.grid(True, dash_capstyle = 'projecting')\n",
    "\n",
    "    # add ESPON logo \n",
    "    newax = fig.add_axes([0.1, 0.003,0.14,0.18], anchor='NE', zorder=1)\n",
    "    newax.imshow(im)\n",
    "    newax.axis('off')\n",
    "    plt.show()\n",
    "\n",
    "    img = ax.get_figure()\n",
    "    f = io.BytesIO()\n",
    "    img.savefig(f, format= 'png')\n",
    "    f.seek(0)\n",
    "    image_frames.append(PIL.Image.open(f))"
   ]
  },
  {
   "cell_type": "code",
   "execution_count": null,
   "metadata": {
    "id": "GoL3zpLzvOmw"
   },
   "outputs": [],
   "source": [
    "# create a GIF animation \n",
    "image_frames[0].save('Animated Maps/Dynamic COVID-19 new cases Map.gif', format = 'GIF', append_images = image_frames[1:],\n",
    "                    save_all = True, duration = 800,\n",
    "                     loop = 2)\n",
    "f.close()"
   ]
  },
  {
   "cell_type": "markdown",
   "metadata": {},
   "source": [
    "### 1.2 Cumulitave cases"
   ]
  },
  {
   "cell_type": "code",
   "execution_count": null,
   "metadata": {},
   "outputs": [],
   "source": [
    "cases_cumsum = np.cumsum(cases, axis =1)"
   ]
  },
  {
   "cell_type": "code",
   "execution_count": null,
   "metadata": {},
   "outputs": [],
   "source": [
    "# turn dataframes into GeoDataFrames \n",
    "cumsum_cases = gpd.GeoDataFrame(pd.merge(cases_cumsum, shape, left_on = cases.index, right_on = 'NUTS_ID').fillna(np.nan))\n",
    "# cumsum_cases = pd.concat([geo_cases,fiji])"
   ]
  },
  {
   "cell_type": "code",
   "execution_count": null,
   "metadata": {},
   "outputs": [],
   "source": [
    "cumsum_cases"
   ]
  },
  {
   "cell_type": "code",
   "execution_count": null,
   "metadata": {},
   "outputs": [],
   "source": [
    "# Creating the bins \n",
    "bins = [0, 50, 100, 1_000, 10_000, 30_000, 60_000,  900_000]\n",
    "label = ['Less than 50', '50 - 100', 'Less than 1 thousand', '1 - 10 thousands',\n",
    "         '10 - 300 thousands', '300 - 600 thousands', 'More than 600 thousands']\n",
    "for col in cumsum_cases.iloc[:, :-3]:\n",
    "    cumsum_cases[col] = pd.cut(cumsum_cases[col], bins = bins, labels= label)"
   ]
  },
  {
   "cell_type": "code",
   "execution_count": null,
   "metadata": {},
   "outputs": [],
   "source": [
    "# change the CRS to Europe \n",
    "cumsum_cases = cumsum_cases.to_crs(epsg=3035) "
   ]
  },
  {
   "cell_type": "code",
   "execution_count": null,
   "metadata": {},
   "outputs": [],
   "source": [
    "image_frames = []\n",
    "\n",
    "# # create the maps \n",
    "for i in cumsum_cases.iloc[:,:-3]:\n",
    "    fig, ax = plt.subplots(figsize = (12, 12))\n",
    "    # set out map \n",
    "    cumsum_cases.plot(column = cumsum_cases[i], ax =ax, cmap = 'RdPu', legend = True, alpha = .4,\n",
    "              linewidth = 0.5, edgecolor = 'w', categorical = True)   \n",
    "    # add countries boundaries \n",
    "    world.query('continent == \"Europe\"').dissolve().boundary.plot(color = 'black', linewidth = 3, alpha = 0.09, ax = ax, zorder = -1)\n",
    "    world.plot(ax = ax, color = 'grey', alpha = .1, zorder=0)\n",
    "    shape.query('LEVL_CODE == 0').boundary.plot(color = 'w', linewidth = 1.4 , zorder  =1, ax =ax)\n",
    "    world.query('continent == \"Africa\"').boundary.plot(color = 'w', linewidth = 1.4 , zorder  =1, ax =ax)\n",
    "    shape.query('LEVL_CODE == 3').boundary.plot(color = 'w', linewidth = 0.5, zorder=1, ax =ax, alpha = 0.09)\n",
    "    # set the final limite\n",
    "    plt.xlim(2.4e6, 6.6e6)\n",
    "    plt.ylim(0.13e7, 0.545e7)\n",
    "    # add capitals points \n",
    "    cities.plot(ax = ax, color = 'k', markersize = 1)\n",
    "    for x, y, label in zip(cities.geometry.x, cities.geometry.y, cities.name):\n",
    "        ax.annotate(label, xy=(x, y), xytext=(1, 2), textcoords=\"offset points\", fontsize = 6.5)\n",
    "    # Disable scientific representation \n",
    "    ax.ticklabel_format(useOffset=False, style='plain')\n",
    "\n",
    "    # add the graphical-scale \n",
    "    scalebar = ScaleBar(0.66, width_fraction=None,\n",
    "            location= \"lower right\", box_alpha = 0, length_fraction = 0.08,\n",
    "                       height_fraction  = 0.003) # 1 pixel = 0.2 meter\n",
    "    plt.gca().add_artist(scalebar)\n",
    "\n",
    "    # legend \n",
    "    leg = ax.get_legend()\n",
    "    leg.set_bbox_to_anchor((0.24, 0)) \n",
    "    leg.get_frame().set_alpha(0)\n",
    "    leg.set_title('Cumulative cases')\n",
    "    plt.title(f'  Weekly cumulative confirmed COVID-19 cases: {pd.Timestamp(i).month_name()} (week {pd.Timestamp(i).week}) - {i.year}', fontweight = 'light',\n",
    "            fontsize= 14, loc = 'left', color = '#054ea2')\n",
    "    # Set outside the figure color \n",
    "    fig.patch.set_facecolor('#fbfdfe')\n",
    "    #  Set source \n",
    "    fig.text(0.92, .055, source, ha='right', fontsize = 8)\n",
    "    # add ESPON's title \n",
    "    plt.text(x = 3.5e6, y = 1.4e6, s = u\"\\u00A9 ESPON EGTC, 2021\", fontsize = 10)\n",
    "    # add bleu lines \n",
    "    plt.vlines(x = 2.4e6, ymin = 1e6, ymax = 2e6, color = '#054ea2', linewidth = 10)\n",
    "    plt.vlines(x = 2.4e6, ymin = 4.8e6, ymax = 6e6, color = '#054ea2', linewidth = 10)\n",
    "    plt.vlines(x = 6.6e6, ymin = 1e6, ymax = 6e6, color = '#054ea2', linewidth = 10)\n",
    "\n",
    "    plt.hlines(y = 0.13e7, xmin = 5.4e6, xmax = 6.6e6, color = '#054ea2', linewidth = 5)\n",
    "    plt.hlines(y = 0.545e7, xmin = 2.4e6, xmax = 3.4e6, color = '#054ea2', linewidth = 5)\n",
    "    # revome axis  \n",
    "    ax.set_xticklabels([])\n",
    "    ax.set_yticklabels([])\n",
    "    # grid params \n",
    "    plt.tick_params(bottom = False, left = False)\n",
    "    plt.grid(True, dash_capstyle = 'projecting')\n",
    "\n",
    "    # add ESPON logo \n",
    "    newax = fig.add_axes([0.1, 0.02,0.14,0.18], anchor='NE', zorder=1)\n",
    "    newax.imshow(im)\n",
    "    newax.axis('off')\n",
    "    plt.show()\n",
    "\n",
    "    img = ax.get_figure()\n",
    "    f = io.BytesIO()\n",
    "    img.savefig(f, format= 'png')\n",
    "    f.seek(0)\n",
    "    image_frames.append(PIL.Image.open(f))"
   ]
  },
  {
   "cell_type": "code",
   "execution_count": null,
   "metadata": {},
   "outputs": [],
   "source": [
    "# create a GIF animation \n",
    "image_frames[0].save('Animated Maps/Dynamic COVID-19 cumulative cases Map.gif', format = 'GIF', append_images = image_frames[1:],\n",
    "                    save_all = True, duration = 800,\n",
    "                     loop = 2)\n",
    "f.close()"
   ]
  },
  {
   "cell_type": "markdown",
   "metadata": {},
   "source": [
    "##### 1. cases density "
   ]
  },
  {
   "cell_type": "code",
   "execution_count": null,
   "metadata": {},
   "outputs": [],
   "source": [
    "d_cases = pd.merge(cases.reset_index(), population, left_on = 'nuts_id', right_on = 'NUTS_ID').drop('nuts_id', axis =1)\n",
    "d_cases"
   ]
  },
  {
   "cell_type": "code",
   "execution_count": null,
   "metadata": {},
   "outputs": [],
   "source": [
    "density_cases = (d_cases.iloc[:,:-3].div(d_cases['Population'], axis=0) * 10_000).set_index(d_cases['NUTS_ID'])\n",
    "density_cases"
   ]
  },
  {
   "cell_type": "code",
   "execution_count": null,
   "metadata": {},
   "outputs": [],
   "source": [
    "geo_density_cases = gpd.GeoDataFrame(pd.merge(density_cases, shape, left_on = density_cases.index, right_on = 'NUTS_ID').fillna(np.nan))\n",
    "geo_density_cases.head(3)"
   ]
  },
  {
   "cell_type": "code",
   "execution_count": null,
   "metadata": {},
   "outputs": [],
   "source": [
    "q = geo_density_cases.round(decimals = 2)\n",
    "q.columns = [str(col) for col in q.columns]"
   ]
  },
  {
   "cell_type": "code",
   "execution_count": null,
   "metadata": {},
   "outputs": [],
   "source": [
    "q['center'] = q['geometry'].centroid"
   ]
  },
  {
   "cell_type": "code",
   "execution_count": null,
   "metadata": {},
   "outputs": [],
   "source": [
    "q['X'] = q['center'].x\n",
    "q['Y'] = q['center'].y"
   ]
  },
  {
   "cell_type": "code",
   "execution_count": null,
   "metadata": {},
   "outputs": [],
   "source": [
    "q.drop(['geometry', 'LEVL_CODE', 'NUTS_ID', 'center'], axis =1).to_csv('data.csv')"
   ]
  },
  {
   "cell_type": "code",
   "execution_count": null,
   "metadata": {},
   "outputs": [],
   "source": [
    "(q['center']).to_file('cases_density/points.shp')"
   ]
  },
  {
   "cell_type": "code",
   "execution_count": null,
   "metadata": {},
   "outputs": [],
   "source": [
    "# Creating the bins a\n",
    "bins = [0, 0.5, 1, 5, 10, 40, 80, 150, 2966]\n",
    "label = ['< 0.5', '0.5 - 1', '1 - 5', '5 - 10', '',\n",
    "         '40 - 80', '80 - 150', 'More than 150']\n",
    "for col in geo_density_cases.iloc[:, :-3]:\n",
    "    geo_density_cases[col] = pd.cut(geo_density_cases[col], bins = bins, labels= label)"
   ]
  },
  {
   "cell_type": "code",
   "execution_count": null,
   "metadata": {},
   "outputs": [],
   "source": [
    "image_frames = []\n",
    "\n",
    "# # create the maps \n",
    "for i in geo_density_cases.iloc[:,:-3]:\n",
    "    fig, ax = plt.subplots(figsize = (12, 12))\n",
    "    # set out map \n",
    "    geo_density_cases.plot(column = geo_density_cases[i], ax =ax, cmap = 'RdPu', legend = True, alpha = .4,\n",
    "              linewidth = 0.5, edgecolor = 'w', categorical = True)   \n",
    "    # add countries boundaries \n",
    "    world.query('continent == \"Europe\"').dissolve().boundary.plot(color = 'black', linewidth = 3, alpha = 0.09, ax = ax, zorder = -1)\n",
    "    world.plot(ax = ax, color = 'grey', alpha = .1, zorder=0)\n",
    "    shape.query('LEVL_CODE == 0').boundary.plot(color = 'w', linewidth = 1.4 , zorder  =1, ax =ax)\n",
    "    world.query('continent == \"Africa\"').boundary.plot(color = 'w', linewidth = 1.4 , zorder  =1, ax =ax)\n",
    "    shape.query('LEVL_CODE == 3').boundary.plot(color = 'w', linewidth = 0.5, zorder=1, ax =ax, alpha = 0.09)\n",
    "    # set the final limite\n",
    "    plt.xlim(2.4e6, 6.6e6)\n",
    "    plt.ylim(0.13e7, 0.545e7)\n",
    "    # add capitals points \n",
    "    cities.plot(ax = ax, color = 'k', markersize = 1)\n",
    "    for x, y, label in zip(cities.geometry.x, cities.geometry.y, cities.name):\n",
    "        ax.annotate(label, xy=(x, y), xytext=(1, 2), textcoords=\"offset points\", fontsize = 6.5)\n",
    "    # Disable scientific representation \n",
    "    ax.ticklabel_format(useOffset=False, style='plain')\n",
    "\n",
    "    # add the graphical-scale \n",
    "    scalebar = ScaleBar(0.66, width_fraction=None,\n",
    "            location= \"lower right\", box_alpha = 0, length_fraction = 0.08,\n",
    "                       height_fraction  = 0.003) # 1 pixel = 0.2 meter\n",
    "    plt.gca().add_artist(scalebar)\n",
    "\n",
    "    # legend \n",
    "    leg = ax.get_legend()\n",
    "    leg.set_bbox_to_anchor((0.24, 0)) \n",
    "    leg.get_frame().set_alpha(0)\n",
    "    leg.set_title('Cases density')\n",
    "    plt.title(f'  Weekly COVID-19 cases density: {pd.Timestamp(i).month_name()} (week {pd.Timestamp(i).week}) - {i.year}', fontweight = 'light',\n",
    "            fontsize= 14, loc = 'left', color = '#054ea2')\n",
    "    # Set outside the figure color \n",
    "    fig.patch.set_facecolor('#fbfdfe')\n",
    "    #  Set source \n",
    "    fig.text(0.92, .055, source, ha='right', fontsize = 8)\n",
    "    # add ESPON's title \n",
    "    plt.text(x = 3.5e6, y = 1.4e6, s = u\"\\u00A9 ESPON EGTC, 2021\", fontsize = 10)\n",
    "    # add bleu lines \n",
    "    plt.vlines(x = 2.4e6, ymin = 1e6, ymax = 2e6, color = '#054ea2', linewidth = 10)\n",
    "    plt.vlines(x = 2.4e6, ymin = 4.8e6, ymax = 6e6, color = '#054ea2', linewidth = 10)\n",
    "    plt.vlines(x = 6.6e6, ymin = 1e6, ymax = 6e6, color = '#054ea2', linewidth = 10)\n",
    "\n",
    "    plt.hlines(y = 0.13e7, xmin = 5.4e6, xmax = 6.6e6, color = '#054ea2', linewidth = 5)\n",
    "    plt.hlines(y = 0.545e7, xmin = 2.4e6, xmax = 3.4e6, color = '#054ea2', linewidth = 5)\n",
    "    # revome axis  \n",
    "    ax.set_xticklabels([])\n",
    "    ax.set_yticklabels([])\n",
    "    # grid params \n",
    "    plt.tick_params(bottom = False, left = False)\n",
    "    plt.grid(True, dash_capstyle = 'projecting')\n",
    "\n",
    "    # add ESPON logo \n",
    "    newax = fig.add_axes([0.1, 0.02,0.14,0.18], anchor='NE', zorder=1)\n",
    "    newax.imshow(im)\n",
    "    newax.axis('off')\n",
    "    plt.show()\n",
    "\n",
    "    img = ax.get_figure()\n",
    "    f = io.BytesIO()\n",
    "    img.savefig(f, format= 'png')\n",
    "    f.seek(0)\n",
    "    image_frames.append(PIL.Image.open(f))"
   ]
  },
  {
   "cell_type": "code",
   "execution_count": null,
   "metadata": {},
   "outputs": [],
   "source": [
    "# create a GIF animation \n",
    "image_frames[0].save('Animated Maps/Dynamic COVID-19 case density Map.gif', format = 'GIF', append_images = image_frames[1:],\n",
    "                    save_all = True, duration = 800,\n",
    "                     loop = 2)\n",
    "f.close()"
   ]
  },
  {
   "cell_type": "markdown",
   "metadata": {},
   "source": [
    "## 2. Deaths"
   ]
  },
  {
   "cell_type": "markdown",
   "metadata": {},
   "source": [
    "### 2.1 New deaths "
   ]
  },
  {
   "cell_type": "code",
   "execution_count": 7,
   "metadata": {},
   "outputs": [
    {
     "data": {
      "text/html": [
       "<div>\n",
       "<style scoped>\n",
       "    .dataframe tbody tr th:only-of-type {\n",
       "        vertical-align: middle;\n",
       "    }\n",
       "\n",
       "    .dataframe tbody tr th {\n",
       "        vertical-align: top;\n",
       "    }\n",
       "\n",
       "    .dataframe thead th {\n",
       "        text-align: right;\n",
       "    }\n",
       "</style>\n",
       "<table border=\"1\" class=\"dataframe\">\n",
       "  <thead>\n",
       "    <tr style=\"text-align: right;\">\n",
       "      <th>date</th>\n",
       "      <th>2020-01-26</th>\n",
       "      <th>2020-02-02</th>\n",
       "      <th>2020-02-08</th>\n",
       "      <th>2020-02-16</th>\n",
       "      <th>2020-02-23</th>\n",
       "      <th>2020-03-05</th>\n",
       "      <th>2020-03-15</th>\n",
       "      <th>2020-03-22</th>\n",
       "      <th>2020-03-29</th>\n",
       "      <th>2020-04-10</th>\n",
       "      <th>...</th>\n",
       "      <th>2021-10-01</th>\n",
       "      <th>2021-10-10</th>\n",
       "      <th>2021-10-17</th>\n",
       "      <th>2021-10-24</th>\n",
       "      <th>2021-10-31</th>\n",
       "      <th>2021-11-04</th>\n",
       "      <th>2021-11-07</th>\n",
       "      <th>2021-11-14</th>\n",
       "      <th>2021-11-21</th>\n",
       "      <th>2021-11-28</th>\n",
       "    </tr>\n",
       "    <tr>\n",
       "      <th>nuts_id</th>\n",
       "      <th></th>\n",
       "      <th></th>\n",
       "      <th></th>\n",
       "      <th></th>\n",
       "      <th></th>\n",
       "      <th></th>\n",
       "      <th></th>\n",
       "      <th></th>\n",
       "      <th></th>\n",
       "      <th></th>\n",
       "      <th></th>\n",
       "      <th></th>\n",
       "      <th></th>\n",
       "      <th></th>\n",
       "      <th></th>\n",
       "      <th></th>\n",
       "      <th></th>\n",
       "      <th></th>\n",
       "      <th></th>\n",
       "      <th></th>\n",
       "      <th></th>\n",
       "    </tr>\n",
       "  </thead>\n",
       "  <tbody>\n",
       "    <tr>\n",
       "      <th>AT111</th>\n",
       "      <td>0.0</td>\n",
       "      <td>0.0</td>\n",
       "      <td>0.0</td>\n",
       "      <td>0.0</td>\n",
       "      <td>0.0</td>\n",
       "      <td>0.0</td>\n",
       "      <td>0.0</td>\n",
       "      <td>1.0</td>\n",
       "      <td>0.0</td>\n",
       "      <td>0.0</td>\n",
       "      <td>...</td>\n",
       "      <td>1.0</td>\n",
       "      <td>0.0</td>\n",
       "      <td>0.0</td>\n",
       "      <td>0.0</td>\n",
       "      <td>0.0</td>\n",
       "      <td>4.0</td>\n",
       "      <td>0.0</td>\n",
       "      <td>1.0</td>\n",
       "      <td>0.0</td>\n",
       "      <td>0.0</td>\n",
       "    </tr>\n",
       "    <tr>\n",
       "      <th>AT112</th>\n",
       "      <td>0.0</td>\n",
       "      <td>0.0</td>\n",
       "      <td>0.0</td>\n",
       "      <td>0.0</td>\n",
       "      <td>0.0</td>\n",
       "      <td>0.0</td>\n",
       "      <td>0.0</td>\n",
       "      <td>0.0</td>\n",
       "      <td>1.0</td>\n",
       "      <td>1.0</td>\n",
       "      <td>...</td>\n",
       "      <td>1.0</td>\n",
       "      <td>0.0</td>\n",
       "      <td>0.0</td>\n",
       "      <td>1.0</td>\n",
       "      <td>1.0</td>\n",
       "      <td>3.0</td>\n",
       "      <td>0.0</td>\n",
       "      <td>1.0</td>\n",
       "      <td>1.0</td>\n",
       "      <td>3.0</td>\n",
       "    </tr>\n",
       "    <tr>\n",
       "      <th>AT113</th>\n",
       "      <td>0.0</td>\n",
       "      <td>0.0</td>\n",
       "      <td>0.0</td>\n",
       "      <td>0.0</td>\n",
       "      <td>0.0</td>\n",
       "      <td>1.0</td>\n",
       "      <td>0.0</td>\n",
       "      <td>0.0</td>\n",
       "      <td>1.0</td>\n",
       "      <td>0.0</td>\n",
       "      <td>...</td>\n",
       "      <td>5.0</td>\n",
       "      <td>1.0</td>\n",
       "      <td>1.0</td>\n",
       "      <td>0.0</td>\n",
       "      <td>0.0</td>\n",
       "      <td>7.0</td>\n",
       "      <td>0.0</td>\n",
       "      <td>2.0</td>\n",
       "      <td>1.0</td>\n",
       "      <td>0.0</td>\n",
       "    </tr>\n",
       "    <tr>\n",
       "      <th>AT121</th>\n",
       "      <td>0.0</td>\n",
       "      <td>0.0</td>\n",
       "      <td>0.0</td>\n",
       "      <td>0.0</td>\n",
       "      <td>0.0</td>\n",
       "      <td>0.0</td>\n",
       "      <td>0.0</td>\n",
       "      <td>1.0</td>\n",
       "      <td>6.0</td>\n",
       "      <td>1.0</td>\n",
       "      <td>...</td>\n",
       "      <td>15.0</td>\n",
       "      <td>1.0</td>\n",
       "      <td>1.0</td>\n",
       "      <td>3.0</td>\n",
       "      <td>3.0</td>\n",
       "      <td>5.0</td>\n",
       "      <td>0.0</td>\n",
       "      <td>5.0</td>\n",
       "      <td>8.0</td>\n",
       "      <td>2.0</td>\n",
       "    </tr>\n",
       "    <tr>\n",
       "      <th>AT122</th>\n",
       "      <td>0.0</td>\n",
       "      <td>0.0</td>\n",
       "      <td>0.0</td>\n",
       "      <td>0.0</td>\n",
       "      <td>0.0</td>\n",
       "      <td>0.0</td>\n",
       "      <td>0.0</td>\n",
       "      <td>1.0</td>\n",
       "      <td>2.0</td>\n",
       "      <td>1.0</td>\n",
       "      <td>...</td>\n",
       "      <td>14.0</td>\n",
       "      <td>0.0</td>\n",
       "      <td>5.0</td>\n",
       "      <td>2.0</td>\n",
       "      <td>5.0</td>\n",
       "      <td>14.0</td>\n",
       "      <td>0.0</td>\n",
       "      <td>6.0</td>\n",
       "      <td>11.0</td>\n",
       "      <td>3.0</td>\n",
       "    </tr>\n",
       "    <tr>\n",
       "      <th>...</th>\n",
       "      <td>...</td>\n",
       "      <td>...</td>\n",
       "      <td>...</td>\n",
       "      <td>...</td>\n",
       "      <td>...</td>\n",
       "      <td>...</td>\n",
       "      <td>...</td>\n",
       "      <td>...</td>\n",
       "      <td>...</td>\n",
       "      <td>...</td>\n",
       "      <td>...</td>\n",
       "      <td>...</td>\n",
       "      <td>...</td>\n",
       "      <td>...</td>\n",
       "      <td>...</td>\n",
       "      <td>...</td>\n",
       "      <td>...</td>\n",
       "      <td>...</td>\n",
       "      <td>...</td>\n",
       "      <td>...</td>\n",
       "      <td>...</td>\n",
       "    </tr>\n",
       "    <tr>\n",
       "      <th>UKJ</th>\n",
       "      <td>0.0</td>\n",
       "      <td>0.0</td>\n",
       "      <td>18.0</td>\n",
       "      <td>0.0</td>\n",
       "      <td>0.0</td>\n",
       "      <td>417.0</td>\n",
       "      <td>16.0</td>\n",
       "      <td>93.0</td>\n",
       "      <td>289.0</td>\n",
       "      <td>24.0</td>\n",
       "      <td>...</td>\n",
       "      <td>1277.0</td>\n",
       "      <td>58.0</td>\n",
       "      <td>67.0</td>\n",
       "      <td>77.0</td>\n",
       "      <td>115.0</td>\n",
       "      <td>14.0</td>\n",
       "      <td>16.0</td>\n",
       "      <td>96.0</td>\n",
       "      <td>96.0</td>\n",
       "      <td>91.0</td>\n",
       "    </tr>\n",
       "    <tr>\n",
       "      <th>UKK</th>\n",
       "      <td>0.0</td>\n",
       "      <td>0.0</td>\n",
       "      <td>1.0</td>\n",
       "      <td>0.0</td>\n",
       "      <td>0.0</td>\n",
       "      <td>185.0</td>\n",
       "      <td>3.0</td>\n",
       "      <td>25.0</td>\n",
       "      <td>93.0</td>\n",
       "      <td>8.0</td>\n",
       "      <td>...</td>\n",
       "      <td>326.0</td>\n",
       "      <td>52.0</td>\n",
       "      <td>59.0</td>\n",
       "      <td>76.0</td>\n",
       "      <td>94.0</td>\n",
       "      <td>9.0</td>\n",
       "      <td>5.0</td>\n",
       "      <td>78.0</td>\n",
       "      <td>74.0</td>\n",
       "      <td>74.0</td>\n",
       "    </tr>\n",
       "    <tr>\n",
       "      <th>UKL</th>\n",
       "      <td>0.0</td>\n",
       "      <td>0.0</td>\n",
       "      <td>17.0</td>\n",
       "      <td>0.0</td>\n",
       "      <td>0.0</td>\n",
       "      <td>130.0</td>\n",
       "      <td>0.0</td>\n",
       "      <td>17.0</td>\n",
       "      <td>77.0</td>\n",
       "      <td>29.0</td>\n",
       "      <td>...</td>\n",
       "      <td>284.0</td>\n",
       "      <td>51.0</td>\n",
       "      <td>67.0</td>\n",
       "      <td>68.0</td>\n",
       "      <td>69.0</td>\n",
       "      <td>8.0</td>\n",
       "      <td>4.0</td>\n",
       "      <td>63.0</td>\n",
       "      <td>53.0</td>\n",
       "      <td>40.0</td>\n",
       "    </tr>\n",
       "    <tr>\n",
       "      <th>UKM</th>\n",
       "      <td>0.0</td>\n",
       "      <td>0.0</td>\n",
       "      <td>0.0</td>\n",
       "      <td>0.0</td>\n",
       "      <td>0.0</td>\n",
       "      <td>310.0</td>\n",
       "      <td>2.0</td>\n",
       "      <td>22.0</td>\n",
       "      <td>94.0</td>\n",
       "      <td>20.0</td>\n",
       "      <td>...</td>\n",
       "      <td>308.0</td>\n",
       "      <td>114.0</td>\n",
       "      <td>126.0</td>\n",
       "      <td>122.0</td>\n",
       "      <td>112.0</td>\n",
       "      <td>17.0</td>\n",
       "      <td>56.0</td>\n",
       "      <td>82.0</td>\n",
       "      <td>71.0</td>\n",
       "      <td>80.0</td>\n",
       "    </tr>\n",
       "    <tr>\n",
       "      <th>UKN</th>\n",
       "      <td>0.0</td>\n",
       "      <td>0.0</td>\n",
       "      <td>0.0</td>\n",
       "      <td>0.0</td>\n",
       "      <td>0.0</td>\n",
       "      <td>76.0</td>\n",
       "      <td>0.0</td>\n",
       "      <td>3.0</td>\n",
       "      <td>28.0</td>\n",
       "      <td>6.0</td>\n",
       "      <td>...</td>\n",
       "      <td>98.0</td>\n",
       "      <td>22.0</td>\n",
       "      <td>30.0</td>\n",
       "      <td>44.0</td>\n",
       "      <td>45.0</td>\n",
       "      <td>10.0</td>\n",
       "      <td>3.0</td>\n",
       "      <td>37.0</td>\n",
       "      <td>46.0</td>\n",
       "      <td>34.0</td>\n",
       "    </tr>\n",
       "  </tbody>\n",
       "</table>\n",
       "<p>497 rows × 97 columns</p>\n",
       "</div>"
      ],
      "text/plain": [
       "date     2020-01-26  2020-02-02  2020-02-08  2020-02-16  2020-02-23  \\\n",
       "nuts_id                                                               \n",
       "AT111           0.0         0.0         0.0         0.0         0.0   \n",
       "AT112           0.0         0.0         0.0         0.0         0.0   \n",
       "AT113           0.0         0.0         0.0         0.0         0.0   \n",
       "AT121           0.0         0.0         0.0         0.0         0.0   \n",
       "AT122           0.0         0.0         0.0         0.0         0.0   \n",
       "...             ...         ...         ...         ...         ...   \n",
       "UKJ             0.0         0.0        18.0         0.0         0.0   \n",
       "UKK             0.0         0.0         1.0         0.0         0.0   \n",
       "UKL             0.0         0.0        17.0         0.0         0.0   \n",
       "UKM             0.0         0.0         0.0         0.0         0.0   \n",
       "UKN             0.0         0.0         0.0         0.0         0.0   \n",
       "\n",
       "date     2020-03-05  2020-03-15  2020-03-22  2020-03-29  2020-04-10  ...  \\\n",
       "nuts_id                                                              ...   \n",
       "AT111           0.0         0.0         1.0         0.0         0.0  ...   \n",
       "AT112           0.0         0.0         0.0         1.0         1.0  ...   \n",
       "AT113           1.0         0.0         0.0         1.0         0.0  ...   \n",
       "AT121           0.0         0.0         1.0         6.0         1.0  ...   \n",
       "AT122           0.0         0.0         1.0         2.0         1.0  ...   \n",
       "...             ...         ...         ...         ...         ...  ...   \n",
       "UKJ           417.0        16.0        93.0       289.0        24.0  ...   \n",
       "UKK           185.0         3.0        25.0        93.0         8.0  ...   \n",
       "UKL           130.0         0.0        17.0        77.0        29.0  ...   \n",
       "UKM           310.0         2.0        22.0        94.0        20.0  ...   \n",
       "UKN            76.0         0.0         3.0        28.0         6.0  ...   \n",
       "\n",
       "date     2021-10-01  2021-10-10  2021-10-17  2021-10-24  2021-10-31  \\\n",
       "nuts_id                                                               \n",
       "AT111           1.0         0.0         0.0         0.0         0.0   \n",
       "AT112           1.0         0.0         0.0         1.0         1.0   \n",
       "AT113           5.0         1.0         1.0         0.0         0.0   \n",
       "AT121          15.0         1.0         1.0         3.0         3.0   \n",
       "AT122          14.0         0.0         5.0         2.0         5.0   \n",
       "...             ...         ...         ...         ...         ...   \n",
       "UKJ          1277.0        58.0        67.0        77.0       115.0   \n",
       "UKK           326.0        52.0        59.0        76.0        94.0   \n",
       "UKL           284.0        51.0        67.0        68.0        69.0   \n",
       "UKM           308.0       114.0       126.0       122.0       112.0   \n",
       "UKN            98.0        22.0        30.0        44.0        45.0   \n",
       "\n",
       "date     2021-11-04  2021-11-07  2021-11-14  2021-11-21  2021-11-28  \n",
       "nuts_id                                                              \n",
       "AT111           4.0         0.0         1.0         0.0         0.0  \n",
       "AT112           3.0         0.0         1.0         1.0         3.0  \n",
       "AT113           7.0         0.0         2.0         1.0         0.0  \n",
       "AT121           5.0         0.0         5.0         8.0         2.0  \n",
       "AT122          14.0         0.0         6.0        11.0         3.0  \n",
       "...             ...         ...         ...         ...         ...  \n",
       "UKJ            14.0        16.0        96.0        96.0        91.0  \n",
       "UKK             9.0         5.0        78.0        74.0        74.0  \n",
       "UKL             8.0         4.0        63.0        53.0        40.0  \n",
       "UKM            17.0        56.0        82.0        71.0        80.0  \n",
       "UKN            10.0         3.0        37.0        46.0        34.0  \n",
       "\n",
       "[497 rows x 97 columns]"
      ]
     },
     "execution_count": 7,
     "metadata": {},
     "output_type": "execute_result"
    }
   ],
   "source": [
    "# Cases\n",
    "deaths = pd.read_csv('../../02_Data/02_Pandemic variables/02_Deaths/EU_Deaths_Weekly_Unstacked.csv')\n",
    "\n",
    "deaths.rename(columns = {\"Unnamed: 0\": 'nuts_id'}, inplace= True)\n",
    "deaths = deaths.melt(id_vars = 'nuts_id', var_name = 'date', value_name = 'deaths')\n",
    "deaths['date'] = pd.to_datetime(deaths['date']).dt.date\n",
    "deaths = deaths.pivot_table(index = 'nuts_id', columns = 'date', values = 'deaths')\n",
    "deaths = deaths.iloc[:, 3:-9]\n",
    "deaths.fillna(method = 'ffill', inplace = True)\n",
    "deaths.fillna(0, inplace= True)\n",
    "deaths "
   ]
  },
  {
   "cell_type": "code",
   "execution_count": 8,
   "metadata": {},
   "outputs": [],
   "source": [
    "# turn dataframes into GeoDataFrames \n",
    "geo_deaths = gpd.GeoDataFrame(pd.merge(deaths, shape, left_on = deaths.index, right_on = 'NUTS_ID').fillna(0))\n",
    "# geo_deaths = pd.concat([geo_deaths,fiji])"
   ]
  },
  {
   "cell_type": "code",
   "execution_count": null,
   "metadata": {},
   "outputs": [],
   "source": [
    "for col in geo_deaths.iloc[:, :-3]:\n",
    "    geo_deaths[col] = pd.to_numeric(geo_deaths[col]).astype(int)"
   ]
  },
  {
   "cell_type": "code",
   "execution_count": 10,
   "metadata": {},
   "outputs": [
    {
     "name": "stderr",
     "output_type": "stream",
     "text": [
      "C:\\Users\\Mohamed\\AppData\\Local\\Temp/ipykernel_2728/2255727799.py:1: UserWarning: Geometry is in a geographic CRS. Results from 'centroid' are likely incorrect. Use 'GeoSeries.to_crs()' to re-project geometries to a projected CRS before this operation.\n",
      "\n",
      "  geo_deaths['center'] = geo_deaths['geometry'].centroid\n"
     ]
    }
   ],
   "source": [
    "geo_deaths['center'] = geo_deaths['geometry'].centroid"
   ]
  },
  {
   "cell_type": "code",
   "execution_count": 37,
   "metadata": {},
   "outputs": [
    {
     "data": {
      "text/plain": [
       "geopandas.geodataframe.GeoDataFrame"
      ]
     },
     "execution_count": 37,
     "metadata": {},
     "output_type": "execute_result"
    }
   ],
   "source": [
    "s = gpd.GeoDataFrame(geo_deaths[['center']])\n",
    "type(s)"
   ]
  },
  {
   "cell_type": "code",
   "execution_count": 47,
   "metadata": {},
   "outputs": [
    {
     "data": {
      "text/plain": [
       "0      16.480591\n",
       "1      16.756576\n",
       "2      16.256577\n",
       "3      15.000778\n",
       "4      15.899147\n",
       "         ...    \n",
       "491    -0.537925\n",
       "492    -3.129929\n",
       "493    -3.765118\n",
       "494    -4.190438\n",
       "495    -6.694720\n",
       "Length: 496, dtype: float64"
      ]
     },
     "execution_count": 47,
     "metadata": {},
     "output_type": "execute_result"
    }
   ],
   "source": [
    "geo_deaths['center'].x"
   ]
  },
  {
   "cell_type": "code",
   "execution_count": 48,
   "metadata": {},
   "outputs": [],
   "source": [
    "geo_deaths['x'] = geo_deaths['center'].x\n",
    "geo_deaths['y'] = geo_deaths['center'].y"
   ]
  },
  {
   "cell_type": "code",
   "execution_count": 57,
   "metadata": {},
   "outputs": [],
   "source": [
    "q = geo_deaths.drop(['NUTS_ID', 'LEVL_CODE', 'center', 'geometry'], axis =1)"
   ]
  },
  {
   "cell_type": "code",
   "execution_count": 60,
   "metadata": {},
   "outputs": [],
   "source": [
    "q.columns = [str(i) for i in q.columns]"
   ]
  },
  {
   "cell_type": "code",
   "execution_count": 69,
   "metadata": {},
   "outputs": [],
   "source": [
    "q.to_excel('points/points.xlsx', index = False)"
   ]
  },
  {
   "cell_type": "code",
   "execution_count": 20,
   "metadata": {},
   "outputs": [
    {
     "ename": "TypeError",
     "evalue": "Cannot interpret '<geopandas.array.GeometryDtype object at 0x00000279D40607C0>' as a data type",
     "output_type": "error",
     "traceback": [
      "\u001b[1;31m---------------------------------------------------------------------------\u001b[0m",
      "\u001b[1;31mTypeError\u001b[0m                                 Traceback (most recent call last)",
      "\u001b[1;32m~\\AppData\\Local\\Temp/ipykernel_2728/3907110426.py\u001b[0m in \u001b[0;36m<module>\u001b[1;34m\u001b[0m\n\u001b[1;32m----> 1\u001b[1;33m \u001b[0mgeo_deaths\u001b[0m\u001b[1;33m.\u001b[0m\u001b[0mdrop\u001b[0m\u001b[1;33m(\u001b[0m\u001b[1;33m[\u001b[0m\u001b[1;34m'NUTS_ID'\u001b[0m\u001b[1;33m,\u001b[0m \u001b[1;34m'geometry'\u001b[0m\u001b[1;33m,\u001b[0m \u001b[1;34m'LEVL_CODE'\u001b[0m\u001b[1;33m]\u001b[0m\u001b[1;33m,\u001b[0m \u001b[0maxis\u001b[0m \u001b[1;33m=\u001b[0m\u001b[1;36m1\u001b[0m\u001b[1;33m)\u001b[0m\u001b[1;33m.\u001b[0m\u001b[0mto_file\u001b[0m\u001b[1;33m(\u001b[0m\u001b[1;34m'points/points.shp'\u001b[0m\u001b[1;33m)\u001b[0m\u001b[1;33m\u001b[0m\u001b[1;33m\u001b[0m\u001b[0m\n\u001b[0m",
      "\u001b[1;32m~\\miniconda3\\lib\\site-packages\\geopandas\\geodataframe.py\u001b[0m in \u001b[0;36mto_file\u001b[1;34m(self, filename, driver, schema, index, **kwargs)\u001b[0m\n\u001b[0;32m   1084\u001b[0m         \u001b[1;32mfrom\u001b[0m \u001b[0mgeopandas\u001b[0m\u001b[1;33m.\u001b[0m\u001b[0mio\u001b[0m\u001b[1;33m.\u001b[0m\u001b[0mfile\u001b[0m \u001b[1;32mimport\u001b[0m \u001b[0m_to_file\u001b[0m\u001b[1;33m\u001b[0m\u001b[1;33m\u001b[0m\u001b[0m\n\u001b[0;32m   1085\u001b[0m \u001b[1;33m\u001b[0m\u001b[0m\n\u001b[1;32m-> 1086\u001b[1;33m         \u001b[0m_to_file\u001b[0m\u001b[1;33m(\u001b[0m\u001b[0mself\u001b[0m\u001b[1;33m,\u001b[0m \u001b[0mfilename\u001b[0m\u001b[1;33m,\u001b[0m \u001b[0mdriver\u001b[0m\u001b[1;33m,\u001b[0m \u001b[0mschema\u001b[0m\u001b[1;33m,\u001b[0m \u001b[0mindex\u001b[0m\u001b[1;33m,\u001b[0m \u001b[1;33m**\u001b[0m\u001b[0mkwargs\u001b[0m\u001b[1;33m)\u001b[0m\u001b[1;33m\u001b[0m\u001b[1;33m\u001b[0m\u001b[0m\n\u001b[0m\u001b[0;32m   1087\u001b[0m \u001b[1;33m\u001b[0m\u001b[0m\n\u001b[0;32m   1088\u001b[0m     \u001b[1;32mdef\u001b[0m \u001b[0mset_crs\u001b[0m\u001b[1;33m(\u001b[0m\u001b[0mself\u001b[0m\u001b[1;33m,\u001b[0m \u001b[0mcrs\u001b[0m\u001b[1;33m=\u001b[0m\u001b[1;32mNone\u001b[0m\u001b[1;33m,\u001b[0m \u001b[0mepsg\u001b[0m\u001b[1;33m=\u001b[0m\u001b[1;32mNone\u001b[0m\u001b[1;33m,\u001b[0m \u001b[0minplace\u001b[0m\u001b[1;33m=\u001b[0m\u001b[1;32mFalse\u001b[0m\u001b[1;33m,\u001b[0m \u001b[0mallow_override\u001b[0m\u001b[1;33m=\u001b[0m\u001b[1;32mFalse\u001b[0m\u001b[1;33m)\u001b[0m\u001b[1;33m:\u001b[0m\u001b[1;33m\u001b[0m\u001b[1;33m\u001b[0m\u001b[0m\n",
      "\u001b[1;32m~\\miniconda3\\lib\\site-packages\\geopandas\\io\\file.py\u001b[0m in \u001b[0;36m_to_file\u001b[1;34m(df, filename, driver, schema, index, mode, crs, **kwargs)\u001b[0m\n\u001b[0;32m    302\u001b[0m         \u001b[0mdf\u001b[0m \u001b[1;33m=\u001b[0m \u001b[0mdf\u001b[0m\u001b[1;33m.\u001b[0m\u001b[0mreset_index\u001b[0m\u001b[1;33m(\u001b[0m\u001b[0mdrop\u001b[0m\u001b[1;33m=\u001b[0m\u001b[1;32mFalse\u001b[0m\u001b[1;33m)\u001b[0m\u001b[1;33m\u001b[0m\u001b[1;33m\u001b[0m\u001b[0m\n\u001b[0;32m    303\u001b[0m     \u001b[1;32mif\u001b[0m \u001b[0mschema\u001b[0m \u001b[1;32mis\u001b[0m \u001b[1;32mNone\u001b[0m\u001b[1;33m:\u001b[0m\u001b[1;33m\u001b[0m\u001b[1;33m\u001b[0m\u001b[0m\n\u001b[1;32m--> 304\u001b[1;33m         \u001b[0mschema\u001b[0m \u001b[1;33m=\u001b[0m \u001b[0minfer_schema\u001b[0m\u001b[1;33m(\u001b[0m\u001b[0mdf\u001b[0m\u001b[1;33m)\u001b[0m\u001b[1;33m\u001b[0m\u001b[1;33m\u001b[0m\u001b[0m\n\u001b[0m\u001b[0;32m    305\u001b[0m     \u001b[1;32mif\u001b[0m \u001b[0mcrs\u001b[0m\u001b[1;33m:\u001b[0m\u001b[1;33m\u001b[0m\u001b[1;33m\u001b[0m\u001b[0m\n\u001b[0;32m    306\u001b[0m         \u001b[0mcrs\u001b[0m \u001b[1;33m=\u001b[0m \u001b[0mpyproj\u001b[0m\u001b[1;33m.\u001b[0m\u001b[0mCRS\u001b[0m\u001b[1;33m.\u001b[0m\u001b[0mfrom_user_input\u001b[0m\u001b[1;33m(\u001b[0m\u001b[0mcrs\u001b[0m\u001b[1;33m)\u001b[0m\u001b[1;33m\u001b[0m\u001b[1;33m\u001b[0m\u001b[0m\n",
      "\u001b[1;32m~\\miniconda3\\lib\\site-packages\\geopandas\\io\\file.py\u001b[0m in \u001b[0;36minfer_schema\u001b[1;34m(df)\u001b[0m\n\u001b[0;32m    352\u001b[0m \u001b[1;33m\u001b[0m\u001b[0m\n\u001b[0;32m    353\u001b[0m     properties = OrderedDict(\n\u001b[1;32m--> 354\u001b[1;33m         [\n\u001b[0m\u001b[0;32m    355\u001b[0m             \u001b[1;33m(\u001b[0m\u001b[0mcol\u001b[0m\u001b[1;33m,\u001b[0m \u001b[0mconvert_type\u001b[0m\u001b[1;33m(\u001b[0m\u001b[0mcol\u001b[0m\u001b[1;33m,\u001b[0m \u001b[0m_type\u001b[0m\u001b[1;33m)\u001b[0m\u001b[1;33m)\u001b[0m\u001b[1;33m\u001b[0m\u001b[1;33m\u001b[0m\u001b[0m\n\u001b[0;32m    356\u001b[0m             \u001b[1;32mfor\u001b[0m \u001b[0mcol\u001b[0m\u001b[1;33m,\u001b[0m \u001b[0m_type\u001b[0m \u001b[1;32min\u001b[0m \u001b[0mzip\u001b[0m\u001b[1;33m(\u001b[0m\u001b[0mdf\u001b[0m\u001b[1;33m.\u001b[0m\u001b[0mcolumns\u001b[0m\u001b[1;33m,\u001b[0m \u001b[0mdf\u001b[0m\u001b[1;33m.\u001b[0m\u001b[0mdtypes\u001b[0m\u001b[1;33m)\u001b[0m\u001b[1;33m\u001b[0m\u001b[1;33m\u001b[0m\u001b[0m\n",
      "\u001b[1;32m~\\miniconda3\\lib\\site-packages\\geopandas\\io\\file.py\u001b[0m in \u001b[0;36m<listcomp>\u001b[1;34m(.0)\u001b[0m\n\u001b[0;32m    353\u001b[0m     properties = OrderedDict(\n\u001b[0;32m    354\u001b[0m         [\n\u001b[1;32m--> 355\u001b[1;33m             \u001b[1;33m(\u001b[0m\u001b[0mcol\u001b[0m\u001b[1;33m,\u001b[0m \u001b[0mconvert_type\u001b[0m\u001b[1;33m(\u001b[0m\u001b[0mcol\u001b[0m\u001b[1;33m,\u001b[0m \u001b[0m_type\u001b[0m\u001b[1;33m)\u001b[0m\u001b[1;33m)\u001b[0m\u001b[1;33m\u001b[0m\u001b[1;33m\u001b[0m\u001b[0m\n\u001b[0m\u001b[0;32m    356\u001b[0m             \u001b[1;32mfor\u001b[0m \u001b[0mcol\u001b[0m\u001b[1;33m,\u001b[0m \u001b[0m_type\u001b[0m \u001b[1;32min\u001b[0m \u001b[0mzip\u001b[0m\u001b[1;33m(\u001b[0m\u001b[0mdf\u001b[0m\u001b[1;33m.\u001b[0m\u001b[0mcolumns\u001b[0m\u001b[1;33m,\u001b[0m \u001b[0mdf\u001b[0m\u001b[1;33m.\u001b[0m\u001b[0mdtypes\u001b[0m\u001b[1;33m)\u001b[0m\u001b[1;33m\u001b[0m\u001b[1;33m\u001b[0m\u001b[0m\n\u001b[0;32m    357\u001b[0m             \u001b[1;32mif\u001b[0m \u001b[0mcol\u001b[0m \u001b[1;33m!=\u001b[0m \u001b[0mdf\u001b[0m\u001b[1;33m.\u001b[0m\u001b[0m_geometry_column_name\u001b[0m\u001b[1;33m\u001b[0m\u001b[1;33m\u001b[0m\u001b[0m\n",
      "\u001b[1;32m~\\miniconda3\\lib\\site-packages\\geopandas\\io\\file.py\u001b[0m in \u001b[0;36mconvert_type\u001b[1;34m(column, in_type)\u001b[0m\n\u001b[0;32m    346\u001b[0m             \u001b[0mout_type\u001b[0m \u001b[1;33m=\u001b[0m \u001b[0mtypes\u001b[0m\u001b[1;33m[\u001b[0m\u001b[0mstr\u001b[0m\u001b[1;33m(\u001b[0m\u001b[0min_type\u001b[0m\u001b[1;33m)\u001b[0m\u001b[1;33m]\u001b[0m\u001b[1;33m\u001b[0m\u001b[1;33m\u001b[0m\u001b[0m\n\u001b[0;32m    347\u001b[0m         \u001b[1;32melse\u001b[0m\u001b[1;33m:\u001b[0m\u001b[1;33m\u001b[0m\u001b[1;33m\u001b[0m\u001b[0m\n\u001b[1;32m--> 348\u001b[1;33m             \u001b[0mout_type\u001b[0m \u001b[1;33m=\u001b[0m \u001b[0mtype\u001b[0m\u001b[1;33m(\u001b[0m\u001b[0mnp\u001b[0m\u001b[1;33m.\u001b[0m\u001b[0mzeros\u001b[0m\u001b[1;33m(\u001b[0m\u001b[1;36m1\u001b[0m\u001b[1;33m,\u001b[0m \u001b[0min_type\u001b[0m\u001b[1;33m)\u001b[0m\u001b[1;33m.\u001b[0m\u001b[0mitem\u001b[0m\u001b[1;33m(\u001b[0m\u001b[1;33m)\u001b[0m\u001b[1;33m)\u001b[0m\u001b[1;33m.\u001b[0m\u001b[0m__name__\u001b[0m\u001b[1;33m\u001b[0m\u001b[1;33m\u001b[0m\u001b[0m\n\u001b[0m\u001b[0;32m    349\u001b[0m         \u001b[1;32mif\u001b[0m \u001b[0mout_type\u001b[0m \u001b[1;33m==\u001b[0m \u001b[1;34m\"long\"\u001b[0m\u001b[1;33m:\u001b[0m\u001b[1;33m\u001b[0m\u001b[1;33m\u001b[0m\u001b[0m\n\u001b[0;32m    350\u001b[0m             \u001b[0mout_type\u001b[0m \u001b[1;33m=\u001b[0m \u001b[1;34m\"int\"\u001b[0m\u001b[1;33m\u001b[0m\u001b[1;33m\u001b[0m\u001b[0m\n",
      "\u001b[1;31mTypeError\u001b[0m: Cannot interpret '<geopandas.array.GeometryDtype object at 0x00000279D40607C0>' as a data type"
     ]
    }
   ],
   "source": [
    "geo_deaths.drop(['NUTS_ID', 'geometry', 'LEVL_CODE'], axis =1).to_file('points/points.shp')"
   ]
  },
  {
   "cell_type": "code",
   "execution_count": 14,
   "metadata": {},
   "outputs": [],
   "source": [
    "geo_deaths[['NUTS_ID', 'geometry']].to_file('death_density/shape.shp')"
   ]
  },
  {
   "cell_type": "code",
   "execution_count": null,
   "metadata": {},
   "outputs": [],
   "source": [
    "# Creating the bins \n",
    "bins = [-1, 1, 5, 20, 50 ,100 , 1000, 2904]\n",
    "label = [' 1', '< 5', '< 20', '< 50', '< 100', '< 1000', '> 1000']\n",
    "for col in geo_deaths.iloc[:, :-3]:\n",
    "    geo_deaths[col] = pd.cut(geo_deaths[col], bins = bins, labels= label)"
   ]
  },
  {
   "cell_type": "code",
   "execution_count": null,
   "metadata": {},
   "outputs": [],
   "source": [
    "image_frames = []\n",
    "\n",
    "# # create the maps \n",
    "for i in geo_deaths.iloc[:,:-3]:\n",
    "    fig, ax = plt.subplots(figsize = (12, 12))\n",
    "    # set out map \n",
    "    geo_deaths.plot(column = geo_deaths[i], ax =ax, cmap = 'RdPu', legend = True, alpha = .4,\n",
    "              linewidth = 0.5, edgecolor = 'w', categorical = True)   \n",
    "    # add countries boundaries \n",
    "    world.query('continent == \"Europe\"').dissolve().boundary.plot(color = 'black', linewidth = 3, alpha = 0.09, ax = ax, zorder = -1)\n",
    "    world.plot(ax = ax, color = 'grey', alpha = .1, zorder=0)\n",
    "    shape.query('LEVL_CODE == 0').boundary.plot(color = 'w', linewidth = 1.4 , zorder  =1, ax =ax)\n",
    "    world.query('continent == \"Africa\"').boundary.plot(color = 'w', linewidth = 1.4 , zorder  =1, ax =ax)\n",
    "    shape.query('LEVL_CODE == 3').boundary.plot(color = 'gray', linewidth = 0.5, zorder=1, ax =ax, alpha = 0.09)\n",
    "    # set the final limite\n",
    "    plt.xlim(2.4e6, 6.6e6)\n",
    "    plt.ylim(0.13e7, 0.545e7)\n",
    "    # add capitals points \n",
    "    cities.plot(ax = ax, color = 'k', markersize = 1)\n",
    "    for x, y, label in zip(cities.geometry.x, cities.geometry.y, cities.name):\n",
    "        ax.annotate(label, xy=(x, y), xytext=(1, 2), textcoords=\"offset points\", fontsize = 6.5)\n",
    "    # Disable scientific representation \n",
    "    ax.ticklabel_format(useOffset=False, style='plain')\n",
    "\n",
    "    # add the graphical-scale \n",
    "    scalebar = ScaleBar(0.66, width_fraction=None,\n",
    "            location= \"lower right\", box_alpha = 0, length_fraction = 0.08,\n",
    "                       height_fraction  = 0.003) # 1 pixel = 0.2 meter\n",
    "    plt.gca().add_artist(scalebar)\n",
    "\n",
    "    # legend \n",
    "    leg = ax.get_legend()\n",
    "    leg.set_bbox_to_anchor((0.24, 0)) \n",
    "    leg.get_frame().set_alpha(0)\n",
    "    leg.set_title('New deaths')\n",
    "    plt.title(f'  Weekly new confirmed COVID-19 deaths: {pd.Timestamp(i).month_name()} (week {pd.Timestamp(i).week}) - {i.year}', fontweight = 'light',\n",
    "            fontsize= 14, loc = 'left', color = '#054ea2')\n",
    "    # Set outside the figure color \n",
    "    fig.patch.set_facecolor('#fbfdfe')\n",
    "    #  Set source \n",
    "    fig.text(0.92, .055, source, ha='right', fontsize = 8)\n",
    "    # add ESPON's title \n",
    "    plt.text(x = 3.5e6, y = 1.4e6, s = u\"\\u00A9 ESPON EGTC, 2021\", fontsize = 10)\n",
    "    # add bleu lines \n",
    "    plt.vlines(x = 2.4e6, ymin = 1e6, ymax = 2e6, color = '#054ea2', linewidth = 10)\n",
    "    plt.vlines(x = 2.4e6, ymin = 4.8e6, ymax = 6e6, color = '#054ea2', linewidth = 10)\n",
    "    plt.vlines(x = 6.6e6, ymin = 1e6, ymax = 6e6, color = '#054ea2', linewidth = 10)\n",
    "\n",
    "    plt.hlines(y = 0.13e7, xmin = 5.4e6, xmax = 6.6e6, color = '#054ea2', linewidth = 5)\n",
    "    plt.hlines(y = 0.545e7, xmin = 2.4e6, xmax = 3.4e6, color = '#054ea2', linewidth = 5)\n",
    "    # revome axis  \n",
    "    ax.set_xticklabels([])\n",
    "    ax.set_yticklabels([])\n",
    "    # grid params \n",
    "    plt.tick_params(bottom = False, left = False)\n",
    "    plt.grid(True, dash_capstyle = 'projecting')\n",
    "\n",
    "    # add ESPON logo \n",
    "    newax = fig.add_axes([0.1, 0.02,0.14,0.18], anchor='NE', zorder=1)\n",
    "    newax.imshow(im)\n",
    "    newax.axis('off')\n",
    "    plt.show()\n",
    "\n",
    "    img = ax.get_figure()\n",
    "    f = io.BytesIO()\n",
    "    img.savefig(f, format= 'png')\n",
    "    f.seek(0)\n",
    "    image_frames.append(PIL.Image.open(f))"
   ]
  },
  {
   "cell_type": "code",
   "execution_count": null,
   "metadata": {},
   "outputs": [],
   "source": [
    "# create a GIF animation \n",
    "image_frames[0].save('Animated Maps/Dynamic COVID-19 new deaths Map.gif', format = 'GIF', append_images = image_frames[1:],\n",
    "                    save_all = True, duration = 800,\n",
    "                     loop = 2)\n",
    "f.close()"
   ]
  },
  {
   "cell_type": "markdown",
   "metadata": {},
   "source": [
    "## 3. Exc. Mortality "
   ]
  },
  {
   "cell_type": "markdown",
   "metadata": {},
   "source": [
    "### 1.2 Exc. Mortality "
   ]
  },
  {
   "cell_type": "code",
   "execution_count": null,
   "metadata": {},
   "outputs": [],
   "source": [
    "mortality = pd.read_excel('../../02_Data/02_Pandemic variables/03_Exc. Mortality/COVID_Excess_Mortality_v220103.xlsx').drop(['Country',\n",
    "                                                                                                                            'NUTS_level',                                                                                                                             'NUTS level 3',\n",
    "                                                                                                                            'Pop_2020_01_01'], axis =1)\n",
    "mortality = mortality.melt(id_vars = 'NUTS_ID_2021', var_name = \"date\", value_name = 'mortality')\n",
    "mortality['date'] = pd.to_datetime(mortality['date']).dt.date\n",
    "mortality = mortality.pivot_table(index = 'NUTS_ID_2021', columns = 'date', values ='mortality')\n",
    "mortality "
   ]
  },
  {
   "cell_type": "code",
   "execution_count": null,
   "metadata": {},
   "outputs": [],
   "source": [
    "# turn dataframes into GeoDataFrames \n",
    "geo_mortality = gpd.GeoDataFrame(pd.merge(mortality, shape, left_on = mortality.index, right_on = 'NUTS_ID').fillna(np.nan))"
   ]
  },
  {
   "cell_type": "code",
   "execution_count": null,
   "metadata": {},
   "outputs": [],
   "source": [
    "# Creating the bins \n",
    "bins = [-760,  -100 , -20, -5, 5, 20, 200,  4400]\n",
    "\n",
    "\n",
    "label = ['< 100' ,'< 20', '< 5' ,'[-5 / 5]', '> 5', '> 20', '> 200']\n",
    "for col in geo_mortality.iloc[:, :-3]:\n",
    "    geo_mortality[col] = pd.cut(geo_mortality[col], bins = bins, labels= label)"
   ]
  },
  {
   "cell_type": "code",
   "execution_count": null,
   "metadata": {},
   "outputs": [],
   "source": [
    "source=\"\"\"Regional level: NUTS3 v2021 | Data version 2021.\n",
    "Source: EuroStat database, NPGEO, mscbs.gob.es.\n",
    "santé-publique-France, statistichecoronavirus.it.\n",
    "folkhalsomyndigheten, gov.scot, Korona.gov.sk.\n",
    "data.gv.at, sso.dk, salute.gov.it.\"\"\""
   ]
  },
  {
   "cell_type": "code",
   "execution_count": null,
   "metadata": {},
   "outputs": [],
   "source": [
    "image_frames = []\n",
    "\n",
    "# # create the maps \n",
    "for i in geo_mortality.iloc[:,:-3]:\n",
    "    fig, ax = plt.subplots(figsize = (12, 12))\n",
    "    # set out map \n",
    "    geo_mortality.plot(column = geo_mortality[i], ax =ax, cmap = 'coolwarm', alpha = .4,\n",
    "              linewidth = 0.5, edgecolor = 'w', categorical = True, legend = True)   \n",
    "    # add countries boundaries \n",
    "    world.query('continent == \"Europe\"').dissolve().boundary.plot(color = 'black', linewidth = 3, alpha = 0.09, ax = ax, zorder = -1)\n",
    "    world.plot(ax = ax, color = 'grey', alpha = .1, zorder=0)\n",
    "    shape.query('LEVL_CODE == 0').boundary.plot(color = 'w', linewidth = 1.4 , zorder  =1, ax =ax)\n",
    "    world.query('continent == \"Africa\"').boundary.plot(color = 'w', linewidth = 1.4 , zorder  =1, ax =ax)\n",
    "    shape.query('LEVL_CODE == 3').boundary.plot(color = 'gray', linewidth = 0.5, zorder=1, ax =ax, alpha = 0.09)\n",
    "    # set the final limite\n",
    "    plt.xlim(2.4e6, 6.6e6)\n",
    "    plt.ylim(0.13e7, 0.545e7)\n",
    "    # add capitals points \n",
    "    cities.plot(ax = ax, color = 'k', markersize = 1)\n",
    "    for x, y, label in zip(cities.geometry.x, cities.geometry.y, cities.name):\n",
    "        ax.annotate(label, xy=(x, y), xytext=(1, 2), textcoords=\"offset points\", fontsize = 6.5)\n",
    "    # Disable scientific representation \n",
    "    ax.ticklabel_format(useOffset=False, style='plain')\n",
    "\n",
    "    # add the graphical-scale \n",
    "    scalebar = ScaleBar(0.66, width_fraction=None,\n",
    "            location= \"lower right\", box_alpha = 0, length_fraction = 0.08,\n",
    "                       height_fraction  = 0.003) # 1 pixel = 0.2 meter\n",
    "    plt.gca().add_artist(scalebar)\n",
    "\n",
    "    # legend \n",
    "    leg = ax.get_legend()\n",
    "    leg.set_bbox_to_anchor((0.24, 0)) \n",
    "    leg.get_frame().set_alpha(0)\n",
    "    leg.set_title('Excess mortality')\n",
    "    plt.title(f'  Weekly excess mortality: {pd.Timestamp(i).month_name()} (week {pd.Timestamp(i).week}) - {i.year}', fontweight = 'light',\n",
    "            fontsize= 14, loc = 'left', color = '#054ea2')\n",
    "    # Set outside the figure color \n",
    "    fig.patch.set_facecolor('#fbfdfe')\n",
    "    #  Set source \n",
    "    fig.text(0.92, .055, source, ha='right', fontsize = 8)\n",
    "    # add ESPON's title \n",
    "    plt.text(x = 3.5e6, y = 1.4e6, s = u\"\\u00A9 ESPON EGTC, 2021\", fontsize = 10)\n",
    "    # add bleu lines \n",
    "    plt.vlines(x = 2.4e6, ymin = 1e6, ymax = 2e6, color = '#054ea2', linewidth = 10)\n",
    "    plt.vlines(x = 2.4e6, ymin = 4.8e6, ymax = 6e6, color = '#054ea2', linewidth = 10)\n",
    "    plt.vlines(x = 6.6e6, ymin = 1e6, ymax = 6e6, color = '#054ea2', linewidth = 10)\n",
    "\n",
    "    plt.hlines(y = 0.13e7, xmin = 5.4e6, xmax = 6.6e6, color = '#054ea2', linewidth = 5)\n",
    "    plt.hlines(y = 0.545e7, xmin = 2.4e6, xmax = 3.4e6, color = '#054ea2', linewidth = 5)\n",
    "    # revome axis  \n",
    "    ax.set_xticklabels([])\n",
    "    ax.set_yticklabels([])\n",
    "    # grid params \n",
    "    plt.tick_params(bottom = False, left = False)\n",
    "    plt.grid(True, dash_capstyle = 'projecting')\n",
    "\n",
    "    # add ESPON logo \n",
    "    newax = fig.add_axes([0.11, 0.02,0.14,0.18], anchor='NE', zorder=1)\n",
    "    newax.imshow(im)\n",
    "    newax.axis('off')\n",
    "    plt.show()\n",
    "\n",
    "    img = ax.get_figure()\n",
    "    f = io.BytesIO()\n",
    "    img.savefig(f, format= 'png')\n",
    "    f.seek(0)\n",
    "    image_frames.append(PIL.Image.open(f))"
   ]
  },
  {
   "cell_type": "code",
   "execution_count": null,
   "metadata": {},
   "outputs": [],
   "source": [
    "# create a GIF animation \n",
    "image_frames[0].save('Animated Maps/Dynamic exces mortality Map.gif', format = 'GIF', append_images = image_frames[1:],\n",
    "                    save_all = True, duration = 800,\n",
    "                     loop = 2)\n",
    "f.close()"
   ]
  }
 ],
 "metadata": {
  "colab": {
   "collapsed_sections": [],
   "name": "ESPON animated maps.ipynb",
   "provenance": []
  },
  "kernelspec": {
   "display_name": "Python 3 (ipykernel)",
   "language": "python",
   "name": "python3"
  },
  "language_info": {
   "codemirror_mode": {
    "name": "ipython",
    "version": 3
   },
   "file_extension": ".py",
   "mimetype": "text/x-python",
   "name": "python",
   "nbconvert_exporter": "python",
   "pygments_lexer": "ipython3",
   "version": "3.9.7"
  }
 },
 "nbformat": 4,
 "nbformat_minor": 4
}
