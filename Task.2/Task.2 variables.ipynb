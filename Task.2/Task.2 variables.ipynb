{
 "cells": [
  {
   "cell_type": "markdown",
   "id": "76f21a9c-a319-4683-85f1-c99cc3043d4a",
   "metadata": {},
   "source": [
    "## TASK2 vars"
   ]
  },
  {
   "cell_type": "code",
   "execution_count": 4,
   "id": "6338d334-e87d-4e60-963e-aaba732357fe",
   "metadata": {},
   "outputs": [],
   "source": [
    "from covid19dh import covid19\n",
    "import pandas as pd \n",
    "import matplotlib.pyplot as plt \n",
    "import seaborn as sns \n",
    "%matplotlib inline"
   ]
  },
  {
   "cell_type": "code",
   "execution_count": 6,
   "id": "062266ad-d133-4aa5-8cc5-e2ce40ba1341",
   "metadata": {},
   "outputs": [
    {
     "name": "stdout",
     "output_type": "stream",
     "text": [
      "Requirement already satisfied: covid19dh in c:\\users\\mohamed\\miniconda3\\lib\\site-packages (2.3.0)\n",
      "Requirement already satisfied: requests in c:\\users\\mohamed\\miniconda3\\lib\\site-packages (from covid19dh) (2.26.0)\n",
      "Requirement already satisfied: pandas in c:\\users\\mohamed\\miniconda3\\lib\\site-packages (from covid19dh) (1.3.4)\n",
      "Requirement already satisfied: python-dateutil>=2.7.3 in c:\\users\\mohamed\\miniconda3\\lib\\site-packages (from pandas->covid19dh) (2.8.2)\n",
      "Requirement already satisfied: numpy>=1.17.3 in c:\\users\\mohamed\\miniconda3\\lib\\site-packages (from pandas->covid19dh) (1.21.2)\n",
      "Requirement already satisfied: pytz>=2017.3 in c:\\users\\mohamed\\miniconda3\\lib\\site-packages (from pandas->covid19dh) (2021.3)\n",
      "Requirement already satisfied: six>=1.5 in c:\\users\\mohamed\\miniconda3\\lib\\site-packages (from python-dateutil>=2.7.3->pandas->covid19dh) (1.16.0)\n",
      "Requirement already satisfied: charset-normalizer~=2.0.0 in c:\\users\\mohamed\\miniconda3\\lib\\site-packages (from requests->covid19dh) (2.0.4)\n",
      "Requirement already satisfied: idna<4,>=2.5 in c:\\users\\mohamed\\miniconda3\\lib\\site-packages (from requests->covid19dh) (3.2)\n",
      "Requirement already satisfied: certifi>=2017.4.17 in c:\\users\\mohamed\\miniconda3\\lib\\site-packages (from requests->covid19dh) (2021.10.8)\n",
      "Requirement already satisfied: urllib3<1.27,>=1.21.1 in c:\\users\\mohamed\\miniconda3\\lib\\site-packages (from requests->covid19dh) (1.26.7)\n"
     ]
    }
   ],
   "source": [
    "!pip install --upgrade covid19dh"
   ]
  },
  {
   "cell_type": "code",
   "execution_count": 7,
   "id": "cc3f55fc-b571-4155-9ec1-829a8a6d8453",
   "metadata": {},
   "outputs": [],
   "source": [
    "eu_codes = \"\"\"Code\tCountry\tAlpha-2\tAlpha-3\n",
    "040\tAustria\tAT\tAUT\n",
    "056\tBelgium\tBE\tBEL\n",
    "100\tBulgaria\tBG\tBGR\n",
    "191\tCroatia\tHR\tHRV\n",
    "196\tCyprus\tCY\tCYP\n",
    "203\tCzech Republic\tCZ\tCZE\n",
    "208\tDenmark\tDK\tDNK\n",
    "233\tEstonia\tEE\tEST\n",
    "246\tFinland\tFI\tFIN\n",
    "250\tFrance\tFR\tFRA\n",
    "276\tGermany\tDE\tDEU\n",
    "300\tGreece\tGR\tGRC\n",
    "348\tHungary\tHU\tHUN\n",
    "372\tIreland, Republic of (EIRE)\tIE\tIRL\n",
    "380\tItaly\tIT\tITA\n",
    "428\tLatvia\tLV\tLVA\n",
    "440\tLithuania\tLT\tLTU\n",
    "442\tLuxembourg\tLU\tLUX\n",
    "470\tMalta\tMT\tMLT\n",
    "528\tNetherlands\tNL\tNLD\n",
    "616\tPoland\tPL\tPOL\n",
    "620\tPortugal\tPT\tPRT\n",
    "642\tRomania\tRO\tROU\n",
    "703\tSlovakia\tSK\tSVK\n",
    "705\tSlovenia\tSI\tSVN\n",
    "724\tSpain\tES\tESP\n",
    "752\tSweden\tSE\tSWE\n",
    "826\tUnited Kingdom\tGB\tGBR\"\"\""
   ]
  },
  {
   "cell_type": "code",
   "execution_count": 8,
   "id": "10327094-0641-4b1b-ac6b-7b46f0fc9187",
   "metadata": {},
   "outputs": [],
   "source": [
    "eu_codes = pd.DataFrame([i.split('\\t') for i in eu_codes.split('\\n')]).iloc[1:,:]"
   ]
  },
  {
   "cell_type": "code",
   "execution_count": 9,
   "id": "0d5c5906-d776-4366-a655-5d3d5687f91e",
   "metadata": {},
   "outputs": [
    {
     "data": {
      "text/plain": [
       "28"
      ]
     },
     "execution_count": 9,
     "metadata": {},
     "output_type": "execute_result"
    }
   ],
   "source": [
    "len(eu_codes[3])"
   ]
  },
  {
   "cell_type": "code",
   "execution_count": 120,
   "id": "ed94eb88-59b0-43a3-9597-8a6758b6de05",
   "metadata": {},
   "outputs": [
    {
     "name": "stdout",
     "output_type": "stream",
     "text": [
      "We have invested a lot of time and effort in creating COVID-19 Data Hub, please cite the following when using it:\n",
      "\n",
      "\t\u001b[1mGuidotti, E., Ardia, D., (2020), \"COVID-19 Data Hub\", Journal of Open Source Software 5(51):2376, doi: 10.21105/joss.02376.\u001b[0m\n",
      "\n",
      "A BibTeX entry for LaTeX users is\n",
      "\n",
      "\t@Article{,\n",
      "\t\ttitle = {COVID-19 Data Hub},\n",
      "\t\tyear = {2020},\n",
      "\t\tdoi = {10.21105/joss.02376},\n",
      "\t\tauthor = {Emanuele Guidotti and David Ardia},\n",
      "\t\tjournal = {Journal of Open Source Software},\n",
      "\t\tvolume = {5},\n",
      "\t\tnumber = {51},\n",
      "\t\tpages = {2376},\n",
      "\t}\n",
      "\n",
      "\u001b[33mTo hide this message use 'verbose = False'.\u001b[0m\n"
     ]
    }
   ],
   "source": [
    "x, src = covid19(eu_codes[3], level = 3) "
   ]
  },
  {
   "cell_type": "code",
   "execution_count": 121,
   "id": "124f68a5-730c-4e19-b853-8994db8209ea",
   "metadata": {},
   "outputs": [
    {
     "name": "stdout",
     "output_type": "stream",
     "text": [
      "Available countries are:\n",
      "12\n",
      "\n"
     ]
    },
    {
     "data": {
      "text/html": [
       "<div>\n",
       "<style scoped>\n",
       "    .dataframe tbody tr th:only-of-type {\n",
       "        vertical-align: middle;\n",
       "    }\n",
       "\n",
       "    .dataframe tbody tr th {\n",
       "        vertical-align: top;\n",
       "    }\n",
       "\n",
       "    .dataframe thead th {\n",
       "        text-align: right;\n",
       "    }\n",
       "</style>\n",
       "<table border=\"1\" class=\"dataframe\">\n",
       "  <thead>\n",
       "    <tr style=\"text-align: right;\">\n",
       "      <th></th>\n",
       "      <th>0</th>\n",
       "      <th>1</th>\n",
       "      <th>2</th>\n",
       "      <th>3</th>\n",
       "    </tr>\n",
       "  </thead>\n",
       "  <tbody>\n",
       "    <tr>\n",
       "      <th>1</th>\n",
       "      <td>040</td>\n",
       "      <td>Austria</td>\n",
       "      <td>AT</td>\n",
       "      <td>AUT</td>\n",
       "    </tr>\n",
       "    <tr>\n",
       "      <th>2</th>\n",
       "      <td>056</td>\n",
       "      <td>Belgium</td>\n",
       "      <td>BE</td>\n",
       "      <td>BEL</td>\n",
       "    </tr>\n",
       "    <tr>\n",
       "      <th>6</th>\n",
       "      <td>203</td>\n",
       "      <td>Czech Republic</td>\n",
       "      <td>CZ</td>\n",
       "      <td>CZE</td>\n",
       "    </tr>\n",
       "    <tr>\n",
       "      <th>7</th>\n",
       "      <td>208</td>\n",
       "      <td>Denmark</td>\n",
       "      <td>DK</td>\n",
       "      <td>DNK</td>\n",
       "    </tr>\n",
       "    <tr>\n",
       "      <th>10</th>\n",
       "      <td>250</td>\n",
       "      <td>France</td>\n",
       "      <td>FR</td>\n",
       "      <td>FRA</td>\n",
       "    </tr>\n",
       "    <tr>\n",
       "      <th>11</th>\n",
       "      <td>276</td>\n",
       "      <td>Germany</td>\n",
       "      <td>DE</td>\n",
       "      <td>DEU</td>\n",
       "    </tr>\n",
       "    <tr>\n",
       "      <th>15</th>\n",
       "      <td>380</td>\n",
       "      <td>Italy</td>\n",
       "      <td>IT</td>\n",
       "      <td>ITA</td>\n",
       "    </tr>\n",
       "    <tr>\n",
       "      <th>16</th>\n",
       "      <td>428</td>\n",
       "      <td>Latvia</td>\n",
       "      <td>LV</td>\n",
       "      <td>LVA</td>\n",
       "    </tr>\n",
       "    <tr>\n",
       "      <th>17</th>\n",
       "      <td>440</td>\n",
       "      <td>Lithuania</td>\n",
       "      <td>LT</td>\n",
       "      <td>LTU</td>\n",
       "    </tr>\n",
       "    <tr>\n",
       "      <th>20</th>\n",
       "      <td>528</td>\n",
       "      <td>Netherlands</td>\n",
       "      <td>NL</td>\n",
       "      <td>NLD</td>\n",
       "    </tr>\n",
       "    <tr>\n",
       "      <th>26</th>\n",
       "      <td>724</td>\n",
       "      <td>Spain</td>\n",
       "      <td>ES</td>\n",
       "      <td>ESP</td>\n",
       "    </tr>\n",
       "    <tr>\n",
       "      <th>28</th>\n",
       "      <td>826</td>\n",
       "      <td>United Kingdom</td>\n",
       "      <td>GB</td>\n",
       "      <td>GBR</td>\n",
       "    </tr>\n",
       "  </tbody>\n",
       "</table>\n",
       "</div>"
      ],
      "text/plain": [
       "      0               1   2    3\n",
       "1   040         Austria  AT  AUT\n",
       "2   056         Belgium  BE  BEL\n",
       "6   203  Czech Republic  CZ  CZE\n",
       "7   208         Denmark  DK  DNK\n",
       "10  250          France  FR  FRA\n",
       "11  276         Germany  DE  DEU\n",
       "15  380           Italy  IT  ITA\n",
       "16  428          Latvia  LV  LVA\n",
       "17  440       Lithuania  LT  LTU\n",
       "20  528     Netherlands  NL  NLD\n",
       "26  724           Spain  ES  ESP\n",
       "28  826  United Kingdom  GB  GBR"
      ]
     },
     "execution_count": 121,
     "metadata": {},
     "output_type": "execute_result"
    }
   ],
   "source": [
    "print('Available countries are:')\n",
    "print(len(eu_codes[eu_codes[3].isin(src.iso_alpha_3.unique())]))\n",
    "print()\n",
    "eu_codes[eu_codes[3].isin(src.iso_alpha_3.unique())]"
   ]
  },
  {
   "cell_type": "code",
   "execution_count": null,
   "id": "eab3ef65-a72f-4119-8e2b-8fef8cd43f7a",
   "metadata": {},
   "outputs": [],
   "source": [
    "x.query('iso_alpha_3 == \"BEL\"').groupby(['date', 'administrative_area_level_2']).plot(x = 'date', y = 'tests', legend = False)"
   ]
  },
  {
   "cell_type": "code",
   "execution_count": null,
   "id": "3eaca2de-2628-447a-bba0-8e731afff564",
   "metadata": {},
   "outputs": [],
   "source": [
    "x.query('iso_alpha_3 == \"BEL\"')[['date', 'recovered']]"
   ]
  }
 ],
 "metadata": {
  "kernelspec": {
   "display_name": "Python 3 (ipykernel)",
   "language": "python",
   "name": "python3"
  },
  "language_info": {
   "codemirror_mode": {
    "name": "ipython",
    "version": 3
   },
   "file_extension": ".py",
   "mimetype": "text/x-python",
   "name": "python",
   "nbconvert_exporter": "python",
   "pygments_lexer": "ipython3",
   "version": "3.9.7"
  }
 },
 "nbformat": 4,
 "nbformat_minor": 5
}
