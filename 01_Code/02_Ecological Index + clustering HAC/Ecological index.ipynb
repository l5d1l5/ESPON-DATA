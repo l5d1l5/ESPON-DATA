{
 "cells": [
  {
   "cell_type": "code",
   "execution_count": 34,
   "id": "f3346275-e1bf-43c6-8189-08a7779914f9",
   "metadata": {},
   "outputs": [
    {
     "name": "stderr",
     "output_type": "stream",
     "text": [
      "C:\\Users\\Mohamed\\miniconda3\\lib\\site-packages\\pysal\\explore\\segregation\\network\\network.py:15: UserWarning: You need pandana and urbanaccess to work with segregation's network module\n",
      "You can install them with  `pip install urbanaccess pandana` or `conda install -c udst pandana urbanaccess`\n",
      "C:\\Users\\Mohamed\\miniconda3\\lib\\site-packages\\pysal\\model\\spvcm\\abstracts.py:10: UserWarning: The `dill` module is required to use the sqlite backend fully.\n"
     ]
    }
   ],
   "source": [
    "import numpy as np \n",
    "import pandas as pd \n",
    "import geopandas as gpd \n",
    "import matplotlib.pyplot as plt \n",
    "from shapely.geometry import Point\n",
    "import seaborn as sns\n",
    "from plotnine import *\n",
    "from pysal.explore import esda\n",
    "from pysal.lib import weights \n",
    "from matplotlib import colors\n",
    "from matplotlib_scalebar.scalebar import ScaleBar\n",
    "%matplotlib inline \n",
    "%config InlineBackend.figure_format='retina'\n",
    "# set mamp general general aspect \n",
    "plt.rcParams['figure.dpi'] = 150\n",
    "# set figures path \n",
    "Fig = 'Figures/'"
   ]
  },
  {
   "cell_type": "code",
   "execution_count": 35,
   "id": "2d8b2e02",
   "metadata": {},
   "outputs": [],
   "source": [
    "import pandas as pd\n",
    "import geopandas as gpd\n",
    "import numpy as np\n",
    "import os\n",
    "from functools import reduce"
   ]
  },
  {
   "cell_type": "code",
   "execution_count": 29,
   "id": "68813b2c",
   "metadata": {},
   "outputs": [],
   "source": [
    "pop = pd.read_excel('Data/Population.xls', skiprows = 10)[['GEO/TIME', '2019', '2020']]\n",
    "pop.columns = ['GEO/TIME', '2019_POP', '2020_POP']\n",
    "\n",
    "neet = pd.read_excel('Data/NEET.xls', skiprows = 12)[['GEO/TIME', '2019', '2020']]\n",
    "neet.columns = ['GEO/TIME', '2019_NEET', '2020_NEET']\n",
    "\n",
    "edu = pd.read_excel('Data/Population by education attainment.xls', skiprows = 11)[['GEO/TIME', '2019', '2020']]\n",
    "edu.columns = ['GEO/TIME', '2019_EDU', '2020_EDU']\n",
    "\n",
    "unem = pd.read_excel('Data/Unemployment.xls', skiprows = 11)[['GEO/TIME', '2019', '2020']]\n",
    "unem.columns = ['GEO/TIME', '2019_UNEM', '2020_UNEM']\n",
    "\n",
    "youth_unem = pd.read_excel('Data/Youth unemployment.xls', skiprows = 11)[['GEO/TIME', '2019', '2020']]\n",
    "youth_unem.columns = ['GEO/TIME', '2019_YOUTH', '2020_YOUTH']\n",
    "\n",
    "emp = pd.read_excel('Data/Employment.xls', skiprows = 10)[['GEO/TIME', '2019', '2020']]\n",
    "emp.columns = ['GEO/TIME', '2019_EMP', '2020_EMP']"
   ]
  },
  {
   "cell_type": "code",
   "execution_count": 30,
   "id": "18feee3d",
   "metadata": {},
   "outputs": [],
   "source": [
    "# initiate a list \n",
    "indicators = [pop, neet, edu, unem, youth_unem, emp]"
   ]
  },
  {
   "cell_type": "code",
   "execution_count": 31,
   "id": "799ccc31-4c0b-4de1-bf52-26bc76eb95bd",
   "metadata": {},
   "outputs": [
    {
     "data": {
      "text/plain": [
       "[                                              GEO/TIME   2019_POP   2020_POP\n",
       " 0    EU27_2020 - European Union - 27 countries (fro...  446446444  447319916\n",
       " 1     EU28 - European Union - 28 countries (2013-2020)  513093556          :\n",
       " 2    EU27_2007 - European Union - 27 countries (200...  509017310          :\n",
       " 3                                         BE - Belgium   11455519   11522440\n",
       " 4    BE1 - Région de Bruxelles-Capitale/Brussels Ho...    1215290    1223364\n",
       " ..                                                 ...        ...        ...\n",
       " 502                   TRB2 - Van, Mus, Bitlis, Hakkari    2167642    2174672\n",
       " 503                            TRC - Güneydogu Anadolu    8847980    8975618\n",
       " 504                  TRC1 - Gaziantep, Adiyaman, Kilis    2795617    2838319\n",
       " 505                       TRC2 - Sanliurfa, Diyarbakir    3768205    3829967\n",
       " 506               TRC3 - Mardin, Batman, Sirnak, Siirt    2284158    2307332\n",
       " \n",
       " [507 rows x 3 columns],\n",
       "                                               GEO/TIME  2019_NEET  2020_NEET\n",
       " 0    EU27_2020 - European Union - 27 countries (fro...       12.6       13.7\n",
       " 1     EU28 - European Union - 28 countries (2013-2020)       12.5       12.5\n",
       " 2     EU15 - European Union - 15 countries (1995-2004)       12.3       12.3\n",
       " 3         EA19 - Euro area - 19 countries  (from 2015)       12.7       13.9\n",
       " 4                                         BE - Belgium       11.8       12.0\n",
       " ..                                                 ...        ...        ...\n",
       " 494                   TRB2 - Van, Mus, Bitlis, Hakkari       44.1       44.6\n",
       " 495                            TRC - Güneydogu Anadolu       42.5       45.9\n",
       " 496                  TRC1 - Gaziantep, Adiyaman, Kilis       37.9       35.8\n",
       " 497                       TRC2 - Sanliurfa, Diyarbakir       44.8       51.2\n",
       " 498               TRC3 - Mardin, Batman, Sirnak, Siirt       43.4       47.2\n",
       " \n",
       " [499 rows x 3 columns],\n",
       "                                               GEO/TIME  2019_EDU  2020_EDU\n",
       " 0    EU27_2020 - European Union - 27 countries (fro...  285060.3  284335.1\n",
       " 1     EU28 - European Union - 28 countries (2013-2020)  326817.1  326817.1\n",
       " 2     EU15 - European Union - 15 countries (1995-2004)  260290.8  260290.8\n",
       " 3         EA19 - Euro area - 19 countries  (from 2015)  218267.3  218045.5\n",
       " 4                                         BE - Belgium    7306.9    7325.7\n",
       " ..                                                 ...       ...       ...\n",
       " 495                   TRB2 - Van, Mus, Bitlis, Hakkari    1267.9    1314.5\n",
       " 496                            TRC - Güneydogu Anadolu    5237.1    5347.2\n",
       " 497                  TRC1 - Gaziantep, Adiyaman, Kilis    1695.1    1729.8\n",
       " 498                       TRC2 - Sanliurfa, Diyarbakir    2204.6    2239.0\n",
       " 499               TRC3 - Mardin, Batman, Sirnak, Siirt    1337.3    1378.4\n",
       " \n",
       " [500 rows x 3 columns],\n",
       "                                               GEO/TIME  2019_UNEM  2020_UNEM\n",
       " 0    EU27_2020 - European Union - 27 countries (fro...    14389.7    15013.8\n",
       " 1     EU28 - European Union - 28 countries (2013-2020)    15659.0    15659.0\n",
       " 2     EU15 - European Union - 15 countries (1995-2004)    13788.0    13788.0\n",
       " 3         EA19 - Euro area - 19 countries  (from 2015)    12419.7    12758.8\n",
       " 4                                         BE - Belgium      273.7      282.4\n",
       " ..                                                 ...        ...        ...\n",
       " 495                   TRB2 - Van, Mus, Bitlis, Hakkari      179.6      159.0\n",
       " 496                            TRC - Güneydogu Anadolu      581.4      495.3\n",
       " 497                  TRC1 - Gaziantep, Adiyaman, Kilis      134.5      117.1\n",
       " 498                       TRC2 - Sanliurfa, Diyarbakir      255.0      183.9\n",
       " 499               TRC3 - Mardin, Batman, Sirnak, Siirt      191.9      194.3\n",
       " \n",
       " [500 rows x 3 columns],\n",
       "                                               GEO/TIME  2019_YOUTH  2020_YOUTH\n",
       " 0    EU27_2020 - European Union - 27 countries (fro...      2756.4      2947.2\n",
       " 1     EU28 - European Union - 28 countries (2013-2020)      3220.6      3220.6\n",
       " 2     EU15 - European Union - 15 countries (1995-2004)      2835.8      2835.8\n",
       " 3         EA19 - Euro area - 19 countries  (from 2015)      2267.2      2419.1\n",
       " 4                                         BE - Belgium        57.0        56.6\n",
       " ..                                                 ...         ...         ...\n",
       " 495                   TRB2 - Van, Mus, Bitlis, Hakkari        58.4        55.7\n",
       " 496                            TRC - Güneydogu Anadolu       212.6       169.6\n",
       " 497                  TRC1 - Gaziantep, Adiyaman, Kilis        41.6        33.5\n",
       " 498                       TRC2 - Sanliurfa, Diyarbakir        92.2        55.6\n",
       " 499               TRC3 - Mardin, Batman, Sirnak, Siirt        78.8        80.5\n",
       " \n",
       " [500 rows x 3 columns],\n",
       "                                               GEO/TIME  2019_EMP  2020_EMP\n",
       " 0    EU27_2020 - European Union - 27 countries (fro...  194900.4  192237.8\n",
       " 1     EU28 - European Union - 28 countries (2013-2020)  226282.6  226282.6\n",
       " 2     EU15 - European Union - 15 countries (1995-2004)  180412.6  180412.6\n",
       " 3         EA19 - Euro area - 19 countries  (from 2015)  148307.9  146184.1\n",
       " 4                                         BE - Belgium    4770.7    4740.6\n",
       " ..                                                 ...       ...       ...\n",
       " 495                   TRB2 - Van, Mus, Bitlis, Hakkari     506.0     505.2\n",
       " 496                            TRC - Güneydogu Anadolu    1998.8    1883.9\n",
       " 497                  TRC1 - Gaziantep, Adiyaman, Kilis     738.7     772.5\n",
       " 498                       TRC2 - Sanliurfa, Diyarbakir     832.5     727.0\n",
       " 499               TRC3 - Mardin, Batman, Sirnak, Siirt     427.6     384.3\n",
       " \n",
       " [500 rows x 3 columns]]"
      ]
     },
     "execution_count": 31,
     "metadata": {},
     "output_type": "execute_result"
    }
   ],
   "source": [
    "indicators"
   ]
  },
  {
   "cell_type": "code",
   "execution_count": 32,
   "id": "86883e80",
   "metadata": {},
   "outputs": [],
   "source": [
    "# add the nuts_id and nuts_name collumns\n",
    "for i, v in enumerate(indicators):\n",
    "    indicators[i]['NUTS_ID'] = indicators[i]['GEO/TIME'].apply(lambda x: x.split('-')[0].strip())\n",
    "    indicators[i]['NUTS_NAME'] = indicators[i]['GEO/TIME'].apply(lambda x: x.split('-')[1].strip())\n",
    "    indicators[i].drop('GEO/TIME', axis =1, inplace = True)\n",
    "# drop the repeated nuts_name \n",
    "for num in range(1, 6):\n",
    "    indicators[num].drop('NUTS_NAME', axis = 1, inplace = True)"
   ]
  },
  {
   "cell_type": "code",
   "execution_count": 33,
   "id": "6737f853",
   "metadata": {},
   "outputs": [
    {
     "data": {
      "text/plain": [
       "[      2019_POP   2020_POP    NUTS_ID                      NUTS_NAME\n",
       " 0    446446444  447319916  EU27_2020                 European Union\n",
       " 1    513093556          :       EU28                 European Union\n",
       " 2    509017310          :  EU27_2007                 European Union\n",
       " 3     11455519   11522440         BE                        Belgium\n",
       " 4      1215290    1223364        BE1            Région de Bruxelles\n",
       " ..         ...        ...        ...                            ...\n",
       " 502    2167642    2174672       TRB2      Van, Mus, Bitlis, Hakkari\n",
       " 503    8847980    8975618        TRC              Güneydogu Anadolu\n",
       " 504    2795617    2838319       TRC1     Gaziantep, Adiyaman, Kilis\n",
       " 505    3768205    3829967       TRC2          Sanliurfa, Diyarbakir\n",
       " 506    2284158    2307332       TRC3  Mardin, Batman, Sirnak, Siirt\n",
       " \n",
       " [507 rows x 4 columns],\n",
       "      2019_NEET  2020_NEET    NUTS_ID\n",
       " 0         12.6       13.7  EU27_2020\n",
       " 1         12.5       12.5       EU28\n",
       " 2         12.3       12.3       EU15\n",
       " 3         12.7       13.9       EA19\n",
       " 4         11.8       12.0         BE\n",
       " ..         ...        ...        ...\n",
       " 494       44.1       44.6       TRB2\n",
       " 495       42.5       45.9        TRC\n",
       " 496       37.9       35.8       TRC1\n",
       " 497       44.8       51.2       TRC2\n",
       " 498       43.4       47.2       TRC3\n",
       " \n",
       " [499 rows x 3 columns],\n",
       "      2019_EDU  2020_EDU    NUTS_ID\n",
       " 0    285060.3  284335.1  EU27_2020\n",
       " 1    326817.1  326817.1       EU28\n",
       " 2    260290.8  260290.8       EU15\n",
       " 3    218267.3  218045.5       EA19\n",
       " 4      7306.9    7325.7         BE\n",
       " ..        ...       ...        ...\n",
       " 495    1267.9    1314.5       TRB2\n",
       " 496    5237.1    5347.2        TRC\n",
       " 497    1695.1    1729.8       TRC1\n",
       " 498    2204.6    2239.0       TRC2\n",
       " 499    1337.3    1378.4       TRC3\n",
       " \n",
       " [500 rows x 3 columns],\n",
       "      2019_UNEM  2020_UNEM    NUTS_ID\n",
       " 0      14389.7    15013.8  EU27_2020\n",
       " 1      15659.0    15659.0       EU28\n",
       " 2      13788.0    13788.0       EU15\n",
       " 3      12419.7    12758.8       EA19\n",
       " 4        273.7      282.4         BE\n",
       " ..         ...        ...        ...\n",
       " 495      179.6      159.0       TRB2\n",
       " 496      581.4      495.3        TRC\n",
       " 497      134.5      117.1       TRC1\n",
       " 498      255.0      183.9       TRC2\n",
       " 499      191.9      194.3       TRC3\n",
       " \n",
       " [500 rows x 3 columns],\n",
       "      2019_YOUTH  2020_YOUTH    NUTS_ID\n",
       " 0        2756.4      2947.2  EU27_2020\n",
       " 1        3220.6      3220.6       EU28\n",
       " 2        2835.8      2835.8       EU15\n",
       " 3        2267.2      2419.1       EA19\n",
       " 4          57.0        56.6         BE\n",
       " ..          ...         ...        ...\n",
       " 495        58.4        55.7       TRB2\n",
       " 496       212.6       169.6        TRC\n",
       " 497        41.6        33.5       TRC1\n",
       " 498        92.2        55.6       TRC2\n",
       " 499        78.8        80.5       TRC3\n",
       " \n",
       " [500 rows x 3 columns],\n",
       "      2019_EMP  2020_EMP    NUTS_ID\n",
       " 0    194900.4  192237.8  EU27_2020\n",
       " 1    226282.6  226282.6       EU28\n",
       " 2    180412.6  180412.6       EU15\n",
       " 3    148307.9  146184.1       EA19\n",
       " 4      4770.7    4740.6         BE\n",
       " ..        ...       ...        ...\n",
       " 495     506.0     505.2       TRB2\n",
       " 496    1998.8    1883.9        TRC\n",
       " 497     738.7     772.5       TRC1\n",
       " 498     832.5     727.0       TRC2\n",
       " 499     427.6     384.3       TRC3\n",
       " \n",
       " [500 rows x 3 columns]]"
      ]
     },
     "execution_count": 33,
     "metadata": {},
     "output_type": "execute_result"
    }
   ],
   "source": [
    "indicators"
   ]
  },
  {
   "cell_type": "code",
   "execution_count": 18,
   "id": "fc63bf22",
   "metadata": {},
   "outputs": [],
   "source": [
    "ds = reduce(lambda  left,right: pd.merge(left,right,on=['NUTS_ID'],\n",
    "                                            how='outer'), indicators)"
   ]
  },
  {
   "cell_type": "code",
   "execution_count": 21,
   "id": "8791364e",
   "metadata": {},
   "outputs": [],
   "source": [
    "## read shape file \n",
    "\n",
    "shape = gpd.read_file('../../02_Data/01_GIS/02_Full file/NUTS_COVID.shp')[['NUTS_ID', 'geometry']]"
   ]
  },
  {
   "cell_type": "code",
   "execution_count": 23,
   "id": "f7375840",
   "metadata": {},
   "outputs": [],
   "source": [
    "ds = gpd.GeoDataFrame(pd.merge(ds, shape, on = 'NUTS_ID'))"
   ]
  },
  {
   "cell_type": "markdown",
   "id": "ce680671-8a52-4d28-a2aa-e9c5128f2c62",
   "metadata": {},
   "source": [
    "### Compute the \"Ecological Index\""
   ]
  },
  {
   "cell_type": "code",
   "execution_count": 27,
   "id": "4aba2f1b-f444-4df1-abb4-7c5c802700bc",
   "metadata": {},
   "outputs": [
    {
     "ename": "ImportError",
     "evalue": "cannot import name 'PCA' from 'sklearn.preprocessing' (C:\\Users\\Mohamed\\miniconda3\\lib\\site-packages\\sklearn\\preprocessing\\__init__.py)",
     "output_type": "error",
     "traceback": [
      "\u001b[1;31m---------------------------------------------------------------------------\u001b[0m",
      "\u001b[1;31mImportError\u001b[0m                               Traceback (most recent call last)",
      "\u001b[1;32m~\\AppData\\Local\\Temp/ipykernel_4256/2707460829.py\u001b[0m in \u001b[0;36m<module>\u001b[1;34m\u001b[0m\n\u001b[1;32m----> 1\u001b[1;33m \u001b[1;32mfrom\u001b[0m \u001b[0msklearn\u001b[0m\u001b[1;33m.\u001b[0m\u001b[0mpreprocessing\u001b[0m \u001b[1;32mimport\u001b[0m \u001b[0mPCA\u001b[0m\u001b[1;33m\u001b[0m\u001b[1;33m\u001b[0m\u001b[0m\n\u001b[0m",
      "\u001b[1;31mImportError\u001b[0m: cannot import name 'PCA' from 'sklearn.preprocessing' (C:\\Users\\Mohamed\\miniconda3\\lib\\site-packages\\sklearn\\preprocessing\\__init__.py)"
     ]
    }
   ],
   "source": [
    "from sklearn.preprocessing import PCA"
   ]
  },
  {
   "cell_type": "code",
   "execution_count": null,
   "id": "bf04fbc9-a8ad-433c-9066-627d56bf8140",
   "metadata": {},
   "outputs": [],
   "source": []
  }
 ],
 "metadata": {
  "kernelspec": {
   "display_name": "Python 3 (ipykernel)",
   "language": "python",
   "name": "python3"
  },
  "language_info": {
   "codemirror_mode": {
    "name": "ipython",
    "version": 3
   },
   "file_extension": ".py",
   "mimetype": "text/x-python",
   "name": "python",
   "nbconvert_exporter": "python",
   "pygments_lexer": "ipython3",
   "version": "3.9.7"
  }
 },
 "nbformat": 4,
 "nbformat_minor": 5
}
