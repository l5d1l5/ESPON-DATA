{
 "cells": [
  {
   "cell_type": "code",
   "execution_count": 1,
   "id": "2d8b2e02",
   "metadata": {},
   "outputs": [],
   "source": [
    "import pandas as pd\n",
    "import geopandas as gpd\n",
    "import numpy as np\n",
    "import os"
   ]
  },
  {
   "cell_type": "code",
   "execution_count": 2,
   "id": "68813b2c",
   "metadata": {},
   "outputs": [],
   "source": [
    "# read the index \n",
    "index = pd.read_excel('Cleaned Data/index.xlsx')"
   ]
  },
  {
   "cell_type": "code",
   "execution_count": 129,
   "id": "8791364e",
   "metadata": {},
   "outputs": [],
   "source": [
    "shape = gpd.read_file('../../02_Data/01_GIS/02_Full file/NUTS_COVID.shp')[['NUTS_ID', 'geometry']]"
   ]
  },
  {
   "cell_type": "code",
   "execution_count": 51,
   "id": "2992522d",
   "metadata": {},
   "outputs": [],
   "source": [
    "# read the files \n",
    "\n",
    "files = [file for file in os.listdir('Cleaned data/') if not file.startswith('index')]\n",
    "\n",
    "out = []\n",
    "\n",
    "for file in files:\n",
    "    read = pd.read_excel('Cleaned data/' + file)\n",
    "    out.append(read)"
   ]
  },
  {
   "cell_type": "code",
   "execution_count": 52,
   "id": "edd87acb",
   "metadata": {},
   "outputs": [
    {
     "name": "stderr",
     "output_type": "stream",
     "text": [
      "C:\\Users\\MHACHA~1\\AppData\\Local\\Temp/ipykernel_10484/976554216.py:3: FutureWarning: Passing 'suffixes' which cause duplicate columns {'2020_x', '2019_x'} in the result is deprecated and will raise a MergeError in a future version.\n",
      "  df_merged = reduce(lambda  left,right: pd.merge(left,right,on=['GEO/TIME'],\n"
     ]
    }
   ],
   "source": [
    "from functools import reduce \n",
    "\n",
    "df_merged = reduce(lambda  left,right: pd.merge(left,right,on=['GEO/TIME'],\n",
    "                                            how='outer'), out)"
   ]
  },
  {
   "cell_type": "code",
   "execution_count": 53,
   "id": "7a7d7ca6",
   "metadata": {},
   "outputs": [],
   "source": [
    "index = pd.read_excel('Cleaned data/index.xlsx')"
   ]
  },
  {
   "cell_type": "code",
   "execution_count": 54,
   "id": "97f012d3",
   "metadata": {},
   "outputs": [],
   "source": [
    "ds = pd.merge(index, df_merged, left_on = \"NAME\", right_on = \"GEO/TIME\")"
   ]
  },
  {
   "cell_type": "code",
   "execution_count": 58,
   "id": "16470cdc",
   "metadata": {},
   "outputs": [],
   "source": [
    "ds.columns = ['NUTS_ID', 'NAME', 'GEO/TIME', '2019_one', '2020_one', '2019_two', '2020_two',\n",
    "       '2019_three', '2020_three', '2019_four', '2020_four']"
   ]
  },
  {
   "cell_type": "code",
   "execution_count": 69,
   "id": "f7375840",
   "metadata": {},
   "outputs": [],
   "source": [
    "for i in ds.filter(like = '2019').columns: \n",
    "    ds[i].replace(':', 0, inplace = True)\n",
    "    \n",
    "for i in ds.filter(like = '2020').columns: \n",
    "    ds[i].replace(':', 0, inplace = True)"
   ]
  },
  {
   "cell_type": "code",
   "execution_count": 86,
   "id": "facf0dfa",
   "metadata": {},
   "outputs": [
    {
     "data": {
      "text/html": [
       "<div>\n",
       "<style scoped>\n",
       "    .dataframe tbody tr th:only-of-type {\n",
       "        vertical-align: middle;\n",
       "    }\n",
       "\n",
       "    .dataframe tbody tr th {\n",
       "        vertical-align: top;\n",
       "    }\n",
       "\n",
       "    .dataframe thead th {\n",
       "        text-align: right;\n",
       "    }\n",
       "</style>\n",
       "<table border=\"1\" class=\"dataframe\">\n",
       "  <thead>\n",
       "    <tr style=\"text-align: right;\">\n",
       "      <th></th>\n",
       "      <th>NUTS_ID</th>\n",
       "      <th>GEO/TIME</th>\n",
       "      <th>2019_one</th>\n",
       "      <th>2020_one</th>\n",
       "      <th>2019_two</th>\n",
       "      <th>2020_two</th>\n",
       "      <th>2019_three</th>\n",
       "      <th>2020_three</th>\n",
       "      <th>2019_four</th>\n",
       "      <th>2020_four</th>\n",
       "    </tr>\n",
       "  </thead>\n",
       "  <tbody>\n",
       "    <tr>\n",
       "      <th>762</th>\n",
       "      <td>FRM0</td>\n",
       "      <td>Corse</td>\n",
       "      <td>189.8</td>\n",
       "      <td>192.1</td>\n",
       "      <td>127.6</td>\n",
       "      <td>129.5</td>\n",
       "      <td>8.7</td>\n",
       "      <td>11.7</td>\n",
       "      <td>6.4</td>\n",
       "      <td>0.0</td>\n",
       "    </tr>\n",
       "    <tr>\n",
       "      <th>1765</th>\n",
       "      <td>TR4</td>\n",
       "      <td>Dogu Marmara</td>\n",
       "      <td>5452.9</td>\n",
       "      <td>5483.1</td>\n",
       "      <td>2780.2</td>\n",
       "      <td>2729.4</td>\n",
       "      <td>399.6</td>\n",
       "      <td>342.6</td>\n",
       "      <td>360.5</td>\n",
       "      <td>312.7</td>\n",
       "    </tr>\n",
       "    <tr>\n",
       "      <th>1494</th>\n",
       "      <td>FI20</td>\n",
       "      <td>Åland</td>\n",
       "      <td>17.4</td>\n",
       "      <td>18.1</td>\n",
       "      <td>14.2</td>\n",
       "      <td>14.7</td>\n",
       "      <td>0.0</td>\n",
       "      <td>0.0</td>\n",
       "      <td>0.0</td>\n",
       "      <td>0.0</td>\n",
       "    </tr>\n",
       "    <tr>\n",
       "      <th>1160</th>\n",
       "      <td>HU21</td>\n",
       "      <td>Közép-Dunántúl</td>\n",
       "      <td>694.4</td>\n",
       "      <td>692.3</td>\n",
       "      <td>498.4</td>\n",
       "      <td>496.0</td>\n",
       "      <td>10.2</td>\n",
       "      <td>14.4</td>\n",
       "      <td>35.6</td>\n",
       "      <td>30.7</td>\n",
       "    </tr>\n",
       "    <tr>\n",
       "      <th>817</th>\n",
       "      <td>RO21</td>\n",
       "      <td>Nord-Est</td>\n",
       "      <td>2052.0</td>\n",
       "      <td>2030.5</td>\n",
       "      <td>5058.2</td>\n",
       "      <td>4953.7</td>\n",
       "      <td>302.8</td>\n",
       "      <td>304.5</td>\n",
       "      <td>152.3</td>\n",
       "      <td>148.3</td>\n",
       "    </tr>\n",
       "    <tr>\n",
       "      <th>1383</th>\n",
       "      <td>PT11</td>\n",
       "      <td>Norte</td>\n",
       "      <td>2374.5</td>\n",
       "      <td>2372.9</td>\n",
       "      <td>1638.1</td>\n",
       "      <td>1628.2</td>\n",
       "      <td>122.4</td>\n",
       "      <td>125.4</td>\n",
       "      <td>116.9</td>\n",
       "      <td>107.3</td>\n",
       "    </tr>\n",
       "    <tr>\n",
       "      <th>1578</th>\n",
       "      <td>UKE</td>\n",
       "      <td>Yorkshire and The Humber</td>\n",
       "      <td>3410.2</td>\n",
       "      <td>0.0</td>\n",
       "      <td>2480.7</td>\n",
       "      <td>0.0</td>\n",
       "      <td>119.6</td>\n",
       "      <td>0.0</td>\n",
       "      <td>317.5</td>\n",
       "      <td>0.0</td>\n",
       "    </tr>\n",
       "    <tr>\n",
       "      <th>473</th>\n",
       "      <td>EL63</td>\n",
       "      <td>Dytiki Ellada</td>\n",
       "      <td>421.3</td>\n",
       "      <td>418.2</td>\n",
       "      <td>209.4</td>\n",
       "      <td>211.6</td>\n",
       "      <td>68.2</td>\n",
       "      <td>59.7</td>\n",
       "      <td>7.1</td>\n",
       "      <td>7.0</td>\n",
       "    </tr>\n",
       "    <tr>\n",
       "      <th>1574</th>\n",
       "      <td>UKD3</td>\n",
       "      <td>Greater Manchester</td>\n",
       "      <td>1817.6</td>\n",
       "      <td>0.0</td>\n",
       "      <td>1325.6</td>\n",
       "      <td>0.0</td>\n",
       "      <td>72.8</td>\n",
       "      <td>0.0</td>\n",
       "      <td>154.2</td>\n",
       "      <td>0.0</td>\n",
       "    </tr>\n",
       "    <tr>\n",
       "      <th>791</th>\n",
       "      <td>ITC4</td>\n",
       "      <td>Lombardia</td>\n",
       "      <td>6395.1</td>\n",
       "      <td>6412.6</td>\n",
       "      <td>4372.3</td>\n",
       "      <td>4288.6</td>\n",
       "      <td>267.0</td>\n",
       "      <td>233.2</td>\n",
       "      <td>230.2</td>\n",
       "      <td>207.0</td>\n",
       "    </tr>\n",
       "  </tbody>\n",
       "</table>\n",
       "</div>"
      ],
      "text/plain": [
       "     NUTS_ID                  GEO/TIME  2019_one  2020_one  2019_two  \\\n",
       "762     FRM0                     Corse     189.8     192.1     127.6   \n",
       "1765     TR4              Dogu Marmara    5452.9    5483.1    2780.2   \n",
       "1494    FI20                     Åland      17.4      18.1      14.2   \n",
       "1160    HU21            Közép-Dunántúl     694.4     692.3     498.4   \n",
       "817     RO21                  Nord-Est    2052.0    2030.5    5058.2   \n",
       "1383    PT11                     Norte    2374.5    2372.9    1638.1   \n",
       "1578     UKE  Yorkshire and The Humber    3410.2       0.0    2480.7   \n",
       "473     EL63             Dytiki Ellada     421.3     418.2     209.4   \n",
       "1574    UKD3        Greater Manchester    1817.6       0.0    1325.6   \n",
       "791     ITC4                 Lombardia    6395.1    6412.6    4372.3   \n",
       "\n",
       "      2020_two  2019_three  2020_three  2019_four  2020_four  \n",
       "762      129.5         8.7        11.7        6.4        0.0  \n",
       "1765    2729.4       399.6       342.6      360.5      312.7  \n",
       "1494      14.7         0.0         0.0        0.0        0.0  \n",
       "1160     496.0        10.2        14.4       35.6       30.7  \n",
       "817     4953.7       302.8       304.5      152.3      148.3  \n",
       "1383    1628.2       122.4       125.4      116.9      107.3  \n",
       "1578       0.0       119.6         0.0      317.5        0.0  \n",
       "473      211.6        68.2        59.7        7.1        7.0  \n",
       "1574       0.0        72.8         0.0      154.2        0.0  \n",
       "791     4288.6       267.0       233.2      230.2      207.0  "
      ]
     },
     "execution_count": 86,
     "metadata": {},
     "output_type": "execute_result"
    }
   ],
   "source": [
    "ds.sample(10)"
   ]
  },
  {
   "cell_type": "markdown",
   "id": "806327ff",
   "metadata": {},
   "source": [
    "## Make the analysis "
   ]
  },
  {
   "cell_type": "code",
   "execution_count": 87,
   "id": "db7e5581",
   "metadata": {},
   "outputs": [],
   "source": [
    "ds.drop_duplicates(keep = 'first', inplace = True)"
   ]
  },
  {
   "cell_type": "code",
   "execution_count": 88,
   "id": "29f396c9",
   "metadata": {},
   "outputs": [
    {
     "data": {
      "text/plain": [
       "(494, 10)"
      ]
     },
     "execution_count": 88,
     "metadata": {},
     "output_type": "execute_result"
    }
   ],
   "source": [
    "ds.shape"
   ]
  },
  {
   "cell_type": "code",
   "execution_count": 89,
   "id": "e3639092",
   "metadata": {},
   "outputs": [
    {
     "ename": "KeyError",
     "evalue": "\"['NAME'] not found in axis\"",
     "output_type": "error",
     "traceback": [
      "\u001b[1;31m---------------------------------------------------------------------------\u001b[0m",
      "\u001b[1;31mKeyError\u001b[0m                                  Traceback (most recent call last)",
      "\u001b[1;32mC:\\Users\\MHACHA~1\\AppData\\Local\\Temp/ipykernel_10484/2391897153.py\u001b[0m in \u001b[0;36m<module>\u001b[1;34m\u001b[0m\n\u001b[1;32m----> 1\u001b[1;33m \u001b[0mds\u001b[0m\u001b[1;33m.\u001b[0m\u001b[0mdrop\u001b[0m\u001b[1;33m(\u001b[0m\u001b[1;34m'NAME'\u001b[0m\u001b[1;33m,\u001b[0m \u001b[0maxis\u001b[0m \u001b[1;33m=\u001b[0m \u001b[1;36m1\u001b[0m\u001b[1;33m,\u001b[0m \u001b[0minplace\u001b[0m \u001b[1;33m=\u001b[0m \u001b[1;32mTrue\u001b[0m\u001b[1;33m)\u001b[0m\u001b[1;33m\u001b[0m\u001b[1;33m\u001b[0m\u001b[0m\n\u001b[0m",
      "\u001b[1;32m~\\Miniconda3\\lib\\site-packages\\pandas\\util\\_decorators.py\u001b[0m in \u001b[0;36mwrapper\u001b[1;34m(*args, **kwargs)\u001b[0m\n\u001b[0;32m    309\u001b[0m                     \u001b[0mstacklevel\u001b[0m\u001b[1;33m=\u001b[0m\u001b[0mstacklevel\u001b[0m\u001b[1;33m,\u001b[0m\u001b[1;33m\u001b[0m\u001b[1;33m\u001b[0m\u001b[0m\n\u001b[0;32m    310\u001b[0m                 )\n\u001b[1;32m--> 311\u001b[1;33m             \u001b[1;32mreturn\u001b[0m \u001b[0mfunc\u001b[0m\u001b[1;33m(\u001b[0m\u001b[1;33m*\u001b[0m\u001b[0margs\u001b[0m\u001b[1;33m,\u001b[0m \u001b[1;33m**\u001b[0m\u001b[0mkwargs\u001b[0m\u001b[1;33m)\u001b[0m\u001b[1;33m\u001b[0m\u001b[1;33m\u001b[0m\u001b[0m\n\u001b[0m\u001b[0;32m    312\u001b[0m \u001b[1;33m\u001b[0m\u001b[0m\n\u001b[0;32m    313\u001b[0m         \u001b[1;32mreturn\u001b[0m \u001b[0mwrapper\u001b[0m\u001b[1;33m\u001b[0m\u001b[1;33m\u001b[0m\u001b[0m\n",
      "\u001b[1;32m~\\Miniconda3\\lib\\site-packages\\pandas\\core\\frame.py\u001b[0m in \u001b[0;36mdrop\u001b[1;34m(self, labels, axis, index, columns, level, inplace, errors)\u001b[0m\n\u001b[0;32m   4904\u001b[0m                 \u001b[0mweight\u001b[0m  \u001b[1;36m1.0\u001b[0m     \u001b[1;36m0.8\u001b[0m\u001b[1;33m\u001b[0m\u001b[1;33m\u001b[0m\u001b[0m\n\u001b[0;32m   4905\u001b[0m         \"\"\"\n\u001b[1;32m-> 4906\u001b[1;33m         return super().drop(\n\u001b[0m\u001b[0;32m   4907\u001b[0m             \u001b[0mlabels\u001b[0m\u001b[1;33m=\u001b[0m\u001b[0mlabels\u001b[0m\u001b[1;33m,\u001b[0m\u001b[1;33m\u001b[0m\u001b[1;33m\u001b[0m\u001b[0m\n\u001b[0;32m   4908\u001b[0m             \u001b[0maxis\u001b[0m\u001b[1;33m=\u001b[0m\u001b[0maxis\u001b[0m\u001b[1;33m,\u001b[0m\u001b[1;33m\u001b[0m\u001b[1;33m\u001b[0m\u001b[0m\n",
      "\u001b[1;32m~\\Miniconda3\\lib\\site-packages\\pandas\\core\\generic.py\u001b[0m in \u001b[0;36mdrop\u001b[1;34m(self, labels, axis, index, columns, level, inplace, errors)\u001b[0m\n\u001b[0;32m   4148\u001b[0m         \u001b[1;32mfor\u001b[0m \u001b[0maxis\u001b[0m\u001b[1;33m,\u001b[0m \u001b[0mlabels\u001b[0m \u001b[1;32min\u001b[0m \u001b[0maxes\u001b[0m\u001b[1;33m.\u001b[0m\u001b[0mitems\u001b[0m\u001b[1;33m(\u001b[0m\u001b[1;33m)\u001b[0m\u001b[1;33m:\u001b[0m\u001b[1;33m\u001b[0m\u001b[1;33m\u001b[0m\u001b[0m\n\u001b[0;32m   4149\u001b[0m             \u001b[1;32mif\u001b[0m \u001b[0mlabels\u001b[0m \u001b[1;32mis\u001b[0m \u001b[1;32mnot\u001b[0m \u001b[1;32mNone\u001b[0m\u001b[1;33m:\u001b[0m\u001b[1;33m\u001b[0m\u001b[1;33m\u001b[0m\u001b[0m\n\u001b[1;32m-> 4150\u001b[1;33m                 \u001b[0mobj\u001b[0m \u001b[1;33m=\u001b[0m \u001b[0mobj\u001b[0m\u001b[1;33m.\u001b[0m\u001b[0m_drop_axis\u001b[0m\u001b[1;33m(\u001b[0m\u001b[0mlabels\u001b[0m\u001b[1;33m,\u001b[0m \u001b[0maxis\u001b[0m\u001b[1;33m,\u001b[0m \u001b[0mlevel\u001b[0m\u001b[1;33m=\u001b[0m\u001b[0mlevel\u001b[0m\u001b[1;33m,\u001b[0m \u001b[0merrors\u001b[0m\u001b[1;33m=\u001b[0m\u001b[0merrors\u001b[0m\u001b[1;33m)\u001b[0m\u001b[1;33m\u001b[0m\u001b[1;33m\u001b[0m\u001b[0m\n\u001b[0m\u001b[0;32m   4151\u001b[0m \u001b[1;33m\u001b[0m\u001b[0m\n\u001b[0;32m   4152\u001b[0m         \u001b[1;32mif\u001b[0m \u001b[0minplace\u001b[0m\u001b[1;33m:\u001b[0m\u001b[1;33m\u001b[0m\u001b[1;33m\u001b[0m\u001b[0m\n",
      "\u001b[1;32m~\\Miniconda3\\lib\\site-packages\\pandas\\core\\generic.py\u001b[0m in \u001b[0;36m_drop_axis\u001b[1;34m(self, labels, axis, level, errors)\u001b[0m\n\u001b[0;32m   4183\u001b[0m                 \u001b[0mnew_axis\u001b[0m \u001b[1;33m=\u001b[0m \u001b[0maxis\u001b[0m\u001b[1;33m.\u001b[0m\u001b[0mdrop\u001b[0m\u001b[1;33m(\u001b[0m\u001b[0mlabels\u001b[0m\u001b[1;33m,\u001b[0m \u001b[0mlevel\u001b[0m\u001b[1;33m=\u001b[0m\u001b[0mlevel\u001b[0m\u001b[1;33m,\u001b[0m \u001b[0merrors\u001b[0m\u001b[1;33m=\u001b[0m\u001b[0merrors\u001b[0m\u001b[1;33m)\u001b[0m\u001b[1;33m\u001b[0m\u001b[1;33m\u001b[0m\u001b[0m\n\u001b[0;32m   4184\u001b[0m             \u001b[1;32melse\u001b[0m\u001b[1;33m:\u001b[0m\u001b[1;33m\u001b[0m\u001b[1;33m\u001b[0m\u001b[0m\n\u001b[1;32m-> 4185\u001b[1;33m                 \u001b[0mnew_axis\u001b[0m \u001b[1;33m=\u001b[0m \u001b[0maxis\u001b[0m\u001b[1;33m.\u001b[0m\u001b[0mdrop\u001b[0m\u001b[1;33m(\u001b[0m\u001b[0mlabels\u001b[0m\u001b[1;33m,\u001b[0m \u001b[0merrors\u001b[0m\u001b[1;33m=\u001b[0m\u001b[0merrors\u001b[0m\u001b[1;33m)\u001b[0m\u001b[1;33m\u001b[0m\u001b[1;33m\u001b[0m\u001b[0m\n\u001b[0m\u001b[0;32m   4186\u001b[0m             \u001b[0mresult\u001b[0m \u001b[1;33m=\u001b[0m \u001b[0mself\u001b[0m\u001b[1;33m.\u001b[0m\u001b[0mreindex\u001b[0m\u001b[1;33m(\u001b[0m\u001b[1;33m**\u001b[0m\u001b[1;33m{\u001b[0m\u001b[0maxis_name\u001b[0m\u001b[1;33m:\u001b[0m \u001b[0mnew_axis\u001b[0m\u001b[1;33m}\u001b[0m\u001b[1;33m)\u001b[0m\u001b[1;33m\u001b[0m\u001b[1;33m\u001b[0m\u001b[0m\n\u001b[0;32m   4187\u001b[0m \u001b[1;33m\u001b[0m\u001b[0m\n",
      "\u001b[1;32m~\\Miniconda3\\lib\\site-packages\\pandas\\core\\indexes\\base.py\u001b[0m in \u001b[0;36mdrop\u001b[1;34m(self, labels, errors)\u001b[0m\n\u001b[0;32m   6015\u001b[0m         \u001b[1;32mif\u001b[0m \u001b[0mmask\u001b[0m\u001b[1;33m.\u001b[0m\u001b[0many\u001b[0m\u001b[1;33m(\u001b[0m\u001b[1;33m)\u001b[0m\u001b[1;33m:\u001b[0m\u001b[1;33m\u001b[0m\u001b[1;33m\u001b[0m\u001b[0m\n\u001b[0;32m   6016\u001b[0m             \u001b[1;32mif\u001b[0m \u001b[0merrors\u001b[0m \u001b[1;33m!=\u001b[0m \u001b[1;34m\"ignore\"\u001b[0m\u001b[1;33m:\u001b[0m\u001b[1;33m\u001b[0m\u001b[1;33m\u001b[0m\u001b[0m\n\u001b[1;32m-> 6017\u001b[1;33m                 \u001b[1;32mraise\u001b[0m \u001b[0mKeyError\u001b[0m\u001b[1;33m(\u001b[0m\u001b[1;34mf\"{labels[mask]} not found in axis\"\u001b[0m\u001b[1;33m)\u001b[0m\u001b[1;33m\u001b[0m\u001b[1;33m\u001b[0m\u001b[0m\n\u001b[0m\u001b[0;32m   6018\u001b[0m             \u001b[0mindexer\u001b[0m \u001b[1;33m=\u001b[0m \u001b[0mindexer\u001b[0m\u001b[1;33m[\u001b[0m\u001b[1;33m~\u001b[0m\u001b[0mmask\u001b[0m\u001b[1;33m]\u001b[0m\u001b[1;33m\u001b[0m\u001b[1;33m\u001b[0m\u001b[0m\n\u001b[0;32m   6019\u001b[0m         \u001b[1;32mreturn\u001b[0m \u001b[0mself\u001b[0m\u001b[1;33m.\u001b[0m\u001b[0mdelete\u001b[0m\u001b[1;33m(\u001b[0m\u001b[0mindexer\u001b[0m\u001b[1;33m)\u001b[0m\u001b[1;33m\u001b[0m\u001b[1;33m\u001b[0m\u001b[0m\n",
      "\u001b[1;31mKeyError\u001b[0m: \"['NAME'] not found in axis\""
     ]
    }
   ],
   "source": [
    "ds.drop('NAME', axis = 1, inplace = True)"
   ]
  },
  {
   "cell_type": "code",
   "execution_count": 146,
   "id": "e55883be",
   "metadata": {},
   "outputs": [],
   "source": [
    "from sklearn.decomposition import PCA\n"
   ]
  },
  {
   "cell_type": "code",
   "execution_count": 147,
   "id": "a8330cde",
   "metadata": {},
   "outputs": [],
   "source": [
    "one = np.array(ds.filter(like = '2019'))\n",
    "two = ds.filter(like = '2020')"
   ]
  },
  {
   "cell_type": "code",
   "execution_count": 148,
   "id": "10cad7e1",
   "metadata": {},
   "outputs": [],
   "source": [
    "pca = PCA(n_components = 1)\n",
    "one_out =  pd.DataFrame(pca.fit_transform(np.array(one)), index = ds.NUTS_ID)\n",
    "two_out =  pd.DataFrame(pca.fit_transform(np.array(two)), index = ds.NUTS_ID)"
   ]
  },
  {
   "cell_type": "code",
   "execution_count": 149,
   "id": "70ef07be",
   "metadata": {},
   "outputs": [],
   "source": [
    "one_out.columns = ['2019']\n",
    "two_out.columns = ['2020']"
   ]
  },
  {
   "cell_type": "markdown",
   "id": "0777f497",
   "metadata": {},
   "source": [
    "## Make the maps "
   ]
  },
  {
   "cell_type": "code",
   "execution_count": 150,
   "id": "0a0d042f",
   "metadata": {},
   "outputs": [],
   "source": [
    "world = gpd.read_file(gpd.datasets.get_path('naturalearth_lowres'))"
   ]
  },
  {
   "cell_type": "code",
   "execution_count": 152,
   "id": "03c9970d",
   "metadata": {},
   "outputs": [],
   "source": [
    "ds = pd.concat([one_out, two_out], axis =1)"
   ]
  },
  {
   "cell_type": "code",
   "execution_count": 157,
   "id": "1e67cc65",
   "metadata": {},
   "outputs": [],
   "source": [
    "s = gpd.GeoDataFrame(pd.merge(ds, shape, left_on = ds.index, right_on = 'NUTS_ID'))"
   ]
  },
  {
   "cell_type": "code",
   "execution_count": 162,
   "id": "1bb04d0a",
   "metadata": {},
   "outputs": [
    {
     "data": {
      "text/plain": [
       "<AxesSubplot:>"
      ]
     },
     "execution_count": 162,
     "metadata": {},
     "output_type": "execute_result"
    },
    {
     "data": {
      "image/png": "[encoded data removed]",
      "text/plain": [
       "<Figure size 432x288 with 1 Axes>"
      ]
     },
     "metadata": {
      "needs_background": "light"
     },
     "output_type": "display_data"
    }
   ],
   "source": []
  },
  {
   "cell_type": "code",
   "execution_count": 138,
   "id": "699a4e40",
   "metadata": {},
   "outputs": [
    {
     "data": {
      "text/plain": [
       "array([[<AxesSubplot:title={'center':'2020'}>]], dtype=object)"
      ]
     },
     "execution_count": 138,
     "metadata": {},
     "output_type": "execute_result"
    },
    {
     "data": {
      "image/png": "[encoded data removed]",
      "text/plain": [
       "<Figure size 432x288 with 1 Axes>"
      ]
     },
     "metadata": {
      "needs_background": "light"
     },
     "output_type": "display_data"
    }
   ],
   "source": [
    "# plot the maps \n",
    "\n",
    "fig, ax = plt.subplots(1,2, figsize = (19, 18), constrained_layout = True)\n",
    "world.plot(ax = ax[0], color = 'grey', alpha = .1)\n",
    "# geo_d_rate.plot(column = 'D_first_wave', ax = ax[0], cmap='magma_r', scheme='quantiles', k = 6, legend = True)\n",
    "ax[0].set_title('(a) Ecological index of COVID-19 social impacts \\n Before the pandemic (2019)', loc = 'center', color = '#054ea2', fontweight = 'bold')\n",
    "\n",
    "################################# second map \n",
    "\n",
    "world.plot(ax = ax[1], color = 'grey', alpha = .1)\n",
    "# geo_d_rate.plot(column = 'D_second_wave', ax = ax[1], cmap='magma_r', scheme='quantiles', k = 6, legend = True)\n",
    "ax[1].set_title('(a) Ecological index of COVID-19 social impacts \\n Before the pandemic (2020)', loc ='center', color = '#054ea2', fontweight = 'bold')\n",
    "\n",
    "\n",
    "################################# wrap up & clean \n",
    "\n",
    "for i in range(2): \n",
    "    ax[i].set_xlim(2.4e6, 6.6e6)\n",
    "    ax[i].set_ylim(0.13e7, 0.545e7)\n",
    "    ax[i].axis('off')\n",
    "    major_cities.plot(marker = 'h', ax = ax[i], facecolor = 'w', zorder = 1, edgecolor = '#44FFD2')\n",
    "    minor_cities.plot(marker = 'h', ax = ax[i], facecolor = 'w', zorder = 1, edgecolor = '#F564A9')\n",
    "    ax[i].text(x = 3.4e6, y = 1.4e6, s = u\"\\u00A9 ESPON EGTC, 2021\", fontsize = 6)\n",
    "    world[~(world['iso_a3'].isin([\"IRL\", \"GBR\", \"ISL\",\"SWE\", \"ITA\"]))].boundary.plot(color = 'w', linewidth = 1.4 , zorder  =1, ax =ax[i])\n",
    "    scalebar = ScaleBar(0.66, width_fraction=None, location= \"lower right\", box_alpha = 0, length_fraction = 0.08, height_fraction  = 0.003) # 1 pixel = 0.2 meter\n",
    "    ax[i].add_artist(scalebar)\n",
    "    # legend \n",
    "    # leg = ax[i].get_legend()\n",
    "    # leg.get_frame().set_color('w')\n",
    "plt.show()"
   ]
  }
 ],
 "metadata": {
  "kernelspec": {
   "display_name": "Python 3 (ipykernel)",
   "language": "python",
   "name": "python3"
  },
  "language_info": {
   "codemirror_mode": {
    "name": "ipython",
    "version": 3
   },
   "file_extension": ".py",
   "mimetype": "text/x-python",
   "name": "python",
   "nbconvert_exporter": "python",
   "pygments_lexer": "ipython3",
   "version": "3.9.9"
  }
 },
 "nbformat": 4,
 "nbformat_minor": 5
}
