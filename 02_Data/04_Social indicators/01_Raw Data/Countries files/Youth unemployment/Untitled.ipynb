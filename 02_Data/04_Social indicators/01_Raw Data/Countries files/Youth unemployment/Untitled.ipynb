{
 "cells": [
  {
   "cell_type": "code",
   "execution_count": 1,
   "id": "c6433974",
   "metadata": {},
   "outputs": [],
   "source": [
    "import pandas as pd \n",
    "import os"
   ]
  },
  {
   "cell_type": "code",
   "execution_count": 17,
   "id": "4e6fd42d",
   "metadata": {},
   "outputs": [],
   "source": [
    "files = [ file for file in os.listdir() if file.endswith('.xlsx')]\n",
    "\n",
    "df = []\n",
    "for file in files: \n",
    "    read = pd.read_excel(file, index_col = 'Län').iloc[:,:1]\n",
    "    df.append(read)"
   ]
  },
  {
   "cell_type": "code",
   "execution_count": 28,
   "id": "c14691e9",
   "metadata": {},
   "outputs": [
    {
     "data": {
      "text/plain": [
       "(312, 35)"
      ]
     },
     "execution_count": 28,
     "metadata": {},
     "output_type": "execute_result"
    }
   ],
   "source": [
    "ds = pd.concat(df, axis =1)\n",
    "ds.shape"
   ]
  },
  {
   "cell_type": "code",
   "execution_count": 31,
   "id": "5d3ae8a2",
   "metadata": {},
   "outputs": [
    {
     "data": {
      "text/html": [
       "<div>\n",
       "<style scoped>\n",
       "    .dataframe tbody tr th:only-of-type {\n",
       "        vertical-align: middle;\n",
       "    }\n",
       "\n",
       "    .dataframe tbody tr th {\n",
       "        vertical-align: top;\n",
       "    }\n",
       "\n",
       "    .dataframe thead th {\n",
       "        text-align: right;\n",
       "    }\n",
       "</style>\n",
       "<table border=\"1\" class=\"dataframe\">\n",
       "  <thead>\n",
       "    <tr style=\"text-align: right;\">\n",
       "      <th></th>\n",
       "      <th>2019</th>\n",
       "      <th>2020</th>\n",
       "      <th>2021</th>\n",
       "    </tr>\n",
       "    <tr>\n",
       "      <th>Län</th>\n",
       "      <th></th>\n",
       "      <th></th>\n",
       "      <th></th>\n",
       "    </tr>\n",
       "  </thead>\n",
       "  <tbody>\n",
       "    <tr>\n",
       "      <th>Riket</th>\n",
       "      <td>0.940026</td>\n",
       "      <td>1.510934</td>\n",
       "      <td>1.143404</td>\n",
       "    </tr>\n",
       "    <tr>\n",
       "      <th>Stockholms län</th>\n",
       "      <td>0.663952</td>\n",
       "      <td>1.240880</td>\n",
       "      <td>0.940979</td>\n",
       "    </tr>\n",
       "  </tbody>\n",
       "</table>\n",
       "</div>"
      ],
      "text/plain": [
       "                    2019      2020      2021\n",
       "Län                                         \n",
       "Riket           0.940026  1.510934  1.143404\n",
       "Stockholms län  0.663952  1.240880  0.940979"
      ]
     },
     "execution_count": 31,
     "metadata": {},
     "output_type": "execute_result"
    }
   ],
   "source": [
    "df = pd.concat([ds.filter(like = '2019').sum(axis =1), ds.filter(like = '2020').sum(axis =1), ds.filter(like = '2021').sum(axis =1)], axis =1)\n",
    "df.columns = ['2019', '2020', '2021']\n",
    "df.head(2)"
   ]
  },
  {
   "cell_type": "code",
   "execution_count": 34,
   "id": "3651d77f",
   "metadata": {},
   "outputs": [],
   "source": [
    "df.to_excel('Unem-final.xlsx')"
   ]
  }
 ],
 "metadata": {
  "kernelspec": {
   "display_name": "Python 3 (ipykernel)",
   "language": "python",
   "name": "python3"
  },
  "language_info": {
   "codemirror_mode": {
    "name": "ipython",
    "version": 3
   },
   "file_extension": ".py",
   "mimetype": "text/x-python",
   "name": "python",
   "nbconvert_exporter": "python",
   "pygments_lexer": "ipython3",
   "version": "3.9.9"
  }
 },
 "nbformat": 4,
 "nbformat_minor": 5
}
