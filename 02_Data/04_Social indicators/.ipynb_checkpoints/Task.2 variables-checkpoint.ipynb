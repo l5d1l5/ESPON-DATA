{
 "cells": [
  {
   "cell_type": "markdown",
   "id": "76f21a9c-a319-4683-85f1-c99cc3043d4a",
   "metadata": {},
   "source": [
    "## Task.2 vars"
   ]
  },
  {
   "cell_type": "code",
   "execution_count": 1,
   "id": "6338d334-e87d-4e60-963e-aaba732357fe",
   "metadata": {},
   "outputs": [],
   "source": [
    "## read the modules \n",
    "from covid19dh import covid19\n",
    "import numpy as np\n",
    "import pandas as pd \n",
    "import geopandas as gpd\n",
    "import matplotlib.pyplot as plt \n",
    "import seaborn as sns \n",
    "import dask.dataframe as dd\n",
    "from plotnine import *\n",
    "%matplotlib inline"
   ]
  },
  {
   "cell_type": "code",
   "execution_count": 2,
   "id": "a568414f-6170-4d5d-bd4c-163102456528",
   "metadata": {},
   "outputs": [
    {
     "data": {
      "text/html": [
       "<div>\n",
       "<style scoped>\n",
       "    .dataframe tbody tr th:only-of-type {\n",
       "        vertical-align: middle;\n",
       "    }\n",
       "\n",
       "    .dataframe tbody tr th {\n",
       "        vertical-align: top;\n",
       "    }\n",
       "\n",
       "    .dataframe thead th {\n",
       "        text-align: right;\n",
       "    }\n",
       "</style>\n",
       "<table border=\"1\" class=\"dataframe\">\n",
       "  <thead>\n",
       "    <tr style=\"text-align: right;\">\n",
       "      <th></th>\n",
       "      <th>NUTS_ID</th>\n",
       "      <th>LEVL_CODE</th>\n",
       "      <th>CNTR_CODE</th>\n",
       "      <th>NUTS_NAME</th>\n",
       "      <th>3</th>\n",
       "      <th>4</th>\n",
       "      <th>5</th>\n",
       "      <th>6</th>\n",
       "      <th>7</th>\n",
       "      <th>8</th>\n",
       "      <th>...</th>\n",
       "      <th>28</th>\n",
       "      <th>29</th>\n",
       "      <th>30</th>\n",
       "      <th>31</th>\n",
       "      <th>32</th>\n",
       "      <th>33</th>\n",
       "      <th>34</th>\n",
       "      <th>35</th>\n",
       "      <th>36</th>\n",
       "      <th>geometry</th>\n",
       "    </tr>\n",
       "  </thead>\n",
       "  <tbody>\n",
       "    <tr>\n",
       "      <th>0</th>\n",
       "      <td>BG423</td>\n",
       "      <td>3</td>\n",
       "      <td>BG</td>\n",
       "      <td>ÐÐ°Ð·Ð°ÑÐ´Ð¶Ð¸Ðº</td>\n",
       "      <td>NaN</td>\n",
       "      <td>NaN</td>\n",
       "      <td>NaN</td>\n",
       "      <td>NaN</td>\n",
       "      <td>NaN</td>\n",
       "      <td>NaN</td>\n",
       "      <td>...</td>\n",
       "      <td>NaN</td>\n",
       "      <td>NaN</td>\n",
       "      <td>NaN</td>\n",
       "      <td>NaN</td>\n",
       "      <td>NaN</td>\n",
       "      <td>NaN</td>\n",
       "      <td>NaN</td>\n",
       "      <td>NaN</td>\n",
       "      <td>NaN</td>\n",
       "      <td>POLYGON ((24.42101 42.55306, 24.41032 42.46950...</td>\n",
       "    </tr>\n",
       "    <tr>\n",
       "      <th>1</th>\n",
       "      <td>BG424</td>\n",
       "      <td>3</td>\n",
       "      <td>BG</td>\n",
       "      <td>Ð¡Ð¼Ð¾Ð»ÑÐ½</td>\n",
       "      <td>NaN</td>\n",
       "      <td>NaN</td>\n",
       "      <td>NaN</td>\n",
       "      <td>NaN</td>\n",
       "      <td>NaN</td>\n",
       "      <td>NaN</td>\n",
       "      <td>...</td>\n",
       "      <td>NaN</td>\n",
       "      <td>NaN</td>\n",
       "      <td>NaN</td>\n",
       "      <td>NaN</td>\n",
       "      <td>NaN</td>\n",
       "      <td>NaN</td>\n",
       "      <td>NaN</td>\n",
       "      <td>NaN</td>\n",
       "      <td>NaN</td>\n",
       "      <td>POLYGON ((25.07422 41.79348, 25.05851 41.75177...</td>\n",
       "    </tr>\n",
       "    <tr>\n",
       "      <th>2</th>\n",
       "      <td>BG425</td>\n",
       "      <td>3</td>\n",
       "      <td>BG</td>\n",
       "      <td>ÐÑÑÐ´Ð¶Ð°Ð»Ð¸</td>\n",
       "      <td>NaN</td>\n",
       "      <td>NaN</td>\n",
       "      <td>NaN</td>\n",
       "      <td>NaN</td>\n",
       "      <td>NaN</td>\n",
       "      <td>NaN</td>\n",
       "      <td>...</td>\n",
       "      <td>NaN</td>\n",
       "      <td>NaN</td>\n",
       "      <td>NaN</td>\n",
       "      <td>NaN</td>\n",
       "      <td>NaN</td>\n",
       "      <td>NaN</td>\n",
       "      <td>NaN</td>\n",
       "      <td>NaN</td>\n",
       "      <td>NaN</td>\n",
       "      <td>POLYGON ((25.94863 41.32034, 25.90644 41.30757...</td>\n",
       "    </tr>\n",
       "    <tr>\n",
       "      <th>3</th>\n",
       "      <td>CH011</td>\n",
       "      <td>3</td>\n",
       "      <td>CH</td>\n",
       "      <td>Vaud</td>\n",
       "      <td>0.0</td>\n",
       "      <td>0.0</td>\n",
       "      <td>0.0</td>\n",
       "      <td>0.0</td>\n",
       "      <td>0.0</td>\n",
       "      <td>0.0</td>\n",
       "      <td>...</td>\n",
       "      <td>424.0</td>\n",
       "      <td>424.0</td>\n",
       "      <td>424.0</td>\n",
       "      <td>424.0</td>\n",
       "      <td>425.0</td>\n",
       "      <td>425.0</td>\n",
       "      <td>427.0</td>\n",
       "      <td>429.0</td>\n",
       "      <td>429.0</td>\n",
       "      <td>MULTIPOLYGON (((6.86623 46.90929, 6.89621 46.9...</td>\n",
       "    </tr>\n",
       "    <tr>\n",
       "      <th>4</th>\n",
       "      <td>CH012</td>\n",
       "      <td>3</td>\n",
       "      <td>CH</td>\n",
       "      <td>Valais</td>\n",
       "      <td>0.0</td>\n",
       "      <td>0.0</td>\n",
       "      <td>0.0</td>\n",
       "      <td>0.0</td>\n",
       "      <td>0.0</td>\n",
       "      <td>0.0</td>\n",
       "      <td>...</td>\n",
       "      <td>153.0</td>\n",
       "      <td>153.0</td>\n",
       "      <td>153.0</td>\n",
       "      <td>153.0</td>\n",
       "      <td>153.0</td>\n",
       "      <td>153.0</td>\n",
       "      <td>154.0</td>\n",
       "      <td>154.0</td>\n",
       "      <td>154.0</td>\n",
       "      <td>POLYGON ((8.47767 46.52760, 8.39953 46.48872, ...</td>\n",
       "    </tr>\n",
       "    <tr>\n",
       "      <th>...</th>\n",
       "      <td>...</td>\n",
       "      <td>...</td>\n",
       "      <td>...</td>\n",
       "      <td>...</td>\n",
       "      <td>...</td>\n",
       "      <td>...</td>\n",
       "      <td>...</td>\n",
       "      <td>...</td>\n",
       "      <td>...</td>\n",
       "      <td>...</td>\n",
       "      <td>...</td>\n",
       "      <td>...</td>\n",
       "      <td>...</td>\n",
       "      <td>...</td>\n",
       "      <td>...</td>\n",
       "      <td>...</td>\n",
       "      <td>...</td>\n",
       "      <td>...</td>\n",
       "      <td>...</td>\n",
       "      <td>...</td>\n",
       "      <td>...</td>\n",
       "    </tr>\n",
       "    <tr>\n",
       "      <th>1999</th>\n",
       "      <td>RS</td>\n",
       "      <td>0</td>\n",
       "      <td>RS</td>\n",
       "      <td>Srbija/Ð¡pÐ±Ð¸ÑÐ°</td>\n",
       "      <td>NaN</td>\n",
       "      <td>NaN</td>\n",
       "      <td>NaN</td>\n",
       "      <td>NaN</td>\n",
       "      <td>NaN</td>\n",
       "      <td>NaN</td>\n",
       "      <td>...</td>\n",
       "      <td>NaN</td>\n",
       "      <td>NaN</td>\n",
       "      <td>NaN</td>\n",
       "      <td>NaN</td>\n",
       "      <td>NaN</td>\n",
       "      <td>NaN</td>\n",
       "      <td>NaN</td>\n",
       "      <td>NaN</td>\n",
       "      <td>NaN</td>\n",
       "      <td>POLYGON ((19.69810 46.18793, 19.79780 46.13588...</td>\n",
       "    </tr>\n",
       "    <tr>\n",
       "      <th>2000</th>\n",
       "      <td>CZ</td>\n",
       "      <td>0</td>\n",
       "      <td>CZ</td>\n",
       "      <td>Äesko</td>\n",
       "      <td>0.0</td>\n",
       "      <td>0.0</td>\n",
       "      <td>0.0</td>\n",
       "      <td>0.0</td>\n",
       "      <td>0.0</td>\n",
       "      <td>0.0</td>\n",
       "      <td>...</td>\n",
       "      <td>352.0</td>\n",
       "      <td>352.0</td>\n",
       "      <td>358.0</td>\n",
       "      <td>368.0</td>\n",
       "      <td>382.0</td>\n",
       "      <td>389.0</td>\n",
       "      <td>394.0</td>\n",
       "      <td>411.0</td>\n",
       "      <td>419.0</td>\n",
       "      <td>POLYGON ((14.31787 51.05470, 14.41509 51.02507...</td>\n",
       "    </tr>\n",
       "    <tr>\n",
       "      <th>2001</th>\n",
       "      <td>EE</td>\n",
       "      <td>0</td>\n",
       "      <td>EE</td>\n",
       "      <td>Eesti</td>\n",
       "      <td>0.0</td>\n",
       "      <td>0.0</td>\n",
       "      <td>0.0</td>\n",
       "      <td>0.0</td>\n",
       "      <td>0.0</td>\n",
       "      <td>0.0</td>\n",
       "      <td>...</td>\n",
       "      <td>63.0</td>\n",
       "      <td>63.0</td>\n",
       "      <td>63.0</td>\n",
       "      <td>63.0</td>\n",
       "      <td>63.0</td>\n",
       "      <td>63.0</td>\n",
       "      <td>63.0</td>\n",
       "      <td>63.0</td>\n",
       "      <td>64.0</td>\n",
       "      <td>MULTIPOLYGON (((25.83016 59.56406, 25.88224 59...</td>\n",
       "    </tr>\n",
       "    <tr>\n",
       "      <th>2002</th>\n",
       "      <td>HU</td>\n",
       "      <td>0</td>\n",
       "      <td>HU</td>\n",
       "      <td>MagyarorszÃ¡g</td>\n",
       "      <td>0.0</td>\n",
       "      <td>0.0</td>\n",
       "      <td>0.0</td>\n",
       "      <td>0.0</td>\n",
       "      <td>0.0</td>\n",
       "      <td>0.0</td>\n",
       "      <td>...</td>\n",
       "      <td>588.0</td>\n",
       "      <td>593.0</td>\n",
       "      <td>595.0</td>\n",
       "      <td>596.0</td>\n",
       "      <td>596.0</td>\n",
       "      <td>602.0</td>\n",
       "      <td>607.0</td>\n",
       "      <td>611.0</td>\n",
       "      <td>614.0</td>\n",
       "      <td>POLYGON ((22.12108 48.37831, 22.15531 48.40340...</td>\n",
       "    </tr>\n",
       "    <tr>\n",
       "      <th>2003</th>\n",
       "      <td>TR2</td>\n",
       "      <td>1</td>\n",
       "      <td>TR</td>\n",
       "      <td>BatÄ± Marmara</td>\n",
       "      <td>NaN</td>\n",
       "      <td>NaN</td>\n",
       "      <td>NaN</td>\n",
       "      <td>NaN</td>\n",
       "      <td>NaN</td>\n",
       "      <td>NaN</td>\n",
       "      <td>...</td>\n",
       "      <td>NaN</td>\n",
       "      <td>NaN</td>\n",
       "      <td>NaN</td>\n",
       "      <td>NaN</td>\n",
       "      <td>NaN</td>\n",
       "      <td>NaN</td>\n",
       "      <td>NaN</td>\n",
       "      <td>NaN</td>\n",
       "      <td>NaN</td>\n",
       "      <td>MULTIPOLYGON (((28.16478 40.39561, 28.08252 40...</td>\n",
       "    </tr>\n",
       "  </tbody>\n",
       "</table>\n",
       "<p>2004 rows × 39 columns</p>\n",
       "</div>"
      ],
      "text/plain": [
       "     NUTS_ID  LEVL_CODE CNTR_CODE           NUTS_NAME    3    4    5    6  \\\n",
       "0      BG423          3        BG  ÐÐ°Ð·Ð°ÑÐ´Ð¶Ð¸Ðº  NaN  NaN  NaN  NaN   \n",
       "1      BG424          3        BG        Ð¡Ð¼Ð¾Ð»ÑÐ½  NaN  NaN  NaN  NaN   \n",
       "2      BG425          3        BG    ÐÑÑÐ´Ð¶Ð°Ð»Ð¸  NaN  NaN  NaN  NaN   \n",
       "3      CH011          3        CH                Vaud  0.0  0.0  0.0  0.0   \n",
       "4      CH012          3        CH              Valais  0.0  0.0  0.0  0.0   \n",
       "...      ...        ...       ...                 ...  ...  ...  ...  ...   \n",
       "1999      RS          0        RS  Srbija/Ð¡pÐ±Ð¸ÑÐ°  NaN  NaN  NaN  NaN   \n",
       "2000      CZ          0        CZ              Äesko  0.0  0.0  0.0  0.0   \n",
       "2001      EE          0        EE               Eesti  0.0  0.0  0.0  0.0   \n",
       "2002      HU          0        HU       MagyarorszÃ¡g  0.0  0.0  0.0  0.0   \n",
       "2003     TR2          1        TR       BatÄ± Marmara  NaN  NaN  NaN  NaN   \n",
       "\n",
       "        7    8  ...     28     29     30     31     32     33     34     35  \\\n",
       "0     NaN  NaN  ...    NaN    NaN    NaN    NaN    NaN    NaN    NaN    NaN   \n",
       "1     NaN  NaN  ...    NaN    NaN    NaN    NaN    NaN    NaN    NaN    NaN   \n",
       "2     NaN  NaN  ...    NaN    NaN    NaN    NaN    NaN    NaN    NaN    NaN   \n",
       "3     0.0  0.0  ...  424.0  424.0  424.0  424.0  425.0  425.0  427.0  429.0   \n",
       "4     0.0  0.0  ...  153.0  153.0  153.0  153.0  153.0  153.0  154.0  154.0   \n",
       "...   ...  ...  ...    ...    ...    ...    ...    ...    ...    ...    ...   \n",
       "1999  NaN  NaN  ...    NaN    NaN    NaN    NaN    NaN    NaN    NaN    NaN   \n",
       "2000  0.0  0.0  ...  352.0  352.0  358.0  368.0  382.0  389.0  394.0  411.0   \n",
       "2001  0.0  0.0  ...   63.0   63.0   63.0   63.0   63.0   63.0   63.0   63.0   \n",
       "2002  0.0  0.0  ...  588.0  593.0  595.0  596.0  596.0  602.0  607.0  611.0   \n",
       "2003  NaN  NaN  ...    NaN    NaN    NaN    NaN    NaN    NaN    NaN    NaN   \n",
       "\n",
       "         36                                           geometry  \n",
       "0       NaN  POLYGON ((24.42101 42.55306, 24.41032 42.46950...  \n",
       "1       NaN  POLYGON ((25.07422 41.79348, 25.05851 41.75177...  \n",
       "2       NaN  POLYGON ((25.94863 41.32034, 25.90644 41.30757...  \n",
       "3     429.0  MULTIPOLYGON (((6.86623 46.90929, 6.89621 46.9...  \n",
       "4     154.0  POLYGON ((8.47767 46.52760, 8.39953 46.48872, ...  \n",
       "...     ...                                                ...  \n",
       "1999    NaN  POLYGON ((19.69810 46.18793, 19.79780 46.13588...  \n",
       "2000  419.0  POLYGON ((14.31787 51.05470, 14.41509 51.02507...  \n",
       "2001   64.0  MULTIPOLYGON (((25.83016 59.56406, 25.88224 59...  \n",
       "2002  614.0  POLYGON ((22.12108 48.37831, 22.15531 48.40340...  \n",
       "2003    NaN  MULTIPOLYGON (((28.16478 40.39561, 28.08252 40...  \n",
       "\n",
       "[2004 rows x 39 columns]"
      ]
     },
     "execution_count": 2,
     "metadata": {},
     "output_type": "execute_result"
    }
   ],
   "source": [
    "## read the nuts classification \n",
    "nuts = pd.read_excel('01_Raw Data/NUTS2021.xlsx', sheet_name = \"NUTS & SR 2021\")\n",
    "lau = pd.read_excel('01_Raw Data/EU-28_LAU_2016.xlsx')\n",
    "shape = gpd.read_file('../01_GIS/02_Full file/NUTS_COVID.shp')\n",
    "shape"
   ]
  },
  {
   "cell_type": "markdown",
   "id": "045790d4",
   "metadata": {},
   "source": [
    "##  1. COVID-19 DATA-HUB"
   ]
  },
  {
   "cell_type": "code",
   "execution_count": null,
   "id": "062266ad-d133-4aa5-8cc5-e2ce40ba1341",
   "metadata": {},
   "outputs": [],
   "source": [
    "!pip install --upgrade covid19dh"
   ]
  },
  {
   "cell_type": "code",
   "execution_count": 3,
   "id": "cc3f55fc-b571-4155-9ec1-829a8a6d8453",
   "metadata": {},
   "outputs": [],
   "source": [
    "eu_codes = \"\"\"Code\tCountry\tAlpha-2\tAlpha-3\n",
    "040\tAustria\tAT\tAUT\n",
    "056\tBelgium\tBE\tBEL\n",
    "100\tBulgaria\tBG\tBGR\n",
    "191\tCroatia\tHR\tHRV\n",
    "196\tCyprus\tCY\tCYP\n",
    "203\tCzech Republic\tCZ\tCZE\n",
    "208\tDenmark\tDK\tDNK\n",
    "233\tEstonia\tEE\tEST\n",
    "246\tFinland\tFI\tFIN\n",
    "250\tFrance\tFR\tFRA\n",
    "276\tGermany\tDE\tDEU\n",
    "300\tGreece\tGR\tGRC\n",
    "348\tHungary\tHU\tHUN\n",
    "372\tIreland, Republic of (EIRE)\tIE\tIRL\n",
    "380\tItaly\tIT\tITA\n",
    "428\tLatvia\tLV\tLVA\n",
    "440\tLithuania\tLT\tLTU\n",
    "442\tLuxembourg\tLU\tLUX\n",
    "470\tMalta\tMT\tMLT\n",
    "528\tNetherlands\tNL\tNLD\n",
    "616\tPoland\tPL\tPOL\n",
    "620\tPortugal\tPT\tPRT\n",
    "642\tRomania\tRO\tROU\n",
    "703\tSlovakia\tSK\tSVK\n",
    "705\tSlovenia\tSI\tSVN\n",
    "724\tSpain\tES\tESP\n",
    "752\tSweden\tSE\tSWE\n",
    "826\tUnited Kingdom\tGB\tGBR\"\"\""
   ]
  },
  {
   "cell_type": "code",
   "execution_count": 4,
   "id": "10327094-0641-4b1b-ac6b-7b46f0fc9187",
   "metadata": {},
   "outputs": [
    {
     "data": {
      "text/html": [
       "<div>\n",
       "<style scoped>\n",
       "    .dataframe tbody tr th:only-of-type {\n",
       "        vertical-align: middle;\n",
       "    }\n",
       "\n",
       "    .dataframe tbody tr th {\n",
       "        vertical-align: top;\n",
       "    }\n",
       "\n",
       "    .dataframe thead th {\n",
       "        text-align: right;\n",
       "    }\n",
       "</style>\n",
       "<table border=\"1\" class=\"dataframe\">\n",
       "  <thead>\n",
       "    <tr style=\"text-align: right;\">\n",
       "      <th></th>\n",
       "      <th>country</th>\n",
       "      <th>iso2</th>\n",
       "      <th>iso3</th>\n",
       "    </tr>\n",
       "  </thead>\n",
       "  <tbody>\n",
       "    <tr>\n",
       "      <th>0</th>\n",
       "      <td>Austria</td>\n",
       "      <td>AT</td>\n",
       "      <td>AUT</td>\n",
       "    </tr>\n",
       "    <tr>\n",
       "      <th>1</th>\n",
       "      <td>Belgium</td>\n",
       "      <td>BE</td>\n",
       "      <td>BEL</td>\n",
       "    </tr>\n",
       "    <tr>\n",
       "      <th>2</th>\n",
       "      <td>Bulgaria</td>\n",
       "      <td>BG</td>\n",
       "      <td>BGR</td>\n",
       "    </tr>\n",
       "    <tr>\n",
       "      <th>3</th>\n",
       "      <td>Croatia</td>\n",
       "      <td>HR</td>\n",
       "      <td>HRV</td>\n",
       "    </tr>\n",
       "    <tr>\n",
       "      <th>4</th>\n",
       "      <td>Cyprus</td>\n",
       "      <td>CY</td>\n",
       "      <td>CYP</td>\n",
       "    </tr>\n",
       "    <tr>\n",
       "      <th>5</th>\n",
       "      <td>Czech Republic</td>\n",
       "      <td>CZ</td>\n",
       "      <td>CZE</td>\n",
       "    </tr>\n",
       "    <tr>\n",
       "      <th>6</th>\n",
       "      <td>Denmark</td>\n",
       "      <td>DK</td>\n",
       "      <td>DNK</td>\n",
       "    </tr>\n",
       "    <tr>\n",
       "      <th>7</th>\n",
       "      <td>Estonia</td>\n",
       "      <td>EE</td>\n",
       "      <td>EST</td>\n",
       "    </tr>\n",
       "    <tr>\n",
       "      <th>8</th>\n",
       "      <td>Finland</td>\n",
       "      <td>FI</td>\n",
       "      <td>FIN</td>\n",
       "    </tr>\n",
       "    <tr>\n",
       "      <th>9</th>\n",
       "      <td>France</td>\n",
       "      <td>FR</td>\n",
       "      <td>FRA</td>\n",
       "    </tr>\n",
       "    <tr>\n",
       "      <th>10</th>\n",
       "      <td>Germany</td>\n",
       "      <td>DE</td>\n",
       "      <td>DEU</td>\n",
       "    </tr>\n",
       "    <tr>\n",
       "      <th>11</th>\n",
       "      <td>Greece</td>\n",
       "      <td>GR</td>\n",
       "      <td>GRC</td>\n",
       "    </tr>\n",
       "    <tr>\n",
       "      <th>12</th>\n",
       "      <td>Hungary</td>\n",
       "      <td>HU</td>\n",
       "      <td>HUN</td>\n",
       "    </tr>\n",
       "    <tr>\n",
       "      <th>13</th>\n",
       "      <td>Ireland, Republic of (EIRE)</td>\n",
       "      <td>IE</td>\n",
       "      <td>IRL</td>\n",
       "    </tr>\n",
       "    <tr>\n",
       "      <th>14</th>\n",
       "      <td>Italy</td>\n",
       "      <td>IT</td>\n",
       "      <td>ITA</td>\n",
       "    </tr>\n",
       "    <tr>\n",
       "      <th>15</th>\n",
       "      <td>Latvia</td>\n",
       "      <td>LV</td>\n",
       "      <td>LVA</td>\n",
       "    </tr>\n",
       "    <tr>\n",
       "      <th>16</th>\n",
       "      <td>Lithuania</td>\n",
       "      <td>LT</td>\n",
       "      <td>LTU</td>\n",
       "    </tr>\n",
       "    <tr>\n",
       "      <th>17</th>\n",
       "      <td>Luxembourg</td>\n",
       "      <td>LU</td>\n",
       "      <td>LUX</td>\n",
       "    </tr>\n",
       "    <tr>\n",
       "      <th>18</th>\n",
       "      <td>Malta</td>\n",
       "      <td>MT</td>\n",
       "      <td>MLT</td>\n",
       "    </tr>\n",
       "    <tr>\n",
       "      <th>19</th>\n",
       "      <td>Netherlands</td>\n",
       "      <td>NL</td>\n",
       "      <td>NLD</td>\n",
       "    </tr>\n",
       "    <tr>\n",
       "      <th>20</th>\n",
       "      <td>Poland</td>\n",
       "      <td>PL</td>\n",
       "      <td>POL</td>\n",
       "    </tr>\n",
       "    <tr>\n",
       "      <th>21</th>\n",
       "      <td>Portugal</td>\n",
       "      <td>PT</td>\n",
       "      <td>PRT</td>\n",
       "    </tr>\n",
       "    <tr>\n",
       "      <th>22</th>\n",
       "      <td>Romania</td>\n",
       "      <td>RO</td>\n",
       "      <td>ROU</td>\n",
       "    </tr>\n",
       "    <tr>\n",
       "      <th>23</th>\n",
       "      <td>Slovakia</td>\n",
       "      <td>SK</td>\n",
       "      <td>SVK</td>\n",
       "    </tr>\n",
       "    <tr>\n",
       "      <th>24</th>\n",
       "      <td>Slovenia</td>\n",
       "      <td>SI</td>\n",
       "      <td>SVN</td>\n",
       "    </tr>\n",
       "    <tr>\n",
       "      <th>25</th>\n",
       "      <td>Spain</td>\n",
       "      <td>ES</td>\n",
       "      <td>ESP</td>\n",
       "    </tr>\n",
       "    <tr>\n",
       "      <th>26</th>\n",
       "      <td>Sweden</td>\n",
       "      <td>SE</td>\n",
       "      <td>SWE</td>\n",
       "    </tr>\n",
       "    <tr>\n",
       "      <th>27</th>\n",
       "      <td>United Kingdom</td>\n",
       "      <td>GB</td>\n",
       "      <td>GBR</td>\n",
       "    </tr>\n",
       "    <tr>\n",
       "      <th>28</th>\n",
       "      <td>Norway</td>\n",
       "      <td>NO</td>\n",
       "      <td>NOR</td>\n",
       "    </tr>\n",
       "    <tr>\n",
       "      <th>29</th>\n",
       "      <td>Switzerland</td>\n",
       "      <td>CH</td>\n",
       "      <td>CHE</td>\n",
       "    </tr>\n",
       "    <tr>\n",
       "      <th>30</th>\n",
       "      <td>Iceland</td>\n",
       "      <td>IS</td>\n",
       "      <td>ISE</td>\n",
       "    </tr>\n",
       "  </tbody>\n",
       "</table>\n",
       "</div>"
      ],
      "text/plain": [
       "                        country iso2 iso3\n",
       "0                       Austria   AT  AUT\n",
       "1                       Belgium   BE  BEL\n",
       "2                      Bulgaria   BG  BGR\n",
       "3                       Croatia   HR  HRV\n",
       "4                        Cyprus   CY  CYP\n",
       "5                Czech Republic   CZ  CZE\n",
       "6                       Denmark   DK  DNK\n",
       "7                       Estonia   EE  EST\n",
       "8                       Finland   FI  FIN\n",
       "9                        France   FR  FRA\n",
       "10                      Germany   DE  DEU\n",
       "11                       Greece   GR  GRC\n",
       "12                      Hungary   HU  HUN\n",
       "13  Ireland, Republic of (EIRE)   IE  IRL\n",
       "14                        Italy   IT  ITA\n",
       "15                       Latvia   LV  LVA\n",
       "16                    Lithuania   LT  LTU\n",
       "17                   Luxembourg   LU  LUX\n",
       "18                        Malta   MT  MLT\n",
       "19                  Netherlands   NL  NLD\n",
       "20                       Poland   PL  POL\n",
       "21                     Portugal   PT  PRT\n",
       "22                      Romania   RO  ROU\n",
       "23                     Slovakia   SK  SVK\n",
       "24                     Slovenia   SI  SVN\n",
       "25                        Spain   ES  ESP\n",
       "26                       Sweden   SE  SWE\n",
       "27               United Kingdom   GB  GBR\n",
       "28                       Norway   NO  NOR\n",
       "29                  Switzerland   CH  CHE\n",
       "30                      Iceland   IS  ISE"
      ]
     },
     "execution_count": 4,
     "metadata": {},
     "output_type": "execute_result"
    }
   ],
   "source": [
    "eu_codes = pd.DataFrame([i.split('\\t') for i in eu_codes.split('\\n')]).iloc[1:,:]\n",
    "eu_codes.drop(columns = 0, inplace= True)\n",
    "eu_codes.columns = ['country', 'iso2', 'iso3']\n",
    "add = pd.DataFrame({'country': ['Norway', 'Switzerland','Iceland'],\n",
    "                    'iso2' : ['NO', 'CH','IS'],\n",
    "                    'iso3' : ['NOR', 'CHE' ,'ISE']})\n",
    "eu_codes = pd.concat([eu_codes, add], axis = 0, ignore_index = True)\n",
    "eu_codes"
   ]
  },
  {
   "cell_type": "code",
   "execution_count": null,
   "id": "66a905e4-f0f2-401f-b5b3-797ddf6dded2",
   "metadata": {
    "tags": []
   },
   "outputs": [],
   "source": [
    "x, src = covid19(eu_codes[3], level = 1, verbose = False)"
   ]
  },
  {
   "cell_type": "code",
   "execution_count": null,
   "id": "124f68a5-730c-4e19-b853-8994db8209ea",
   "metadata": {
    "tags": []
   },
   "outputs": [],
   "source": [
    "print('Available countries are:')\n",
    "print(len(eu_codes[eu_codes[3].isin(src.iso_alpha_3.unique())]))\n",
    "print()\n",
    "eu_codes[eu_codes[3].isin(src.iso_alpha_3.unique())]"
   ]
  },
  {
   "cell_type": "code",
   "execution_count": null,
   "id": "eab3ef65-a72f-4119-8e2b-8fef8cd43f7a",
   "metadata": {
    "tags": []
   },
   "outputs": [],
   "source": [
    "for i in eu_codes[eu_codes[3].isin(src.iso_alpha_3.unique())][3]:\n",
    "    x.query(f'iso_alpha_3 == \"{i}\"').groupby(\n",
    "    ['date', 'administrative_area_level_1'])['vaccines'].sum().plot(\n",
    "    x = 'date', y = 'vaccines', \n",
    "    legend = False, figsize = (8,5)) \n",
    "    plt.title(f'{i}')\n",
    "    plt.show()"
   ]
  },
  {
   "cell_type": "code",
   "execution_count": null,
   "id": "3eaca2de-2628-447a-bba0-8e731afff564",
   "metadata": {
    "tags": []
   },
   "outputs": [],
   "source": [
    "for i in eu_codes[eu_codes[3].isin(src.iso_alpha_3.unique())][3]:\n",
    "    print(i, '\\n')\n",
    "    print(x.query(f'iso_alpha_3 == \"{i}\"')[['date', 'vaccines']] \\\n",
    "    .dropna(subset = ['vaccines']))"
   ]
  },
  {
   "cell_type": "markdown",
   "id": "d45d8698",
   "metadata": {},
   "source": [
    "## 2. Google mobility data "
   ]
  },
  {
   "cell_type": "markdown",
   "id": "06fe7ee7",
   "metadata": {},
   "source": [
    "Notes from google team to keep in mind while interepresting the data. \n",
    "\n",
    "**\"Location accuracy and the understanding of categorized places varies from region to region, so we don’t recommend using this data to compare changes between countries, or between regions with different characteristics (e.g. rural versus urban areas).\"**\n",
    "\n",
    "[Google mobility data](https://www.google.com/covid19/mobility/) are downloaded on **22-12-2021**. "
   ]
  },
  {
   "cell_type": "code",
   "execution_count": 14,
   "id": "49e9a209-278d-4ce0-b217-22b301ffc85f",
   "metadata": {},
   "outputs": [],
   "source": [
    "gog = dd.read_csv('01_Raw Data/Google Mobility Data/*.csv', dtype={'grocery_and_pharmacy_percent_change_from_baseline': 'float64',\n",
    "       'iso_3166_2_code': 'object', 'sub_region_2': 'object',\n",
    "       'parks_percent_change_from_baseline': 'float64',\n",
    "       'residential_percent_change_from_baseline': 'float64',\n",
    "       'retail_and_recreation_percent_change_from_baseline': 'float64',\n",
    "       'sub_region_1': 'object',\n",
    "       'transit_stations_percent_change_from_baseline': 'float64',\n",
    "       'workplaces_percent_change_from_baseline': 'float64','metro_area': 'object'}).drop('census_fips_code', axis =1)"
   ]
  },
  {
   "cell_type": "code",
   "execution_count": 15,
   "id": "140a0893-f66c-4794-9706-bbbe166d9d07",
   "metadata": {},
   "outputs": [
    {
     "data": {
      "text/html": [
       "<div>\n",
       "<style scoped>\n",
       "    .dataframe tbody tr th:only-of-type {\n",
       "        vertical-align: middle;\n",
       "    }\n",
       "\n",
       "    .dataframe tbody tr th {\n",
       "        vertical-align: top;\n",
       "    }\n",
       "\n",
       "    .dataframe thead th {\n",
       "        text-align: right;\n",
       "    }\n",
       "</style>\n",
       "<table border=\"1\" class=\"dataframe\">\n",
       "  <thead>\n",
       "    <tr style=\"text-align: right;\">\n",
       "      <th></th>\n",
       "      <th>country_region_code</th>\n",
       "      <th>country_region</th>\n",
       "      <th>sub_region_1</th>\n",
       "      <th>sub_region_2</th>\n",
       "      <th>metro_area</th>\n",
       "      <th>iso_3166_2_code</th>\n",
       "      <th>place_id</th>\n",
       "      <th>date</th>\n",
       "      <th>retail_and_recreation_percent_change_from_baseline</th>\n",
       "      <th>grocery_and_pharmacy_percent_change_from_baseline</th>\n",
       "      <th>parks_percent_change_from_baseline</th>\n",
       "      <th>transit_stations_percent_change_from_baseline</th>\n",
       "      <th>workplaces_percent_change_from_baseline</th>\n",
       "      <th>residential_percent_change_from_baseline</th>\n",
       "    </tr>\n",
       "  </thead>\n",
       "  <tbody>\n",
       "    <tr>\n",
       "      <th>0</th>\n",
       "      <td>AE</td>\n",
       "      <td>United Arab Emirates</td>\n",
       "      <td>NaN</td>\n",
       "      <td>NaN</td>\n",
       "      <td>NaN</td>\n",
       "      <td>NaN</td>\n",
       "      <td>ChIJvRKrsd9IXj4RpwoIwFYv0zM</td>\n",
       "      <td>2020-02-15</td>\n",
       "      <td>0.0</td>\n",
       "      <td>4.0</td>\n",
       "      <td>5.0</td>\n",
       "      <td>0.0</td>\n",
       "      <td>2.0</td>\n",
       "      <td>1.0</td>\n",
       "    </tr>\n",
       "    <tr>\n",
       "      <th>1</th>\n",
       "      <td>AE</td>\n",
       "      <td>United Arab Emirates</td>\n",
       "      <td>NaN</td>\n",
       "      <td>NaN</td>\n",
       "      <td>NaN</td>\n",
       "      <td>NaN</td>\n",
       "      <td>ChIJvRKrsd9IXj4RpwoIwFYv0zM</td>\n",
       "      <td>2020-02-16</td>\n",
       "      <td>1.0</td>\n",
       "      <td>4.0</td>\n",
       "      <td>4.0</td>\n",
       "      <td>1.0</td>\n",
       "      <td>2.0</td>\n",
       "      <td>1.0</td>\n",
       "    </tr>\n",
       "    <tr>\n",
       "      <th>2</th>\n",
       "      <td>AE</td>\n",
       "      <td>United Arab Emirates</td>\n",
       "      <td>NaN</td>\n",
       "      <td>NaN</td>\n",
       "      <td>NaN</td>\n",
       "      <td>NaN</td>\n",
       "      <td>ChIJvRKrsd9IXj4RpwoIwFYv0zM</td>\n",
       "      <td>2020-02-17</td>\n",
       "      <td>-1.0</td>\n",
       "      <td>1.0</td>\n",
       "      <td>5.0</td>\n",
       "      <td>1.0</td>\n",
       "      <td>2.0</td>\n",
       "      <td>1.0</td>\n",
       "    </tr>\n",
       "  </tbody>\n",
       "</table>\n",
       "</div>"
      ],
      "text/plain": [
       "  country_region_code        country_region sub_region_1 sub_region_2  \\\n",
       "0                  AE  United Arab Emirates          NaN          NaN   \n",
       "1                  AE  United Arab Emirates          NaN          NaN   \n",
       "2                  AE  United Arab Emirates          NaN          NaN   \n",
       "\n",
       "  metro_area iso_3166_2_code                     place_id        date  \\\n",
       "0        NaN             NaN  ChIJvRKrsd9IXj4RpwoIwFYv0zM  2020-02-15   \n",
       "1        NaN             NaN  ChIJvRKrsd9IXj4RpwoIwFYv0zM  2020-02-16   \n",
       "2        NaN             NaN  ChIJvRKrsd9IXj4RpwoIwFYv0zM  2020-02-17   \n",
       "\n",
       "   retail_and_recreation_percent_change_from_baseline  \\\n",
       "0                                                0.0    \n",
       "1                                                1.0    \n",
       "2                                               -1.0    \n",
       "\n",
       "   grocery_and_pharmacy_percent_change_from_baseline  \\\n",
       "0                                                4.0   \n",
       "1                                                4.0   \n",
       "2                                                1.0   \n",
       "\n",
       "   parks_percent_change_from_baseline  \\\n",
       "0                                 5.0   \n",
       "1                                 4.0   \n",
       "2                                 5.0   \n",
       "\n",
       "   transit_stations_percent_change_from_baseline  \\\n",
       "0                                            0.0   \n",
       "1                                            1.0   \n",
       "2                                            1.0   \n",
       "\n",
       "   workplaces_percent_change_from_baseline  \\\n",
       "0                                      2.0   \n",
       "1                                      2.0   \n",
       "2                                      2.0   \n",
       "\n",
       "   residential_percent_change_from_baseline  \n",
       "0                                       1.0  \n",
       "1                                       1.0  \n",
       "2                                       1.0  "
      ]
     },
     "execution_count": 15,
     "metadata": {},
     "output_type": "execute_result"
    }
   ],
   "source": [
    "gog.head(3)"
   ]
  },
  {
   "cell_type": "markdown",
   "id": "efb3373b-ef9e-4440-9da6-71ada2ed291d",
   "metadata": {},
   "source": [
    "### Austria "
   ]
  },
  {
   "cell_type": "code",
   "execution_count": 17,
   "id": "b74ecdf0-af79-45f6-881b-990ab9d8ab74",
   "metadata": {},
   "outputs": [],
   "source": [
    "austria = gog.query('country_region_code == \"AT\"').compute().groupby(['date', 'country_region_code',\n",
    "                                                            'sub_region_1', 'sub_region_2']).mean()"
   ]
  },
  {
   "cell_type": "code",
   "execution_count": 20,
   "id": "fc911e6a-7e71-4353-ac69-c4909ca870e0",
   "metadata": {},
   "outputs": [],
   "source": [
    "austria.reset_index().to_excel('gog_austria.xlsx')"
   ]
  },
  {
   "cell_type": "markdown",
   "id": "85cc6bef-07dd-4c4c-9ea5-a8cb48b0c581",
   "metadata": {},
   "source": [
    "### BE"
   ]
  },
  {
   "cell_type": "code",
   "execution_count": 21,
   "id": "2f06befd-b14b-41e8-8821-77547af9a1ac",
   "metadata": {},
   "outputs": [],
   "source": [
    "austria = gog.query('country_region_code == \"BE\"').compute().groupby(['date', 'country_region_code',\n",
    "                                                            'sub_region_1', 'sub_region_2']).mean()"
   ]
  },
  {
   "cell_type": "code",
   "execution_count": 24,
   "id": "1d4815bf-0d40-46a0-a085-0576694a4c25",
   "metadata": {},
   "outputs": [],
   "source": [
    "austria.reset_index().to_excel(\"gog_Belguim.xlsx\")"
   ]
  },
  {
   "cell_type": "markdown",
   "id": "03d05511-01a1-4c4c-8723-a8370610084a",
   "metadata": {},
   "source": [
    "### Bulgaria "
   ]
  },
  {
   "cell_type": "code",
   "execution_count": 25,
   "id": "83c63839-1ece-4ed6-b4b7-2698bd0b31c1",
   "metadata": {},
   "outputs": [],
   "source": [
    "bulgaria = gog.query('country_region_code == \"BG\"').compute().groupby(['date', 'country_region_code',\n",
    "                                                            'sub_region_1', 'sub_region_2']).mean()"
   ]
  },
  {
   "cell_type": "code",
   "execution_count": 28,
   "id": "aa6a456f-ea60-4f10-98ca-27d8a90bc5cc",
   "metadata": {},
   "outputs": [],
   "source": [
    "bulgaria.reset_index().to_excel('gog_bulgaria.xlsx')"
   ]
  },
  {
   "cell_type": "markdown",
   "id": "ac87edb0-bbad-4147-8ad8-d5436d80185d",
   "metadata": {},
   "source": [
    "### Croatia"
   ]
  },
  {
   "cell_type": "code",
   "execution_count": 32,
   "id": "e6f070e7-e1a3-46fe-8a64-71824772dc2f",
   "metadata": {},
   "outputs": [
    {
     "data": {
      "text/html": [
       "<div>\n",
       "<style scoped>\n",
       "    .dataframe tbody tr th:only-of-type {\n",
       "        vertical-align: middle;\n",
       "    }\n",
       "\n",
       "    .dataframe tbody tr th {\n",
       "        vertical-align: top;\n",
       "    }\n",
       "\n",
       "    .dataframe thead th {\n",
       "        text-align: right;\n",
       "    }\n",
       "</style>\n",
       "<table border=\"1\" class=\"dataframe\">\n",
       "  <thead>\n",
       "    <tr style=\"text-align: right;\">\n",
       "      <th></th>\n",
       "      <th>country_region_code</th>\n",
       "      <th>country_region</th>\n",
       "      <th>sub_region_1</th>\n",
       "      <th>sub_region_2</th>\n",
       "      <th>metro_area</th>\n",
       "      <th>iso_3166_2_code</th>\n",
       "      <th>place_id</th>\n",
       "      <th>date</th>\n",
       "      <th>retail_and_recreation_percent_change_from_baseline</th>\n",
       "      <th>grocery_and_pharmacy_percent_change_from_baseline</th>\n",
       "      <th>parks_percent_change_from_baseline</th>\n",
       "      <th>transit_stations_percent_change_from_baseline</th>\n",
       "      <th>workplaces_percent_change_from_baseline</th>\n",
       "      <th>residential_percent_change_from_baseline</th>\n",
       "    </tr>\n",
       "  </thead>\n",
       "  <tbody>\n",
       "    <tr>\n",
       "      <th>0</th>\n",
       "      <td>AE</td>\n",
       "      <td>United Arab Emirates</td>\n",
       "      <td>NaN</td>\n",
       "      <td>NaN</td>\n",
       "      <td>NaN</td>\n",
       "      <td>NaN</td>\n",
       "      <td>ChIJvRKrsd9IXj4RpwoIwFYv0zM</td>\n",
       "      <td>2020-02-15</td>\n",
       "      <td>0.0</td>\n",
       "      <td>4.0</td>\n",
       "      <td>5.0</td>\n",
       "      <td>0.0</td>\n",
       "      <td>2.0</td>\n",
       "      <td>1.0</td>\n",
       "    </tr>\n",
       "    <tr>\n",
       "      <th>1</th>\n",
       "      <td>AE</td>\n",
       "      <td>United Arab Emirates</td>\n",
       "      <td>NaN</td>\n",
       "      <td>NaN</td>\n",
       "      <td>NaN</td>\n",
       "      <td>NaN</td>\n",
       "      <td>ChIJvRKrsd9IXj4RpwoIwFYv0zM</td>\n",
       "      <td>2020-02-16</td>\n",
       "      <td>1.0</td>\n",
       "      <td>4.0</td>\n",
       "      <td>4.0</td>\n",
       "      <td>1.0</td>\n",
       "      <td>2.0</td>\n",
       "      <td>1.0</td>\n",
       "    </tr>\n",
       "    <tr>\n",
       "      <th>2</th>\n",
       "      <td>AE</td>\n",
       "      <td>United Arab Emirates</td>\n",
       "      <td>NaN</td>\n",
       "      <td>NaN</td>\n",
       "      <td>NaN</td>\n",
       "      <td>NaN</td>\n",
       "      <td>ChIJvRKrsd9IXj4RpwoIwFYv0zM</td>\n",
       "      <td>2020-02-17</td>\n",
       "      <td>-1.0</td>\n",
       "      <td>1.0</td>\n",
       "      <td>5.0</td>\n",
       "      <td>1.0</td>\n",
       "      <td>2.0</td>\n",
       "      <td>1.0</td>\n",
       "    </tr>\n",
       "  </tbody>\n",
       "</table>\n",
       "</div>"
      ],
      "text/plain": [
       "  country_region_code        country_region sub_region_1 sub_region_2  \\\n",
       "0                  AE  United Arab Emirates          NaN          NaN   \n",
       "1                  AE  United Arab Emirates          NaN          NaN   \n",
       "2                  AE  United Arab Emirates          NaN          NaN   \n",
       "\n",
       "  metro_area iso_3166_2_code                     place_id        date  \\\n",
       "0        NaN             NaN  ChIJvRKrsd9IXj4RpwoIwFYv0zM  2020-02-15   \n",
       "1        NaN             NaN  ChIJvRKrsd9IXj4RpwoIwFYv0zM  2020-02-16   \n",
       "2        NaN             NaN  ChIJvRKrsd9IXj4RpwoIwFYv0zM  2020-02-17   \n",
       "\n",
       "   retail_and_recreation_percent_change_from_baseline  \\\n",
       "0                                                0.0    \n",
       "1                                                1.0    \n",
       "2                                               -1.0    \n",
       "\n",
       "   grocery_and_pharmacy_percent_change_from_baseline  \\\n",
       "0                                                4.0   \n",
       "1                                                4.0   \n",
       "2                                                1.0   \n",
       "\n",
       "   parks_percent_change_from_baseline  \\\n",
       "0                                 5.0   \n",
       "1                                 4.0   \n",
       "2                                 5.0   \n",
       "\n",
       "   transit_stations_percent_change_from_baseline  \\\n",
       "0                                            0.0   \n",
       "1                                            1.0   \n",
       "2                                            1.0   \n",
       "\n",
       "   workplaces_percent_change_from_baseline  \\\n",
       "0                                      2.0   \n",
       "1                                      2.0   \n",
       "2                                      2.0   \n",
       "\n",
       "   residential_percent_change_from_baseline  \n",
       "0                                       1.0  \n",
       "1                                       1.0  \n",
       "2                                       1.0  "
      ]
     },
     "execution_count": 32,
     "metadata": {},
     "output_type": "execute_result"
    }
   ],
   "source": [
    "gog.head(3)"
   ]
  },
  {
   "cell_type": "code",
   "execution_count": 42,
   "id": "ecd828db-1009-499d-9019-f155ee5f23ff",
   "metadata": {},
   "outputs": [],
   "source": [
    "HR = gog.query('country_region == \"Croatia\"').compute().groupby(['date', 'country_region_code',\n",
    "                                                            'sub_region_1']).mean()"
   ]
  },
  {
   "cell_type": "code",
   "execution_count": 45,
   "id": "5122246b-3dfb-4b45-a502-79ef2526129d",
   "metadata": {},
   "outputs": [],
   "source": [
    "HR.reset_index().to_excel('gog_Croatia.xlsx')"
   ]
  },
  {
   "cell_type": "markdown",
   "id": "5b6a863e-b790-432b-9169-9127076c087e",
   "metadata": {},
   "source": [
    "### Czech "
   ]
  },
  {
   "cell_type": "code",
   "execution_count": 46,
   "id": "1ed3c9af-20e9-429e-be78-280e8192dcba",
   "metadata": {},
   "outputs": [],
   "source": [
    "Czech = gog.query('country_region_code == \"CZ\"').compute().groupby(['date', 'country_region_code',\n",
    "                                                            'sub_region_1', 'sub_region_2']).mean()"
   ]
  },
  {
   "cell_type": "code",
   "execution_count": 49,
   "id": "d350e3d8-64bc-4e38-8b14-cc09ea4306fb",
   "metadata": {},
   "outputs": [],
   "source": [
    "Czech.reset_index().to_excel('gog_Czech.xlsx')"
   ]
  },
  {
   "cell_type": "markdown",
   "id": "f6b7d7a9-ffef-4039-a173-64aa4312f9df",
   "metadata": {},
   "source": [
    "### Denmark"
   ]
  },
  {
   "cell_type": "code",
   "execution_count": 50,
   "id": "ef75898f-4dd9-4403-9eb1-b22160ae29fe",
   "metadata": {},
   "outputs": [],
   "source": [
    "Denmark = gog.query('country_region_code == \"DK\"').compute().groupby(['date', 'country_region_code',\n",
    "                                                            'sub_region_1', 'sub_region_2']).mean()"
   ]
  },
  {
   "cell_type": "code",
   "execution_count": 53,
   "id": "10b452e0-8f1f-427d-9577-7ad7614ab291",
   "metadata": {},
   "outputs": [],
   "source": [
    "Denmark.reset_index().to_excel('gog_Denmark.xlsx')"
   ]
  },
  {
   "cell_type": "markdown",
   "id": "7f233379-14e4-47f6-abba-ccba19706483",
   "metadata": {},
   "source": [
    "### Estonia"
   ]
  },
  {
   "cell_type": "code",
   "execution_count": 58,
   "id": "7c41d7b1-06e1-4d7e-9fc2-21a4564f83d0",
   "metadata": {},
   "outputs": [],
   "source": [
    "Estonia = gog.query('country_region == \"Estonia\"').compute().groupby(['date', 'country_region_code',\n",
    "                                                            'sub_region_1']).mean()"
   ]
  },
  {
   "cell_type": "code",
   "execution_count": 61,
   "id": "5a50098e-d2d9-455f-a26b-46e634cba99c",
   "metadata": {},
   "outputs": [],
   "source": [
    "Estonia.reset_index().to_excel('gog_Estonia.xlsx')"
   ]
  },
  {
   "cell_type": "markdown",
   "id": "2d2f008c-428e-4e09-b0ad-d184943d6e5c",
   "metadata": {},
   "source": [
    "### Finland"
   ]
  },
  {
   "cell_type": "code",
   "execution_count": 62,
   "id": "266c071b-e4d7-4279-be69-5a4d6a1bc7d4",
   "metadata": {},
   "outputs": [],
   "source": [
    "Finland = gog.query('country_region_code == \"FI\"').compute().groupby(['date', 'country_region_code',\n",
    "                                                            'sub_region_1', 'sub_region_2']).mean()"
   ]
  },
  {
   "cell_type": "code",
   "execution_count": 65,
   "id": "e5c41ee5-5a55-4be4-8fc4-b4a74196bb98",
   "metadata": {},
   "outputs": [],
   "source": [
    "Finland.reset_index().to_excel('gog_Finland.xlsx')"
   ]
  },
  {
   "cell_type": "markdown",
   "id": "1adc177c-560d-4ff8-a9d9-545c6cd06eb3",
   "metadata": {},
   "source": [
    "### France "
   ]
  },
  {
   "cell_type": "code",
   "execution_count": 66,
   "id": "e89aaceb-61c0-4d95-b51c-820b6fba8b5d",
   "metadata": {},
   "outputs": [],
   "source": [
    "France = gog.query('country_region_code == \"FR\"').compute().groupby(['date', 'country_region_code',\n",
    "                                                            'sub_region_1', 'sub_region_2']).mean()"
   ]
  },
  {
   "cell_type": "code",
   "execution_count": 69,
   "id": "5452fdf1-793b-4663-88eb-8256bb08b006",
   "metadata": {},
   "outputs": [],
   "source": [
    "France .reset_index().to_excel('gog_France.xlsx')"
   ]
  },
  {
   "cell_type": "markdown",
   "id": "63b900cb-a5c6-4095-bd10-23268631c7c8",
   "metadata": {},
   "source": [
    "## Germany "
   ]
  },
  {
   "cell_type": "code",
   "execution_count": 75,
   "id": "2010c99d-326d-4417-80b1-575b43d06f1d",
   "metadata": {},
   "outputs": [],
   "source": [
    "Germany = gog.query('country_region_code == \"DE\"').compute().groupby(['date', 'country_region_code',\n",
    "                                                            'sub_region_1']).mean()"
   ]
  },
  {
   "cell_type": "code",
   "execution_count": 78,
   "id": "45dab19b-1311-495a-a296-14a52dda4c86",
   "metadata": {},
   "outputs": [],
   "source": [
    "Germany .reset_index().to_excel('gog_Germany.xlsx')"
   ]
  },
  {
   "cell_type": "markdown",
   "id": "0bd49ae5-4d25-41fb-b3b9-280d7ee83a64",
   "metadata": {},
   "source": [
    "### Greece"
   ]
  },
  {
   "cell_type": "code",
   "execution_count": 81,
   "id": "6c4bf794-88fd-41fb-9902-d521be821605",
   "metadata": {},
   "outputs": [],
   "source": [
    "Greece = gog.query('country_region == \"Greece\"').compute().groupby(['date', 'country_region_code',\n",
    "                                                            'sub_region_1']).mean()"
   ]
  },
  {
   "cell_type": "code",
   "execution_count": 84,
   "id": "c0f81e0c-0575-40c3-aaa9-ff57f0c81a19",
   "metadata": {},
   "outputs": [],
   "source": [
    "Greece.reset_index().to_excel('gog_Greece.xlsx')"
   ]
  },
  {
   "cell_type": "markdown",
   "id": "63090fa2-4f44-4312-9845-bf46c73b1921",
   "metadata": {},
   "source": [
    "### Hungary "
   ]
  },
  {
   "cell_type": "code",
   "execution_count": 88,
   "id": "5e2d562a-e271-402c-ac28-5fc0fe99ed65",
   "metadata": {},
   "outputs": [],
   "source": [
    "Hungary = gog.query('country_region == \"Hungary\"').compute().groupby(['date', 'country_region_code',\n",
    "                                                            'sub_region_1']).mean()"
   ]
  },
  {
   "cell_type": "code",
   "execution_count": 91,
   "id": "140c17c8-5621-438d-88c2-829de67a6e25",
   "metadata": {},
   "outputs": [],
   "source": [
    "Hungary.reset_index().to_excel('gog_Hungary.xlsx')"
   ]
  },
  {
   "cell_type": "markdown",
   "id": "76e7c559-7e32-4127-af21-65ab9e19d9f3",
   "metadata": {},
   "source": [
    "### Ireland "
   ]
  },
  {
   "cell_type": "code",
   "execution_count": 92,
   "id": "e8281791-0524-41d6-849b-ffd32a626b51",
   "metadata": {},
   "outputs": [],
   "source": [
    "Ireland = gog.query('country_region == \"Ireland\"').compute().groupby(['date', 'country_region_code',\n",
    "                                                            'sub_region_1']).mean()"
   ]
  },
  {
   "cell_type": "code",
   "execution_count": 95,
   "id": "d449b20a-f36a-40ce-9b49-07408db4740e",
   "metadata": {},
   "outputs": [],
   "source": [
    "Ireland.reset_index().to_excel('gog_Ireland.xlsx')"
   ]
  },
  {
   "cell_type": "markdown",
   "id": "36413182-3888-4f92-b308-7fd5e3525884",
   "metadata": {},
   "source": [
    "### Italy "
   ]
  },
  {
   "cell_type": "code",
   "execution_count": 96,
   "id": "055e3343-b28a-4495-bb77-428b2e107fa5",
   "metadata": {},
   "outputs": [],
   "source": [
    "Italy = gog.query('country_region == \"Italy\"').compute().groupby(['date', 'country_region_code',\n",
    "                                                            'sub_region_1', 'sub_region_2']).mean()"
   ]
  },
  {
   "cell_type": "code",
   "execution_count": 99,
   "id": "8623fe70-a728-40c3-93ec-d88910ecc495",
   "metadata": {},
   "outputs": [],
   "source": [
    "Italy.reset_index().to_excel('gog_Italy.xlsx')"
   ]
  },
  {
   "cell_type": "markdown",
   "id": "a29e9e1d-474f-4947-ac7a-6e629859b7f9",
   "metadata": {},
   "source": [
    "### Latvia "
   ]
  },
  {
   "cell_type": "code",
   "execution_count": 103,
   "id": "1cb60c89-8f3f-4f61-9832-8e3aa4d4f84a",
   "metadata": {},
   "outputs": [],
   "source": [
    "Latvia = gog.query('country_region == \"Latvia\"').compute().groupby(['date', 'country_region_code',\n",
    "                                                            'sub_region_1']).mean()"
   ]
  },
  {
   "cell_type": "code",
   "execution_count": 106,
   "id": "913d1427-282e-4459-bb2f-92a916dc6074",
   "metadata": {},
   "outputs": [],
   "source": [
    "Latvia.reset_index().to_excel('gog_Latvia.xlsx')"
   ]
  },
  {
   "cell_type": "markdown",
   "id": "7fa00844-03ff-4e1a-b5ca-d430717d022f",
   "metadata": {},
   "source": [
    "### Lithuania "
   ]
  },
  {
   "cell_type": "code",
   "execution_count": 114,
   "id": "a068abf5-0854-4a3d-a280-672ccbf12bb0",
   "metadata": {},
   "outputs": [],
   "source": [
    "Lithuania = gog.query('country_region == \"Lithuania\"').compute().groupby(['date', 'country_region_code',\n",
    "                                                            'sub_region_1']).mean()"
   ]
  },
  {
   "cell_type": "code",
   "execution_count": 116,
   "id": "9eb0da47-6c83-4036-91de-9e1f7f2b6a41",
   "metadata": {},
   "outputs": [],
   "source": [
    "Lithuania.reset_index().to_excel('gog_Lithuania.xlsx')"
   ]
  },
  {
   "cell_type": "markdown",
   "id": "3abe4aa5-9757-40cd-9152-9b7076c83d74",
   "metadata": {},
   "source": [
    "### Luxembourg "
   ]
  },
  {
   "cell_type": "code",
   "execution_count": 119,
   "id": "8b09efc0-7582-447d-be35-024788a121d1",
   "metadata": {},
   "outputs": [],
   "source": [
    "Luxembourg = gog.query('country_region == \"Luxembourg\"').compute().groupby(['date', 'country_region_code']).mean()"
   ]
  },
  {
   "cell_type": "code",
   "execution_count": 122,
   "id": "1afbb66a-acd9-4856-a6b2-c97804443ce8",
   "metadata": {},
   "outputs": [],
   "source": [
    "Luxembourg.reset_index().to_excel('gog_Luxembourg.xlsx')"
   ]
  },
  {
   "cell_type": "markdown",
   "id": "5c6b5ee8-5963-468d-a9aa-b7147ab7e0c3",
   "metadata": {},
   "source": [
    "### Malta "
   ]
  },
  {
   "cell_type": "code",
   "execution_count": 123,
   "id": "44dcdc7b-9b00-4b8d-b6c6-6c2a87c94259",
   "metadata": {},
   "outputs": [],
   "source": [
    "Malta = gog.query('country_region == \"Malta\"').compute().groupby(['date', 'country_region_code']).mean()"
   ]
  },
  {
   "cell_type": "code",
   "execution_count": 127,
   "id": "197165c8-a2c0-42b3-84b0-8ddd5a27f1ca",
   "metadata": {},
   "outputs": [],
   "source": [
    "Malta.reset_index().to_excel('gog_Malta.xlsx')"
   ]
  },
  {
   "cell_type": "markdown",
   "id": "a57a22b8-dade-41f0-8e87-e7ce1808d99b",
   "metadata": {},
   "source": [
    "### Netherlands"
   ]
  },
  {
   "cell_type": "code",
   "execution_count": 128,
   "id": "ad328f80-adbe-4a2d-a5aa-91cd8c3cb7b3",
   "metadata": {},
   "outputs": [],
   "source": [
    "Netherlands = gog.query('country_region == \"Netherlands\"').compute().groupby(['date', 'country_region_code',\n",
    "                                                            'sub_region_1', 'sub_region_2']).mean()"
   ]
  },
  {
   "cell_type": "code",
   "execution_count": 131,
   "id": "84cfe826-0f06-46f6-aeca-18dfb63aa372",
   "metadata": {},
   "outputs": [],
   "source": [
    "Netherlands.reset_index().to_excel('gog_Netherlands.xlsx')"
   ]
  },
  {
   "cell_type": "markdown",
   "id": "e2e61ca9-cfd3-41b1-8414-8506ce2abe58",
   "metadata": {},
   "source": [
    "### Poland"
   ]
  },
  {
   "cell_type": "code",
   "execution_count": 134,
   "id": "1c601d34-69de-41ff-bd10-7811124e0d57",
   "metadata": {},
   "outputs": [],
   "source": [
    "Poland = gog.query('country_region == \"Poland\"').compute().groupby(['date', 'country_region_code',\n",
    "                                                            'sub_region_1', 'sub_region_2']).mean()"
   ]
  },
  {
   "cell_type": "code",
   "execution_count": 137,
   "id": "2637842a-f39d-416a-9bb5-34c2fa619c65",
   "metadata": {},
   "outputs": [],
   "source": [
    "Poland.reset_index().to_excel('gog_Poland.xlsx')"
   ]
  },
  {
   "cell_type": "markdown",
   "id": "92da16a9-4264-4d16-b5f2-fd87893ab371",
   "metadata": {},
   "source": [
    "### Portugal"
   ]
  },
  {
   "cell_type": "code",
   "execution_count": 138,
   "id": "4e8d6746-06ce-49e9-a17d-a4dbddfee917",
   "metadata": {},
   "outputs": [],
   "source": [
    "Portugal = gog.query('country_region == \"Portugal\"').compute().groupby(['date', 'country_region_code',\n",
    "                                                            'sub_region_1', 'sub_region_2']).mean()"
   ]
  },
  {
   "cell_type": "code",
   "execution_count": 141,
   "id": "ea2aaaca-a004-4655-ae48-3b4ed888591b",
   "metadata": {},
   "outputs": [],
   "source": [
    "Portugal.reset_index().to_excel('gog_Portugal.xlsx')"
   ]
  },
  {
   "cell_type": "markdown",
   "id": "c1e30ee5-da00-4aed-9f47-f71174fc2542",
   "metadata": {},
   "source": [
    "### Romania"
   ]
  },
  {
   "cell_type": "code",
   "execution_count": 142,
   "id": "242187a7-2db6-41d0-86c5-969592ba0820",
   "metadata": {},
   "outputs": [],
   "source": [
    "Romania = gog.query('country_region == \"Romania\"').compute().groupby(['date', 'country_region_code',\n",
    "                                                            'sub_region_1', 'sub_region_2']).mean()"
   ]
  },
  {
   "cell_type": "code",
   "execution_count": 145,
   "id": "d0e551fd-4670-48cf-8b1d-841d0c381358",
   "metadata": {},
   "outputs": [],
   "source": [
    "Romania.reset_index().to_excel('gog_Romania.xlsx')"
   ]
  },
  {
   "cell_type": "markdown",
   "id": "41df07ae-8748-4099-b2f0-888efc42ec3c",
   "metadata": {},
   "source": [
    "### Slovakia "
   ]
  },
  {
   "cell_type": "code",
   "execution_count": 146,
   "id": "1f2cdd9c-b74e-4aa7-9b5a-004120422f06",
   "metadata": {},
   "outputs": [],
   "source": [
    "Slovakia = gog.query('country_region == \"Slovakia\"').compute().groupby(['date', 'country_region_code',\n",
    "                                                            'sub_region_1', 'sub_region_2']).mean()"
   ]
  },
  {
   "cell_type": "code",
   "execution_count": 149,
   "id": "7d5cc8c3-a7b9-443f-b147-0e6039fd1d53",
   "metadata": {},
   "outputs": [],
   "source": [
    "Slovakia.reset_index().to_excel('gog_Slovakia.xlsx')"
   ]
  },
  {
   "cell_type": "markdown",
   "id": "4e3eba63-ae72-4316-bbee-049dbb4d3854",
   "metadata": {},
   "source": [
    "### Slovenia "
   ]
  },
  {
   "cell_type": "code",
   "execution_count": 156,
   "id": "a5884684-b3bb-490d-a1b1-df3a4cbc17ff",
   "metadata": {},
   "outputs": [],
   "source": [
    "Slovenia = gog.query('country_region == \"Slovenia\"').compute().groupby(['date', 'country_region_code',\n",
    "                                                            'sub_region_1','sub_region_2' ]).mean()"
   ]
  },
  {
   "cell_type": "code",
   "execution_count": 159,
   "id": "edc0a9c5-0a23-49f5-a779-5293a6383d6f",
   "metadata": {},
   "outputs": [],
   "source": [
    "Slovenia.reset_index().to_excel('gog_Slovenia.xlsx')"
   ]
  },
  {
   "cell_type": "markdown",
   "id": "b7510fc2-86f5-401f-aea0-0d43e9e9494b",
   "metadata": {},
   "source": [
    "### Spain"
   ]
  },
  {
   "cell_type": "code",
   "execution_count": 160,
   "id": "90975610-42dc-4bd7-b6d3-91bfaeb87662",
   "metadata": {},
   "outputs": [],
   "source": [
    "Spain = gog.query('country_region == \"Spain\"').compute().groupby(['date', 'country_region_code',\n",
    "                                                            'sub_region_1','sub_region_2' ]).mean()"
   ]
  },
  {
   "cell_type": "code",
   "execution_count": 163,
   "id": "b3982838-1485-414b-ba7f-19b102d0f69d",
   "metadata": {},
   "outputs": [],
   "source": [
    "Spain.reset_index().to_excel('gog_Spain.xlsx')"
   ]
  },
  {
   "cell_type": "markdown",
   "id": "7857f679-7bf7-4bda-98f5-506b72049dfe",
   "metadata": {},
   "source": [
    "### Sweden "
   ]
  },
  {
   "cell_type": "code",
   "execution_count": 164,
   "id": "1cf6830a-d036-4d3d-87f3-f647ff9f5442",
   "metadata": {},
   "outputs": [],
   "source": [
    "Sweden = gog.query('country_region == \"Sweden\"').compute().groupby(['date', 'country_region_code',\n",
    "                                                            'sub_region_1','sub_region_2' ]).mean()"
   ]
  },
  {
   "cell_type": "code",
   "execution_count": 167,
   "id": "d82e4298-e303-4d68-bd5d-6c5a4f95594e",
   "metadata": {},
   "outputs": [],
   "source": [
    "Sweden.reset_index().to_excel('gog_Sweden.xlsx')"
   ]
  },
  {
   "cell_type": "markdown",
   "id": "f5e1ed8a-75b6-4005-9a4a-f9fb5f63090c",
   "metadata": {},
   "source": [
    "### United Kingdom "
   ]
  },
  {
   "cell_type": "code",
   "execution_count": 168,
   "id": "cbd77b72-60e2-4d74-8ab5-e833c42def82",
   "metadata": {},
   "outputs": [],
   "source": [
    "UK = gog.query('country_region == \"United Kingdom\"').compute().groupby(['date', 'country_region_code',\n",
    "                                                            'sub_region_1','sub_region_2' ]).mean()"
   ]
  },
  {
   "cell_type": "code",
   "execution_count": 171,
   "id": "87fdeeff-dad2-485b-a144-fe36a6f59495",
   "metadata": {},
   "outputs": [],
   "source": [
    "UK.reset_index().to_excel('gog_UK.xlsx')"
   ]
  },
  {
   "cell_type": "markdown",
   "id": "41c39c9a-fb55-4ae6-ac78-7337db10ef74",
   "metadata": {},
   "source": [
    "### Leichtenstien "
   ]
  },
  {
   "cell_type": "code",
   "execution_count": 176,
   "id": "485818c1-e2b4-4282-ac78-8338ebfd757e",
   "metadata": {},
   "outputs": [],
   "source": [
    "Liechtenstein = gog.query('country_region == \"Liechtenstein\"').compute().groupby(['date', 'country_region_code']).mean()"
   ]
  },
  {
   "cell_type": "code",
   "execution_count": 178,
   "id": "40d78f85-923f-45d7-a592-c1aba15da7d6",
   "metadata": {},
   "outputs": [],
   "source": [
    "Liechtenstein.reset_index().to_excel('gog_Liechtenstein.xlsx')"
   ]
  },
  {
   "cell_type": "markdown",
   "id": "22c165fa-db45-40bc-864e-0f9c39e7526e",
   "metadata": {},
   "source": [
    "### Norway "
   ]
  },
  {
   "cell_type": "code",
   "execution_count": 179,
   "id": "3a6befff-880a-42c7-b0ba-d85c2c73981e",
   "metadata": {},
   "outputs": [],
   "source": [
    "Norway = gog.query('country_region == \"Norway\"').compute().groupby(['date', 'country_region_code',\n",
    "                                                            'sub_region_1','sub_region_2' ]).mean()"
   ]
  },
  {
   "cell_type": "code",
   "execution_count": 182,
   "id": "a9d46143-81d8-406e-a4d7-1b5156400e59",
   "metadata": {},
   "outputs": [],
   "source": [
    "Norway.reset_index().to_excel('gog_Norway.xlsx')"
   ]
  },
  {
   "cell_type": "markdown",
   "id": "3b5490a1-8dbd-483d-9b3b-be916d6bb85a",
   "metadata": {},
   "source": [
    "### Switzerland "
   ]
  },
  {
   "cell_type": "code",
   "execution_count": 185,
   "id": "a4a50742-02e0-40e7-80b3-021c37aab238",
   "metadata": {},
   "outputs": [],
   "source": [
    "Switzerland = gog.query('country_region == \"Switzerland\"').compute().groupby(['date', 'country_region_code',\n",
    "                                                            'sub_region_1',]).mean()"
   ]
  },
  {
   "cell_type": "code",
   "execution_count": 188,
   "id": "e4d37427-c4d4-414c-9885-28c08fcc7faa",
   "metadata": {},
   "outputs": [],
   "source": [
    "Switzerland.reset_index().to_excel('gog_Switzerland.xlsx')"
   ]
  },
  {
   "cell_type": "code",
   "execution_count": null,
   "id": "7aa53aab-32a1-402c-a8b0-ab309e909af8",
   "metadata": {},
   "outputs": [],
   "source": []
  },
  {
   "cell_type": "code",
   "execution_count": null,
   "id": "2fd42b1b-611c-4044-926a-3f5b82b32ba3",
   "metadata": {},
   "outputs": [],
   "source": []
  },
  {
   "cell_type": "code",
   "execution_count": null,
   "id": "ce8f8641-a505-4f65-87af-58909ada2656",
   "metadata": {},
   "outputs": [],
   "source": []
  },
  {
   "cell_type": "code",
   "execution_count": 8,
   "id": "9d5bdf98",
   "metadata": {},
   "outputs": [
    {
     "data": {
      "text/html": [
       "<div>\n",
       "<style scoped>\n",
       "    .dataframe tbody tr th:only-of-type {\n",
       "        vertical-align: middle;\n",
       "    }\n",
       "\n",
       "    .dataframe tbody tr th {\n",
       "        vertical-align: top;\n",
       "    }\n",
       "\n",
       "    .dataframe thead th {\n",
       "        text-align: right;\n",
       "    }\n",
       "</style>\n",
       "<table border=\"1\" class=\"dataframe\">\n",
       "  <thead>\n",
       "    <tr style=\"text-align: right;\">\n",
       "      <th></th>\n",
       "      <th>country</th>\n",
       "      <th>region</th>\n",
       "      <th>date</th>\n",
       "      <th>retail</th>\n",
       "      <th>grocery</th>\n",
       "      <th>parks</th>\n",
       "      <th>transit</th>\n",
       "      <th>workplaces</th>\n",
       "      <th>residential</th>\n",
       "    </tr>\n",
       "  </thead>\n",
       "  <tbody>\n",
       "    <tr>\n",
       "      <th>0</th>\n",
       "      <td>Austria</td>\n",
       "      <td>Burgenland</td>\n",
       "      <td>2020-02-15</td>\n",
       "      <td>1.333333</td>\n",
       "      <td>-2.00</td>\n",
       "      <td>57.0</td>\n",
       "      <td>10.250000</td>\n",
       "      <td>-6.000000</td>\n",
       "      <td>-2.0</td>\n",
       "    </tr>\n",
       "    <tr>\n",
       "      <th>1</th>\n",
       "      <td>Austria</td>\n",
       "      <td>Burgenland</td>\n",
       "      <td>2020-02-16</td>\n",
       "      <td>12.750000</td>\n",
       "      <td>NaN</td>\n",
       "      <td>47.0</td>\n",
       "      <td>11.333333</td>\n",
       "      <td>2.000000</td>\n",
       "      <td>-1.0</td>\n",
       "    </tr>\n",
       "    <tr>\n",
       "      <th>2</th>\n",
       "      <td>Austria</td>\n",
       "      <td>Burgenland</td>\n",
       "      <td>2020-02-17</td>\n",
       "      <td>9.000000</td>\n",
       "      <td>5.75</td>\n",
       "      <td>24.0</td>\n",
       "      <td>12.142857</td>\n",
       "      <td>3.111111</td>\n",
       "      <td>-1.5</td>\n",
       "    </tr>\n",
       "  </tbody>\n",
       "</table>\n",
       "</div>"
      ],
      "text/plain": [
       "   country      region       date     retail  grocery  parks    transit  \\\n",
       "0  Austria  Burgenland 2020-02-15   1.333333    -2.00   57.0  10.250000   \n",
       "1  Austria  Burgenland 2020-02-16  12.750000      NaN   47.0  11.333333   \n",
       "2  Austria  Burgenland 2020-02-17   9.000000     5.75   24.0  12.142857   \n",
       "\n",
       "   workplaces  residential  \n",
       "0   -6.000000         -2.0  \n",
       "1    2.000000         -1.0  \n",
       "2    3.111111         -1.5  "
      ]
     },
     "execution_count": 8,
     "metadata": {},
     "output_type": "execute_result"
    }
   ],
   "source": [
    "gog = dd.read_csv('01_Raw Data/Google Mobility Data/*.csv', dtype={'grocery_and_pharmacy_percent_change_from_baseline': 'float64',\n",
    "       'iso_3166_2_code': 'object', 'sub_region_2': 'object',\n",
    "       'parks_percent_change_from_baseline': 'float64',\n",
    "       'residential_percent_change_from_baseline': 'float64',\n",
    "       'retail_and_recreation_percent_change_from_baseline': 'float64',\n",
    "       'sub_region_1': 'object',\n",
    "       'transit_stations_percent_change_from_baseline': 'float64',\n",
    "       'workplaces_percent_change_from_baseline': 'float64','metro_area': 'object'})\n",
    "gog_eu = gog[gog['country_region_code'].isin(eu_codes.iso2.unique())].compute()\n",
    "gog_eu.rename(columns={'sub_region_1': 'state',\n",
    "                        'sub_region_2': 'county',\n",
    "                        'country_region_code' : 'iso2', \n",
    "                         'country_region': 'country',\n",
    "                        'retail_and_recreation_percent_change_from_baseline': 'retail',\n",
    "                        'grocery_and_pharmacy_percent_change_from_baseline': 'grocery',\n",
    "                        'parks_percent_change_from_baseline': 'parks',\n",
    "                        'transit_stations_percent_change_from_baseline': 'transit',\n",
    "                        'workplaces_percent_change_from_baseline': 'workplaces',\n",
    "                        'residential_percent_change_from_baseline': 'residential'}, inplace = True)\n",
    "gog_eu.drop(['iso_3166_2_code', 'iso_3166_2_code', 'census_fips_code', 'place_id', 'metro_area'], axis = 1, inplace = True)\n",
    "gog_eu['date'] = pd.to_datetime(gog_eu['date'])\n",
    "gog_eu.dropna(subset=['country', 'state'], inplace = True) # not by county, some NUTS2 levels don't have countries i.g. Vienna (Austria) \n",
    "gog_eu.drop('county', axis =1, inplace = True)\n",
    "gog_eu = gog_eu.groupby(['iso2', 'country', 'state', 'date']).mean().reset_index().drop('iso2', axis =1)\n",
    "gog_eu.rename({\"state\": \"region\"}, axis =1, inplace = True)\n",
    "gog_eu.head(3)"
   ]
  },
  {
   "cell_type": "code",
   "execution_count": 9,
   "id": "089f877e-c281-438b-8d2b-77142ad9ba45",
   "metadata": {},
   "outputs": [
    {
     "data": {
      "text/html": [
       "<div>\n",
       "<style scoped>\n",
       "    .dataframe tbody tr th:only-of-type {\n",
       "        vertical-align: middle;\n",
       "    }\n",
       "\n",
       "    .dataframe tbody tr th {\n",
       "        vertical-align: top;\n",
       "    }\n",
       "\n",
       "    .dataframe thead th {\n",
       "        text-align: right;\n",
       "    }\n",
       "</style>\n",
       "<table border=\"1\" class=\"dataframe\">\n",
       "  <thead>\n",
       "    <tr style=\"text-align: right;\">\n",
       "      <th></th>\n",
       "      <th>NUTS_ID</th>\n",
       "      <th>LEVL_CODE</th>\n",
       "      <th>CNTR_CODE</th>\n",
       "      <th>NUTS_NAME</th>\n",
       "      <th>3</th>\n",
       "      <th>4</th>\n",
       "      <th>5</th>\n",
       "      <th>6</th>\n",
       "      <th>7</th>\n",
       "      <th>8</th>\n",
       "      <th>...</th>\n",
       "      <th>36</th>\n",
       "      <th>region</th>\n",
       "      <th>country</th>\n",
       "      <th>date</th>\n",
       "      <th>retail</th>\n",
       "      <th>grocery</th>\n",
       "      <th>parks</th>\n",
       "      <th>transit</th>\n",
       "      <th>workplaces</th>\n",
       "      <th>residential</th>\n",
       "    </tr>\n",
       "  </thead>\n",
       "  <tbody>\n",
       "    <tr>\n",
       "      <th>0</th>\n",
       "      <td>BG423</td>\n",
       "      <td>3</td>\n",
       "      <td>BG</td>\n",
       "      <td>ÐÐ°Ð·Ð°ÑÐ´Ð¶Ð¸Ðº</td>\n",
       "      <td>NaN</td>\n",
       "      <td>NaN</td>\n",
       "      <td>NaN</td>\n",
       "      <td>NaN</td>\n",
       "      <td>NaN</td>\n",
       "      <td>NaN</td>\n",
       "      <td>...</td>\n",
       "      <td>NaN</td>\n",
       "      <td>Pazardzhik</td>\n",
       "      <td>Bulgaria</td>\n",
       "      <td>2020-02-15</td>\n",
       "      <td>-4.666667</td>\n",
       "      <td>1.666667</td>\n",
       "      <td>-18.333333</td>\n",
       "      <td>NaN</td>\n",
       "      <td>-2.000000</td>\n",
       "      <td>1.0</td>\n",
       "    </tr>\n",
       "    <tr>\n",
       "      <th>1</th>\n",
       "      <td>BG423</td>\n",
       "      <td>3</td>\n",
       "      <td>BG</td>\n",
       "      <td>ÐÐ°Ð·Ð°ÑÐ´Ð¶Ð¸Ðº</td>\n",
       "      <td>NaN</td>\n",
       "      <td>NaN</td>\n",
       "      <td>NaN</td>\n",
       "      <td>NaN</td>\n",
       "      <td>NaN</td>\n",
       "      <td>NaN</td>\n",
       "      <td>...</td>\n",
       "      <td>NaN</td>\n",
       "      <td>Pazardzhik</td>\n",
       "      <td>Bulgaria</td>\n",
       "      <td>2020-02-16</td>\n",
       "      <td>15.500000</td>\n",
       "      <td>6.666667</td>\n",
       "      <td>58.000000</td>\n",
       "      <td>NaN</td>\n",
       "      <td>3.333333</td>\n",
       "      <td>-2.0</td>\n",
       "    </tr>\n",
       "    <tr>\n",
       "      <th>2</th>\n",
       "      <td>BG423</td>\n",
       "      <td>3</td>\n",
       "      <td>BG</td>\n",
       "      <td>ÐÐ°Ð·Ð°ÑÐ´Ð¶Ð¸Ðº</td>\n",
       "      <td>NaN</td>\n",
       "      <td>NaN</td>\n",
       "      <td>NaN</td>\n",
       "      <td>NaN</td>\n",
       "      <td>NaN</td>\n",
       "      <td>NaN</td>\n",
       "      <td>...</td>\n",
       "      <td>NaN</td>\n",
       "      <td>Pazardzhik</td>\n",
       "      <td>Bulgaria</td>\n",
       "      <td>2020-02-17</td>\n",
       "      <td>-1.000000</td>\n",
       "      <td>3.333333</td>\n",
       "      <td>15.666667</td>\n",
       "      <td>NaN</td>\n",
       "      <td>4.333333</td>\n",
       "      <td>-1.5</td>\n",
       "    </tr>\n",
       "  </tbody>\n",
       "</table>\n",
       "<p>3 rows × 47 columns</p>\n",
       "</div>"
      ],
      "text/plain": [
       "  NUTS_ID  LEVL_CODE CNTR_CODE           NUTS_NAME   3   4   5   6   7   8  \\\n",
       "0   BG423          3        BG  ÐÐ°Ð·Ð°ÑÐ´Ð¶Ð¸Ðº NaN NaN NaN NaN NaN NaN   \n",
       "1   BG423          3        BG  ÐÐ°Ð·Ð°ÑÐ´Ð¶Ð¸Ðº NaN NaN NaN NaN NaN NaN   \n",
       "2   BG423          3        BG  ÐÐ°Ð·Ð°ÑÐ´Ð¶Ð¸Ðº NaN NaN NaN NaN NaN NaN   \n",
       "\n",
       "   ...  36      region   country       date     retail   grocery      parks  \\\n",
       "0  ... NaN  Pazardzhik  Bulgaria 2020-02-15  -4.666667  1.666667 -18.333333   \n",
       "1  ... NaN  Pazardzhik  Bulgaria 2020-02-16  15.500000  6.666667  58.000000   \n",
       "2  ... NaN  Pazardzhik  Bulgaria 2020-02-17  -1.000000  3.333333  15.666667   \n",
       "\n",
       "   transit  workplaces  residential  \n",
       "0      NaN   -2.000000          1.0  \n",
       "1      NaN    3.333333         -2.0  \n",
       "2      NaN    4.333333         -1.5  \n",
       "\n",
       "[3 rows x 47 columns]"
      ]
     },
     "execution_count": 9,
     "metadata": {},
     "output_type": "execute_result"
    }
   ],
   "source": [
    "# read the google's index\n",
    "gog_id = pd.read_excel('01_Raw Data/index_gog.xlsx').drop('country', axis =1)\n",
    "# merge the data \n",
    "gog_mob = pd.merge(gog_id, gog_eu, on = 'region')\n",
    "gog_mob =  gog_mob.groupby(gog_mob.iloc[:, :6].columns.tolist()).mean().reset_index()\n",
    "gog_mob = pd.merge(shape, gog_mob, left_on = 'NUTS_ID', right_on = 'nuts_id').drop('nuts_id', axis = 1)\n",
    "gog_mob.drop('geometry', axis = 1, inplace = True)\n",
    "gog_mob.head(3)"
   ]
  },
  {
   "cell_type": "code",
   "execution_count": 16,
   "id": "3c6e610a-3c6b-42f6-84f8-7f9bc2b8053b",
   "metadata": {},
   "outputs": [],
   "source": [
    "gog_out = gpd.GeoDataFrame(pd.merge(shape, gog_mob, left_on = \"NUTS_ID\", right_on = \"NUTS_ID\"))"
   ]
  },
  {
   "cell_type": "code",
   "execution_count": null,
   "id": "48fe343a-d13b-4981-b800-b3fc320519ff",
   "metadata": {},
   "outputs": [],
   "source": []
  },
  {
   "cell_type": "code",
   "execution_count": null,
   "id": "43393800-a8fb-490c-ad11-21c366f33a68",
   "metadata": {},
   "outputs": [],
   "source": [
    "# Export the id columns to be filled by the nuts_id \n",
    "# gog_eu.iloc[:,:2].drop_duplicates(subset = ['region']).to_excel('01_Raw Data/gog_index.xlsx', index = False)"
   ]
  },
  {
   "cell_type": "markdown",
   "id": "3fc1e854",
   "metadata": {},
   "source": [
    "## 3. Appel mobility data "
   ]
  },
  {
   "cell_type": "markdown",
   "id": "18c89bbb",
   "metadata": {},
   "source": [
    "\n",
    "\n",
    "[Appel Mobility Data](https://covid19.apple.com/mobility) are downloaded on **22-12-2021**."
   ]
  },
  {
   "cell_type": "code",
   "execution_count": 20,
   "id": "1d9a5711-66ce-4439-8875-842a3edb06f5",
   "metadata": {},
   "outputs": [
    {
     "data": {
      "text/html": [
       "<div>\n",
       "<style scoped>\n",
       "    .dataframe tbody tr th:only-of-type {\n",
       "        vertical-align: middle;\n",
       "    }\n",
       "\n",
       "    .dataframe tbody tr th {\n",
       "        vertical-align: top;\n",
       "    }\n",
       "\n",
       "    .dataframe thead th {\n",
       "        text-align: right;\n",
       "    }\n",
       "</style>\n",
       "<table border=\"1\" class=\"dataframe\">\n",
       "  <thead>\n",
       "    <tr style=\"text-align: right;\">\n",
       "      <th></th>\n",
       "      <th>geo_type</th>\n",
       "      <th>region</th>\n",
       "      <th>transportation_type</th>\n",
       "      <th>sub-region</th>\n",
       "      <th>country</th>\n",
       "      <th>2020-01-13</th>\n",
       "      <th>2020-01-14</th>\n",
       "      <th>2020-01-15</th>\n",
       "      <th>2020-01-16</th>\n",
       "      <th>2020-01-17</th>\n",
       "      <th>...</th>\n",
       "      <th>2021-12-11</th>\n",
       "      <th>2021-12-12</th>\n",
       "      <th>2021-12-13</th>\n",
       "      <th>2021-12-14</th>\n",
       "      <th>2021-12-15</th>\n",
       "      <th>2021-12-16</th>\n",
       "      <th>2021-12-17</th>\n",
       "      <th>2021-12-18</th>\n",
       "      <th>2021-12-19</th>\n",
       "      <th>2021-12-20</th>\n",
       "    </tr>\n",
       "  </thead>\n",
       "  <tbody>\n",
       "    <tr>\n",
       "      <th>943</th>\n",
       "      <td>sub-region</td>\n",
       "      <td>Abruzzo Region</td>\n",
       "      <td>driving</td>\n",
       "      <td>NaN</td>\n",
       "      <td>Italy</td>\n",
       "      <td>100.0</td>\n",
       "      <td>96.57</td>\n",
       "      <td>97.50</td>\n",
       "      <td>101.50</td>\n",
       "      <td>108.85</td>\n",
       "      <td>...</td>\n",
       "      <td>151.13</td>\n",
       "      <td>155.85</td>\n",
       "      <td>129.07</td>\n",
       "      <td>131.08</td>\n",
       "      <td>141.03</td>\n",
       "      <td>141.80</td>\n",
       "      <td>159.04</td>\n",
       "      <td>178.45</td>\n",
       "      <td>164.01</td>\n",
       "      <td>148.37</td>\n",
       "    </tr>\n",
       "    <tr>\n",
       "      <th>944</th>\n",
       "      <td>sub-region</td>\n",
       "      <td>Abruzzo Region</td>\n",
       "      <td>walking</td>\n",
       "      <td>NaN</td>\n",
       "      <td>Italy</td>\n",
       "      <td>100.0</td>\n",
       "      <td>107.12</td>\n",
       "      <td>109.09</td>\n",
       "      <td>114.80</td>\n",
       "      <td>106.35</td>\n",
       "      <td>...</td>\n",
       "      <td>175.22</td>\n",
       "      <td>145.43</td>\n",
       "      <td>160.29</td>\n",
       "      <td>169.06</td>\n",
       "      <td>173.25</td>\n",
       "      <td>163.09</td>\n",
       "      <td>194.41</td>\n",
       "      <td>234.94</td>\n",
       "      <td>168.55</td>\n",
       "      <td>190.28</td>\n",
       "    </tr>\n",
       "    <tr>\n",
       "      <th>945</th>\n",
       "      <td>sub-region</td>\n",
       "      <td>Acre</td>\n",
       "      <td>driving</td>\n",
       "      <td>NaN</td>\n",
       "      <td>Brazil</td>\n",
       "      <td>NaN</td>\n",
       "      <td>NaN</td>\n",
       "      <td>NaN</td>\n",
       "      <td>NaN</td>\n",
       "      <td>NaN</td>\n",
       "      <td>...</td>\n",
       "      <td>NaN</td>\n",
       "      <td>NaN</td>\n",
       "      <td>NaN</td>\n",
       "      <td>NaN</td>\n",
       "      <td>NaN</td>\n",
       "      <td>NaN</td>\n",
       "      <td>NaN</td>\n",
       "      <td>NaN</td>\n",
       "      <td>NaN</td>\n",
       "      <td>NaN</td>\n",
       "    </tr>\n",
       "    <tr>\n",
       "      <th>946</th>\n",
       "      <td>sub-region</td>\n",
       "      <td>Agder</td>\n",
       "      <td>driving</td>\n",
       "      <td>NaN</td>\n",
       "      <td>Norway</td>\n",
       "      <td>100.0</td>\n",
       "      <td>98.62</td>\n",
       "      <td>95.91</td>\n",
       "      <td>101.60</td>\n",
       "      <td>116.49</td>\n",
       "      <td>...</td>\n",
       "      <td>106.53</td>\n",
       "      <td>97.51</td>\n",
       "      <td>124.86</td>\n",
       "      <td>117.14</td>\n",
       "      <td>125.04</td>\n",
       "      <td>131.40</td>\n",
       "      <td>142.99</td>\n",
       "      <td>117.57</td>\n",
       "      <td>111.58</td>\n",
       "      <td>143.36</td>\n",
       "    </tr>\n",
       "    <tr>\n",
       "      <th>947</th>\n",
       "      <td>sub-region</td>\n",
       "      <td>Agder</td>\n",
       "      <td>walking</td>\n",
       "      <td>NaN</td>\n",
       "      <td>Norway</td>\n",
       "      <td>100.0</td>\n",
       "      <td>93.29</td>\n",
       "      <td>103.28</td>\n",
       "      <td>98.81</td>\n",
       "      <td>103.36</td>\n",
       "      <td>...</td>\n",
       "      <td>115.88</td>\n",
       "      <td>76.14</td>\n",
       "      <td>140.57</td>\n",
       "      <td>116.11</td>\n",
       "      <td>123.86</td>\n",
       "      <td>138.63</td>\n",
       "      <td>167.11</td>\n",
       "      <td>111.19</td>\n",
       "      <td>77.48</td>\n",
       "      <td>164.50</td>\n",
       "    </tr>\n",
       "    <tr>\n",
       "      <th>...</th>\n",
       "      <td>...</td>\n",
       "      <td>...</td>\n",
       "      <td>...</td>\n",
       "      <td>...</td>\n",
       "      <td>...</td>\n",
       "      <td>...</td>\n",
       "      <td>...</td>\n",
       "      <td>...</td>\n",
       "      <td>...</td>\n",
       "      <td>...</td>\n",
       "      <td>...</td>\n",
       "      <td>...</td>\n",
       "      <td>...</td>\n",
       "      <td>...</td>\n",
       "      <td>...</td>\n",
       "      <td>...</td>\n",
       "      <td>...</td>\n",
       "      <td>...</td>\n",
       "      <td>...</td>\n",
       "      <td>...</td>\n",
       "      <td>...</td>\n",
       "    </tr>\n",
       "    <tr>\n",
       "      <th>4686</th>\n",
       "      <td>county</td>\n",
       "      <td>York County</td>\n",
       "      <td>walking</td>\n",
       "      <td>Pennsylvania</td>\n",
       "      <td>United States</td>\n",
       "      <td>100.0</td>\n",
       "      <td>110.22</td>\n",
       "      <td>121.82</td>\n",
       "      <td>109.72</td>\n",
       "      <td>140.72</td>\n",
       "      <td>...</td>\n",
       "      <td>209.56</td>\n",
       "      <td>167.35</td>\n",
       "      <td>184.86</td>\n",
       "      <td>196.13</td>\n",
       "      <td>209.28</td>\n",
       "      <td>211.66</td>\n",
       "      <td>250.22</td>\n",
       "      <td>245.03</td>\n",
       "      <td>165.14</td>\n",
       "      <td>199.39</td>\n",
       "    </tr>\n",
       "    <tr>\n",
       "      <th>4687</th>\n",
       "      <td>county</td>\n",
       "      <td>Young County</td>\n",
       "      <td>driving</td>\n",
       "      <td>Texas</td>\n",
       "      <td>United States</td>\n",
       "      <td>100.0</td>\n",
       "      <td>98.85</td>\n",
       "      <td>97.76</td>\n",
       "      <td>92.21</td>\n",
       "      <td>115.79</td>\n",
       "      <td>...</td>\n",
       "      <td>176.08</td>\n",
       "      <td>139.50</td>\n",
       "      <td>154.95</td>\n",
       "      <td>163.01</td>\n",
       "      <td>166.46</td>\n",
       "      <td>166.73</td>\n",
       "      <td>221.07</td>\n",
       "      <td>190.99</td>\n",
       "      <td>144.92</td>\n",
       "      <td>169.11</td>\n",
       "    </tr>\n",
       "    <tr>\n",
       "      <th>4688</th>\n",
       "      <td>county</td>\n",
       "      <td>Yuba County</td>\n",
       "      <td>driving</td>\n",
       "      <td>California</td>\n",
       "      <td>United States</td>\n",
       "      <td>100.0</td>\n",
       "      <td>102.98</td>\n",
       "      <td>103.10</td>\n",
       "      <td>114.08</td>\n",
       "      <td>118.83</td>\n",
       "      <td>...</td>\n",
       "      <td>177.60</td>\n",
       "      <td>121.76</td>\n",
       "      <td>142.89</td>\n",
       "      <td>148.62</td>\n",
       "      <td>159.91</td>\n",
       "      <td>169.67</td>\n",
       "      <td>198.52</td>\n",
       "      <td>177.55</td>\n",
       "      <td>135.85</td>\n",
       "      <td>162.79</td>\n",
       "    </tr>\n",
       "    <tr>\n",
       "      <th>4689</th>\n",
       "      <td>county</td>\n",
       "      <td>Yuma County</td>\n",
       "      <td>driving</td>\n",
       "      <td>Arizona</td>\n",
       "      <td>United States</td>\n",
       "      <td>100.0</td>\n",
       "      <td>101.82</td>\n",
       "      <td>106.67</td>\n",
       "      <td>108.93</td>\n",
       "      <td>135.92</td>\n",
       "      <td>...</td>\n",
       "      <td>178.68</td>\n",
       "      <td>129.67</td>\n",
       "      <td>153.52</td>\n",
       "      <td>155.95</td>\n",
       "      <td>163.20</td>\n",
       "      <td>169.46</td>\n",
       "      <td>202.46</td>\n",
       "      <td>188.70</td>\n",
       "      <td>147.47</td>\n",
       "      <td>171.41</td>\n",
       "    </tr>\n",
       "    <tr>\n",
       "      <th>4690</th>\n",
       "      <td>county</td>\n",
       "      <td>Yuma County</td>\n",
       "      <td>walking</td>\n",
       "      <td>Arizona</td>\n",
       "      <td>United States</td>\n",
       "      <td>100.0</td>\n",
       "      <td>95.88</td>\n",
       "      <td>98.97</td>\n",
       "      <td>92.88</td>\n",
       "      <td>117.25</td>\n",
       "      <td>...</td>\n",
       "      <td>230.30</td>\n",
       "      <td>141.80</td>\n",
       "      <td>177.34</td>\n",
       "      <td>178.45</td>\n",
       "      <td>165.84</td>\n",
       "      <td>179.57</td>\n",
       "      <td>233.05</td>\n",
       "      <td>217.25</td>\n",
       "      <td>147.81</td>\n",
       "      <td>198.20</td>\n",
       "    </tr>\n",
       "  </tbody>\n",
       "</table>\n",
       "<p>3748 rows × 713 columns</p>\n",
       "</div>"
      ],
      "text/plain": [
       "        geo_type          region transportation_type    sub-region  \\\n",
       "943   sub-region  Abruzzo Region             driving           NaN   \n",
       "944   sub-region  Abruzzo Region             walking           NaN   \n",
       "945   sub-region            Acre             driving           NaN   \n",
       "946   sub-region           Agder             driving           NaN   \n",
       "947   sub-region           Agder             walking           NaN   \n",
       "...          ...             ...                 ...           ...   \n",
       "4686      county     York County             walking  Pennsylvania   \n",
       "4687      county    Young County             driving         Texas   \n",
       "4688      county     Yuba County             driving    California   \n",
       "4689      county     Yuma County             driving       Arizona   \n",
       "4690      county     Yuma County             walking       Arizona   \n",
       "\n",
       "            country  2020-01-13  2020-01-14  2020-01-15  2020-01-16  \\\n",
       "943           Italy       100.0       96.57       97.50      101.50   \n",
       "944           Italy       100.0      107.12      109.09      114.80   \n",
       "945          Brazil         NaN         NaN         NaN         NaN   \n",
       "946          Norway       100.0       98.62       95.91      101.60   \n",
       "947          Norway       100.0       93.29      103.28       98.81   \n",
       "...             ...         ...         ...         ...         ...   \n",
       "4686  United States       100.0      110.22      121.82      109.72   \n",
       "4687  United States       100.0       98.85       97.76       92.21   \n",
       "4688  United States       100.0      102.98      103.10      114.08   \n",
       "4689  United States       100.0      101.82      106.67      108.93   \n",
       "4690  United States       100.0       95.88       98.97       92.88   \n",
       "\n",
       "      2020-01-17  ...  2021-12-11  2021-12-12  2021-12-13  2021-12-14  \\\n",
       "943       108.85  ...      151.13      155.85      129.07      131.08   \n",
       "944       106.35  ...      175.22      145.43      160.29      169.06   \n",
       "945          NaN  ...         NaN         NaN         NaN         NaN   \n",
       "946       116.49  ...      106.53       97.51      124.86      117.14   \n",
       "947       103.36  ...      115.88       76.14      140.57      116.11   \n",
       "...          ...  ...         ...         ...         ...         ...   \n",
       "4686      140.72  ...      209.56      167.35      184.86      196.13   \n",
       "4687      115.79  ...      176.08      139.50      154.95      163.01   \n",
       "4688      118.83  ...      177.60      121.76      142.89      148.62   \n",
       "4689      135.92  ...      178.68      129.67      153.52      155.95   \n",
       "4690      117.25  ...      230.30      141.80      177.34      178.45   \n",
       "\n",
       "      2021-12-15  2021-12-16  2021-12-17  2021-12-18  2021-12-19  2021-12-20  \n",
       "943       141.03      141.80      159.04      178.45      164.01      148.37  \n",
       "944       173.25      163.09      194.41      234.94      168.55      190.28  \n",
       "945          NaN         NaN         NaN         NaN         NaN         NaN  \n",
       "946       125.04      131.40      142.99      117.57      111.58      143.36  \n",
       "947       123.86      138.63      167.11      111.19       77.48      164.50  \n",
       "...          ...         ...         ...         ...         ...         ...  \n",
       "4686      209.28      211.66      250.22      245.03      165.14      199.39  \n",
       "4687      166.46      166.73      221.07      190.99      144.92      169.11  \n",
       "4688      159.91      169.67      198.52      177.55      135.85      162.79  \n",
       "4689      163.20      169.46      202.46      188.70      147.47      171.41  \n",
       "4690      165.84      179.57      233.05      217.25      147.81      198.20  \n",
       "\n",
       "[3748 rows x 713 columns]"
      ]
     },
     "execution_count": 20,
     "metadata": {},
     "output_type": "execute_result"
    }
   ],
   "source": [
    "apl = pd.read_csv('01_Raw Data/Appel Mobility Data/applemobilitytrends-2021-12-20.csv', sep = ',', low_memory = False)\n",
    "apl.drop('alternative_name', axis = 1, inplace = True)\n",
    "apl = apl[apl['country'].notna()]\n",
    "apl = apl.query('geo_type != \"city\"')\n",
    "apl"
   ]
  },
  {
   "cell_type": "markdown",
   "id": "d7704c35-339b-4068-a0df-fbb988a21994",
   "metadata": {},
   "source": [
    "### Austria "
   ]
  },
  {
   "cell_type": "code",
   "execution_count": 22,
   "id": "d09a4588-bbc4-4f19-95fa-09318f979c49",
   "metadata": {},
   "outputs": [],
   "source": [
    "apl.query('country == \"Austrai\"').to_excel('apl_Austria.xlsx')"
   ]
  },
  {
   "cell_type": "markdown",
   "id": "3a5c2a28-a13e-4bf7-8ee9-4a95202c4f6c",
   "metadata": {},
   "source": [
    "### Belgium "
   ]
  },
  {
   "cell_type": "code",
   "execution_count": 28,
   "id": "7a07130f-95e1-43ab-aea9-665340ef94c1",
   "metadata": {},
   "outputs": [],
   "source": [
    "apl.query('country == \"Belgium\"').to_excel('apl_Belgium.xlsx')"
   ]
  },
  {
   "cell_type": "markdown",
   "id": "fa4d8b11-aa1f-4fcf-91f1-3ebe53b05c20",
   "metadata": {},
   "source": [
    "### Bulgaria"
   ]
  },
  {
   "cell_type": "code",
   "execution_count": 33,
   "id": "1cdb65e9-36f2-434a-b3b1-a10fcdc127a5",
   "metadata": {},
   "outputs": [
    {
     "data": {
      "text/plain": [
       "array(['Italy', 'Brazil', 'Norway', 'Mexico', 'Japan', 'United States',\n",
       "       'Canada', 'France', 'Thailand', 'Spain', 'Chile', 'Belgium',\n",
       "       'New Zealand', 'Australia', 'Germany', 'United Kingdom',\n",
       "       'Slovakia', 'Hungary', 'Sweden', 'Austria', 'Republic of Korea',\n",
       "       'Switzerland', 'Denmark', 'Ireland', 'Czech Republic', 'Israel',\n",
       "       'Finland', 'Luxembourg', 'Netherlands', 'South Africa', 'Poland',\n",
       "       'Taiwan'], dtype=object)"
      ]
     },
     "execution_count": 33,
     "metadata": {},
     "output_type": "execute_result"
    }
   ],
   "source": [
    "apl.country.unique()"
   ]
  },
  {
   "cell_type": "code",
   "execution_count": null,
   "id": "0a8cfeea-90da-4384-8b69-378fdb94dda1",
   "metadata": {},
   "outputs": [],
   "source": []
  },
  {
   "cell_type": "markdown",
   "id": "f42ca94f-008e-4e39-bb84-a4ce19814d1d",
   "metadata": {},
   "source": [
    "### Czechia"
   ]
  },
  {
   "cell_type": "code",
   "execution_count": 41,
   "id": "7860cf4b-8a35-4705-aca2-2bd3478d866d",
   "metadata": {},
   "outputs": [],
   "source": [
    "apl.query('country == \"Czech Republic\"').to_excel('apl_Czechia.xlsx')"
   ]
  },
  {
   "cell_type": "markdown",
   "id": "9c883ef8-205a-4ce7-8092-d4d63f1131d0",
   "metadata": {},
   "source": [
    "### Denmark"
   ]
  },
  {
   "cell_type": "code",
   "execution_count": 43,
   "id": "16997a88-f2bd-4823-aee8-7ec4cf508caf",
   "metadata": {},
   "outputs": [
    {
     "data": {
      "text/plain": [
       "5"
      ]
     },
     "execution_count": 43,
     "metadata": {},
     "output_type": "execute_result"
    }
   ],
   "source": [
    "len(apl.query('country == \"Denmark\"').region.unique())"
   ]
  },
  {
   "cell_type": "code",
   "execution_count": 45,
   "id": "5949805f-fadb-4347-9b5e-a25f6ad193f0",
   "metadata": {},
   "outputs": [],
   "source": [
    "apl.query('country == \"Denmark\"').to_excel('apl_Denmark.xlsx')"
   ]
  },
  {
   "cell_type": "markdown",
   "id": "d15a5907-084f-44c5-8820-d87c0b52b001",
   "metadata": {},
   "source": [
    "### Finland"
   ]
  },
  {
   "cell_type": "code",
   "execution_count": 50,
   "id": "62cf6685-2196-4774-aa68-253a35b73b4f",
   "metadata": {},
   "outputs": [
    {
     "data": {
      "text/plain": [
       "array(['Central Finland', 'Central Ostrobothnia', 'Kainuu', 'Kanta-Häme',\n",
       "       'Kymenlaakso', 'Lapland Region', 'North Karelia',\n",
       "       'North Ostrobothnia', 'North Savo', 'Ostrobothnia', 'Päijät-Häme',\n",
       "       'Satakunta', 'South Karelia', 'South Ostrobothnia', 'South Savo',\n",
       "       'Southwest Finland', 'Tampere Region', 'Uusimaa'], dtype=object)"
      ]
     },
     "execution_count": 50,
     "metadata": {},
     "output_type": "execute_result"
    }
   ],
   "source": [
    "apl.query('country == \"Finland\"').region.unique()"
   ]
  },
  {
   "cell_type": "code",
   "execution_count": 52,
   "id": "d9aab6da-cb48-4ae9-8f6b-0f34d40ea41e",
   "metadata": {},
   "outputs": [],
   "source": [
    "apl.query('country == \"Finland\"').to_excel('apl_Finland.xlsx')"
   ]
  },
  {
   "cell_type": "markdown",
   "id": "a8f80178-7674-447e-97ee-9012de25bed5",
   "metadata": {},
   "source": [
    "### France "
   ]
  },
  {
   "cell_type": "code",
   "execution_count": 56,
   "id": "f1c504e9-82ee-423a-a5cd-e2fd690e5bab",
   "metadata": {},
   "outputs": [
    {
     "data": {
      "text/plain": [
       "22"
      ]
     },
     "execution_count": 56,
     "metadata": {},
     "output_type": "execute_result"
    }
   ],
   "source": [
    "len(apl.query('country == \"France\"').region.unique())"
   ]
  },
  {
   "cell_type": "code",
   "execution_count": 58,
   "id": "adb1407a-ba0e-4910-a8c4-50ba237dd5a6",
   "metadata": {},
   "outputs": [],
   "source": [
    "apl.query('country == \"France\"').to_excel('apl_France.xlsx')"
   ]
  },
  {
   "cell_type": "markdown",
   "id": "f18470b7-eb4d-426c-89cc-2105429d4473",
   "metadata": {},
   "source": [
    "### Germany "
   ]
  },
  {
   "cell_type": "code",
   "execution_count": 60,
   "id": "f6778584-5067-49c8-ac01-044979674001",
   "metadata": {},
   "outputs": [
    {
     "data": {
      "text/plain": [
       "array(['Baden-Württemberg', 'Bavaria', 'Brandenburg', 'Bremen (state)',\n",
       "       'Hesse', 'Lower Saxony', 'Mecklenburg-Vorpommern',\n",
       "       'North Rhine-Westphalia', 'Rhineland-Palatinate', 'Saarland',\n",
       "       'Saxony', 'Saxony-Anhalt', 'Schleswig-Holstein', 'Thuringia'],\n",
       "      dtype=object)"
      ]
     },
     "execution_count": 60,
     "metadata": {},
     "output_type": "execute_result"
    }
   ],
   "source": [
    "apl.query('country == \"Germany\"').region.unique()"
   ]
  },
  {
   "cell_type": "code",
   "execution_count": 61,
   "id": "565a19ca-b2fe-481b-92ae-97a5e419598d",
   "metadata": {},
   "outputs": [],
   "source": [
    "apl.query('country == \"Germany\"').to_excel('apl_Germany.xlsx')"
   ]
  },
  {
   "cell_type": "markdown",
   "id": "7b54ec16-50b3-43b5-9755-3856cf4335b5",
   "metadata": {},
   "source": [
    "### Hungary "
   ]
  },
  {
   "cell_type": "code",
   "execution_count": 63,
   "id": "00adc536-3c9d-47ec-9b1a-f2373546579d",
   "metadata": {},
   "outputs": [
    {
     "data": {
      "text/plain": [
       "19"
      ]
     },
     "execution_count": 63,
     "metadata": {},
     "output_type": "execute_result"
    }
   ],
   "source": [
    "len(apl.query('country == \"Hungary\"').region.unique())"
   ]
  },
  {
   "cell_type": "code",
   "execution_count": 65,
   "id": "d0500534-165f-41d8-bec5-b9f33e3b0feb",
   "metadata": {},
   "outputs": [],
   "source": [
    "apl.query('country == \"Hungary\"').to_excel('apl_Hungary.xlsx')"
   ]
  },
  {
   "cell_type": "markdown",
   "id": "ed1bf438-41e4-4ebe-834c-3bcd140d3547",
   "metadata": {},
   "source": [
    "### Ireland "
   ]
  },
  {
   "cell_type": "code",
   "execution_count": 68,
   "id": "705ec526-87c5-46fd-93ff-14672a79bf6b",
   "metadata": {},
   "outputs": [
    {
     "data": {
      "text/plain": [
       "25"
      ]
     },
     "execution_count": 68,
     "metadata": {},
     "output_type": "execute_result"
    }
   ],
   "source": [
    "len(apl.query('country == \"Ireland\"').region.unique())"
   ]
  },
  {
   "cell_type": "code",
   "execution_count": 70,
   "id": "b168b4fb-2c93-4521-a338-56c407a2a739",
   "metadata": {},
   "outputs": [],
   "source": [
    "apl.query('country == \"Ireland\"').to_excel('apl_Ireland.xlsx')"
   ]
  },
  {
   "cell_type": "markdown",
   "id": "2ce85add-b691-4f4c-8920-f3e2372c847f",
   "metadata": {},
   "source": [
    "### Luxembourg "
   ]
  },
  {
   "cell_type": "code",
   "execution_count": 79,
   "id": "adb833fd-fd61-4575-81f6-ceac2033b015",
   "metadata": {},
   "outputs": [],
   "source": [
    "apl.query('country == \"Luxembourg\"').groupby(['geo_type', 'transportation_type',\n",
    "                                             'country']).mean().reset_index().to_excel('apl_Luxembourg.xlsx')"
   ]
  },
  {
   "cell_type": "markdown",
   "id": "eaaebc7b-3e35-433c-a858-c5da8f75ccb8",
   "metadata": {},
   "source": [
    "### Netherlands "
   ]
  },
  {
   "cell_type": "code",
   "execution_count": 82,
   "id": "f906d9f4-d25f-49bf-bba0-8c53004f0d40",
   "metadata": {},
   "outputs": [
    {
     "data": {
      "text/plain": [
       "array(['Drenthe', 'Flevoland', 'Friesland', 'Gelderland', 'Groningen',\n",
       "       'Limburg', 'North Brabant', 'North Holland', 'Overijssel',\n",
       "       'South Holland', 'Zeeland'], dtype=object)"
      ]
     },
     "execution_count": 82,
     "metadata": {},
     "output_type": "execute_result"
    }
   ],
   "source": [
    "apl.query('country == \"Netherlands\"').region.unique()"
   ]
  },
  {
   "cell_type": "code",
   "execution_count": 84,
   "id": "091a3a21-0b44-4605-af9d-ff4791b2cdff",
   "metadata": {},
   "outputs": [],
   "source": [
    "apl.query('country == \"Netherlands\"').to_excel('apl_Netherlands.xlsx')"
   ]
  },
  {
   "cell_type": "markdown",
   "id": "75918c31-f2b7-4153-a6de-9e1f6b526851",
   "metadata": {},
   "source": [
    "### Poland"
   ]
  },
  {
   "cell_type": "code",
   "execution_count": 91,
   "id": "aeaff689-bc6a-4447-be46-7fa5004e968c",
   "metadata": {},
   "outputs": [
    {
     "data": {
      "text/plain": [
       "array(['Greater Poland Province', 'Kuiavia-Pomerania Province',\n",
       "       'Lesser Poland Province', 'Lodz Province',\n",
       "       'Lower Silesia Province', 'Lublin Province', 'Lubusz Province',\n",
       "       'Mazovia Province', 'Opole Province', 'Podlachia Province',\n",
       "       'Pomerania Province', 'Silesia Province', 'Subcarpathia Province',\n",
       "       'Swietokrzyskie Province', 'Warmia-Masuria Province',\n",
       "       'West Pomeranian Province'], dtype=object)"
      ]
     },
     "execution_count": 91,
     "metadata": {},
     "output_type": "execute_result"
    }
   ],
   "source": [
    "apl.query('country == \"Poland\"').region.unique()"
   ]
  },
  {
   "cell_type": "code",
   "execution_count": 90,
   "id": "beb93276-e5fe-47e6-a0d0-8ac9364fddf6",
   "metadata": {},
   "outputs": [],
   "source": [
    "apl.query('country == \"Poland\"').to_excel('apl_Poland.xlsx')"
   ]
  },
  {
   "cell_type": "markdown",
   "id": "85b8424b-79aa-4b6b-a102-8548bc4bb5d8",
   "metadata": {},
   "source": [
    "### Slovakia"
   ]
  },
  {
   "cell_type": "code",
   "execution_count": 95,
   "id": "6d14db9e-d7e0-4f25-a9b8-a7f97a45f4eb",
   "metadata": {},
   "outputs": [
    {
     "data": {
      "text/plain": [
       "8"
      ]
     },
     "execution_count": 95,
     "metadata": {},
     "output_type": "execute_result"
    }
   ],
   "source": [
    "len(apl.query('country == \"Slovakia\"').region.unique())"
   ]
  },
  {
   "cell_type": "code",
   "execution_count": 97,
   "id": "cb3b0097-f2d8-476e-a8ea-2d29beac5b74",
   "metadata": {},
   "outputs": [],
   "source": [
    "apl.query('country == \"Slovakia\"').to_excel('apl_Slovakia.xlsx')"
   ]
  },
  {
   "cell_type": "markdown",
   "id": "32b7d51a-7502-48d8-9d6b-e7f9640541c4",
   "metadata": {},
   "source": [
    "### Spain "
   ]
  },
  {
   "cell_type": "code",
   "execution_count": 100,
   "id": "449873ef-eaed-474a-84f7-9c16590a302d",
   "metadata": {},
   "outputs": [
    {
     "data": {
      "text/plain": [
       "19"
      ]
     },
     "execution_count": 100,
     "metadata": {},
     "output_type": "execute_result"
    }
   ],
   "source": [
    "len(apl.query('country == \"Spain\"').region.unique())"
   ]
  },
  {
   "cell_type": "code",
   "execution_count": 103,
   "id": "ac964698-35d7-450f-b68d-9660077f07c7",
   "metadata": {},
   "outputs": [],
   "source": [
    "apl.query('country == \"Spain\"').to_excel('apl_Spain.xlsx')"
   ]
  },
  {
   "cell_type": "markdown",
   "id": "f088f5fd-23a2-43a9-b266-d9aae9e346f2",
   "metadata": {},
   "source": [
    "### Seweden "
   ]
  },
  {
   "cell_type": "code",
   "execution_count": 108,
   "id": "a83d34e1-633e-468f-91ce-3025fd503f69",
   "metadata": {},
   "outputs": [
    {
     "data": {
      "text/plain": [
       "21"
      ]
     },
     "execution_count": 108,
     "metadata": {},
     "output_type": "execute_result"
    }
   ],
   "source": [
    "len(apl.query('country == \"Sweden\"').region.unique())"
   ]
  },
  {
   "cell_type": "code",
   "execution_count": 111,
   "id": "3b3ac0f5-9dd8-418e-afdc-37aab80c3e6a",
   "metadata": {},
   "outputs": [],
   "source": [
    "apl.query('country == \"Sweden\"').to_excel('apl_Sweden.xlsx')"
   ]
  },
  {
   "cell_type": "markdown",
   "id": "1e67f2a2-5f6b-4211-861c-e74bbc71ab6d",
   "metadata": {},
   "source": [
    "### UK"
   ]
  },
  {
   "cell_type": "code",
   "execution_count": 115,
   "id": "b0c3baff-b84c-4951-9ae4-89797d634873",
   "metadata": {},
   "outputs": [
    {
     "data": {
      "text/plain": [
       "array(['Bailiwick of Guernsey', 'Bailiwick of Jersey', 'England',\n",
       "       'Isle of Man', 'Northern Ireland', 'Scotland', 'Wales'],\n",
       "      dtype=object)"
      ]
     },
     "execution_count": 115,
     "metadata": {},
     "output_type": "execute_result"
    }
   ],
   "source": [
    "apl.query('country == \"United Kingdom\"').region.unique()"
   ]
  },
  {
   "cell_type": "code",
   "execution_count": 117,
   "id": "d8dd6d4d-fbb2-491d-b7dd-5c893f90a9a7",
   "metadata": {},
   "outputs": [],
   "source": [
    "apl.query('country == \"United Kingdom\"').to_excel('apl_UK.xlsx')"
   ]
  },
  {
   "cell_type": "markdown",
   "id": "520186d2-9cfc-4c5d-ad07-53cf8df23e69",
   "metadata": {},
   "source": [
    "### Norway"
   ]
  },
  {
   "cell_type": "code",
   "execution_count": 122,
   "id": "8ee3b27b-5d97-4452-9ab6-72b640fd5916",
   "metadata": {},
   "outputs": [
    {
     "data": {
      "text/plain": [
       "10"
      ]
     },
     "execution_count": 122,
     "metadata": {},
     "output_type": "execute_result"
    }
   ],
   "source": [
    "len(apl.query('country == \"Norway\"').region.unique())"
   ]
  },
  {
   "cell_type": "code",
   "execution_count": 123,
   "id": "dd44396d-45b0-45eb-b4cb-ac69f4e84199",
   "metadata": {},
   "outputs": [
    {
     "data": {
      "text/plain": [
       "array(['Agder', 'Innlandet', 'Møre og Romsdal', 'Nordland', 'Rogaland',\n",
       "       'Troms og Finnmark', 'Trøndelag', 'Vestfold og Telemark',\n",
       "       'Vestland', 'Viken'], dtype=object)"
      ]
     },
     "execution_count": 123,
     "metadata": {},
     "output_type": "execute_result"
    }
   ],
   "source": [
    "apl.query('country == \"Norway\"').region.unique()"
   ]
  },
  {
   "cell_type": "code",
   "execution_count": 127,
   "id": "930bb807-e71b-4c3e-b613-3baf14108a02",
   "metadata": {},
   "outputs": [],
   "source": [
    "apl.query('country == \"Norway\"').to_excel('apl_Norway.xlsx')"
   ]
  },
  {
   "cell_type": "markdown",
   "id": "4da12ccf-e952-43b9-95a6-bbdaf9bca28a",
   "metadata": {},
   "source": [
    "### Switzeland "
   ]
  },
  {
   "cell_type": "code",
   "execution_count": null,
   "id": "e8fb56a2-5844-4b2a-9f5f-c34d6d071bd6",
   "metadata": {},
   "outputs": [],
   "source": []
  },
  {
   "cell_type": "code",
   "execution_count": 5,
   "id": "d1eab60e",
   "metadata": {},
   "outputs": [
    {
     "data": {
      "text/html": [
       "<div>\n",
       "<style scoped>\n",
       "    .dataframe tbody tr th:only-of-type {\n",
       "        vertical-align: middle;\n",
       "    }\n",
       "\n",
       "    .dataframe tbody tr th {\n",
       "        vertical-align: top;\n",
       "    }\n",
       "\n",
       "    .dataframe thead th {\n",
       "        text-align: right;\n",
       "    }\n",
       "</style>\n",
       "<table border=\"1\" class=\"dataframe\">\n",
       "  <thead>\n",
       "    <tr style=\"text-align: right;\">\n",
       "      <th></th>\n",
       "      <th>NUTS_ID</th>\n",
       "      <th>LEVL_CODE</th>\n",
       "      <th>CNTR_CODE</th>\n",
       "      <th>NUTS_NAME</th>\n",
       "      <th>3</th>\n",
       "      <th>4</th>\n",
       "      <th>5</th>\n",
       "      <th>6</th>\n",
       "      <th>7</th>\n",
       "      <th>8</th>\n",
       "      <th>...</th>\n",
       "      <th>33</th>\n",
       "      <th>34</th>\n",
       "      <th>35</th>\n",
       "      <th>36</th>\n",
       "      <th>region</th>\n",
       "      <th>country</th>\n",
       "      <th>date</th>\n",
       "      <th>driving</th>\n",
       "      <th>transit</th>\n",
       "      <th>walking</th>\n",
       "    </tr>\n",
       "  </thead>\n",
       "  <tbody>\n",
       "    <tr>\n",
       "      <th>0</th>\n",
       "      <td>CH011</td>\n",
       "      <td>3</td>\n",
       "      <td>CH</td>\n",
       "      <td>Vaud</td>\n",
       "      <td>0.0</td>\n",
       "      <td>0.0</td>\n",
       "      <td>0.0</td>\n",
       "      <td>0.0</td>\n",
       "      <td>0.0</td>\n",
       "      <td>0.0</td>\n",
       "      <td>...</td>\n",
       "      <td>425.0</td>\n",
       "      <td>427.0</td>\n",
       "      <td>429.0</td>\n",
       "      <td>429.0</td>\n",
       "      <td>Canton of Vaud</td>\n",
       "      <td>Switzerland</td>\n",
       "      <td>2020-01-13</td>\n",
       "      <td>100.00</td>\n",
       "      <td>100.00</td>\n",
       "      <td>100.00</td>\n",
       "    </tr>\n",
       "    <tr>\n",
       "      <th>1</th>\n",
       "      <td>CH011</td>\n",
       "      <td>3</td>\n",
       "      <td>CH</td>\n",
       "      <td>Vaud</td>\n",
       "      <td>0.0</td>\n",
       "      <td>0.0</td>\n",
       "      <td>0.0</td>\n",
       "      <td>0.0</td>\n",
       "      <td>0.0</td>\n",
       "      <td>0.0</td>\n",
       "      <td>...</td>\n",
       "      <td>425.0</td>\n",
       "      <td>427.0</td>\n",
       "      <td>429.0</td>\n",
       "      <td>429.0</td>\n",
       "      <td>Canton of Vaud</td>\n",
       "      <td>Switzerland</td>\n",
       "      <td>2020-01-14</td>\n",
       "      <td>106.86</td>\n",
       "      <td>107.80</td>\n",
       "      <td>106.78</td>\n",
       "    </tr>\n",
       "    <tr>\n",
       "      <th>2</th>\n",
       "      <td>CH011</td>\n",
       "      <td>3</td>\n",
       "      <td>CH</td>\n",
       "      <td>Vaud</td>\n",
       "      <td>0.0</td>\n",
       "      <td>0.0</td>\n",
       "      <td>0.0</td>\n",
       "      <td>0.0</td>\n",
       "      <td>0.0</td>\n",
       "      <td>0.0</td>\n",
       "      <td>...</td>\n",
       "      <td>425.0</td>\n",
       "      <td>427.0</td>\n",
       "      <td>429.0</td>\n",
       "      <td>429.0</td>\n",
       "      <td>Canton of Vaud</td>\n",
       "      <td>Switzerland</td>\n",
       "      <td>2020-01-15</td>\n",
       "      <td>104.54</td>\n",
       "      <td>103.75</td>\n",
       "      <td>108.65</td>\n",
       "    </tr>\n",
       "  </tbody>\n",
       "</table>\n",
       "<p>3 rows × 44 columns</p>\n",
       "</div>"
      ],
      "text/plain": [
       "  NUTS_ID  LEVL_CODE CNTR_CODE NUTS_NAME    3    4    5    6    7    8  ...  \\\n",
       "0   CH011          3        CH      Vaud  0.0  0.0  0.0  0.0  0.0  0.0  ...   \n",
       "1   CH011          3        CH      Vaud  0.0  0.0  0.0  0.0  0.0  0.0  ...   \n",
       "2   CH011          3        CH      Vaud  0.0  0.0  0.0  0.0  0.0  0.0  ...   \n",
       "\n",
       "      33     34     35     36          region      country       date  \\\n",
       "0  425.0  427.0  429.0  429.0  Canton of Vaud  Switzerland 2020-01-13   \n",
       "1  425.0  427.0  429.0  429.0  Canton of Vaud  Switzerland 2020-01-14   \n",
       "2  425.0  427.0  429.0  429.0  Canton of Vaud  Switzerland 2020-01-15   \n",
       "\n",
       "   driving  transit  walking  \n",
       "0   100.00   100.00   100.00  \n",
       "1   106.86   107.80   106.78  \n",
       "2   104.54   103.75   108.65  \n",
       "\n",
       "[3 rows x 44 columns]"
      ]
     },
     "execution_count": 5,
     "metadata": {},
     "output_type": "execute_result"
    }
   ],
   "source": [
    "apl = pd.read_csv('01_Raw Data/Appel Mobility Data/applemobilitytrends-2021-12-20.csv', sep = ',', low_memory = False)\n",
    "apl.drop('alternative_name', axis = 1, inplace = True)\n",
    "apl = apl[apl['country'].notna()]\n",
    "apl = apl.query('geo_type != \"city\"').drop(['sub-region', 'geo_type'], axis =1)\n",
    "apl_eu = apl[apl['country'].isin(eu_codes.country.unique())]\n",
    "apl_eu = apl_eu.melt(id_vars = ['region', 'country', 'transportation_type'], var_name = \"date\")\n",
    "apl_eu = apl_eu.pivot(index = ['region', 'country', 'date'], columns = 'transportation_type', values = 'value').reset_index()\n",
    "apl_eu['date'] = pd.to_datetime(apl_eu['date'])\n",
    "apl_eu.reset_index(drop = True, inplace = True)\n",
    "# read the Apple's id \n",
    "apl_id = pd.read_excel('01_Raw Data/index_apl.xlsx').drop('country', axis = 1)\n",
    "# merge the datasets\n",
    "apl_mob = pd.merge(apl_id, apl_eu, on = 'region')\n",
    "apl_mob = pd.merge(shape, apl_mob, on = 'NUTS_ID')\n",
    "apl_mob.drop('geometry', axis = 1, inplace = True)\n",
    "apl_mob.head(3)"
   ]
  },
  {
   "cell_type": "code",
   "execution_count": 17,
   "id": "fb3cf1d3-b3be-4121-96f2-93438e219d22",
   "metadata": {},
   "outputs": [],
   "source": [
    "s = apl_mob.pivot_table(index = 'NUTS_ID', columns = 'date', values = 'walking')"
   ]
  },
  {
   "cell_type": "code",
   "execution_count": 25,
   "id": "95289b6a-75f1-467d-af34-dd0e2bfceb86",
   "metadata": {},
   "outputs": [],
   "source": [
    "ss = apl_mob.pivot_table(index = 'NUTS_ID', columns = 'date', values = 'driving')"
   ]
  },
  {
   "cell_type": "code",
   "execution_count": 30,
   "id": "b2173132-460a-487d-9a19-ca4520c227c5",
   "metadata": {},
   "outputs": [],
   "source": [
    "sss = apl_mob.pivot_table(index = 'NUTS_ID', columns = 'date', values = 'transit')"
   ]
  },
  {
   "cell_type": "code",
   "execution_count": 18,
   "id": "cc6f0a58-af13-4c25-aa1b-e66ba449f72a",
   "metadata": {},
   "outputs": [],
   "source": [
    "m = gpd.GeoDataFrame(pd.merge(shape, s, left_on = 'NUTS_ID', right_on = \"NUTS_ID\"))"
   ]
  },
  {
   "cell_type": "code",
   "execution_count": 26,
   "id": "44881939-a6c2-4e0c-9560-86f02c63f379",
   "metadata": {},
   "outputs": [],
   "source": [
    "mm = gpd.GeoDataFrame(pd.merge(shape, ss, left_on = 'NUTS_ID', right_on = \"NUTS_ID\"))"
   ]
  },
  {
   "cell_type": "code",
   "execution_count": 31,
   "id": "c82a0af2-d2ba-4387-b96b-23ad43357d4d",
   "metadata": {},
   "outputs": [],
   "source": [
    "mmm = gpd.GeoDataFrame(pd.merge(shape, sss, left_on = 'NUTS_ID', right_on = \"NUTS_ID\"))"
   ]
  },
  {
   "cell_type": "code",
   "execution_count": 33,
   "id": "0241a906-fc5c-4f5a-bf6d-60e68b72f4e0",
   "metadata": {},
   "outputs": [
    {
     "data": {
      "text/plain": [
       "(-20.3938895, 28.7870995, 25.764176, 67.024384)"
      ]
     },
     "execution_count": 33,
     "metadata": {},
     "output_type": "execute_result"
    },
    {
     "data": {
      "image/png": "[encoded data removed]",
      "text/plain": [
       "<Figure size 432x288 with 1 Axes>"
      ]
     },
     "metadata": {
      "needs_background": "light"
     },
     "output_type": "display_data"
    }
   ],
   "source": [
    "m.plot(column = pd.Timestamp('2021-12-13'), cmap = 'plasma_r')\n",
    "plt.title('Walking')\n",
    "plt.axis('off')"
   ]
  },
  {
   "cell_type": "code",
   "execution_count": 34,
   "id": "e1dea0c9-59c5-4979-b76d-bb1c5d0abdef",
   "metadata": {},
   "outputs": [
    {
     "data": {
      "text/plain": [
       "(-20.6450915, 34.0623415, 25.517302, 72.208738)"
      ]
     },
     "execution_count": 34,
     "metadata": {},
     "output_type": "execute_result"
    },
    {
     "data": {
      "image/png": "[encoded data removed]",
      "text/plain": [
       "<Figure size 432x288 with 1 Axes>"
      ]
     },
     "metadata": {
      "needs_background": "light"
     },
     "output_type": "display_data"
    }
   ],
   "source": [
    "mm.plot(column = pd.Timestamp('2021-12-13'), cmap = 'plasma_r')\n",
    "plt.title('Driving')\n",
    "plt.axis('off')"
   ]
  },
  {
   "cell_type": "code",
   "execution_count": 35,
   "id": "4e5912d7-ed72-44aa-8c16-b7b1416cc22e",
   "metadata": {},
   "outputs": [
    {
     "data": {
      "text/plain": [
       "(-20.3938895, 28.7870995, 25.764176, 67.024384)"
      ]
     },
     "execution_count": 35,
     "metadata": {},
     "output_type": "execute_result"
    },
    {
     "data": {
      "image/png": "[encoded data removed]",
      "text/plain": [
       "<Figure size 432x288 with 1 Axes>"
      ]
     },
     "metadata": {
      "needs_background": "light"
     },
     "output_type": "display_data"
    }
   ],
   "source": [
    "mmm.plot(column = pd.Timestamp('2021-12-13'), cmap = 'plasma_r')\n",
    "plt.title('Transit')\n",
    "plt.axis('off')"
   ]
  },
  {
   "cell_type": "code",
   "execution_count": 19,
   "id": "ecf2cb1d-6a3c-4692-bcf9-4ca4b6746860",
   "metadata": {},
   "outputs": [],
   "source": [
    "# Export the id columns to be filled by the nuts_id \n",
    "# aplid = apl_eu.iloc[:,:2].drop_duplicates(subset = ['region']).sort_values(by = \"country\")\n",
    "# aplid = aplid[['country', 'region']]\n",
    "# aplid.to_excel('01_Raw Data/apl_index.xlsx', index = False)"
   ]
  },
  {
   "cell_type": "markdown",
   "id": "7a4963b7",
   "metadata": {},
   "source": [
    "## 4. harmonizing Appel & Google data "
   ]
  },
  {
   "cell_type": "code",
   "execution_count": 20,
   "id": "eeac8b19-fdd0-45b0-8d82-00410a522575",
   "metadata": {},
   "outputs": [
    {
     "ename": "NameError",
     "evalue": "name 'mob_data' is not defined",
     "output_type": "error",
     "traceback": [
      "\u001b[1;31m---------------------------------------------------------------------------\u001b[0m",
      "\u001b[1;31mNameError\u001b[0m                                 Traceback (most recent call last)",
      "\u001b[1;32mC:\\Users\\MHACHA~1\\AppData\\Local\\Temp/ipykernel_380/2452783505.py\u001b[0m in \u001b[0;36m<module>\u001b[1;34m\u001b[0m\n\u001b[1;32m----> 1\u001b[1;33m \u001b[0mmob_data\u001b[0m\u001b[1;33m.\u001b[0m\u001b[0mcolumns\u001b[0m\u001b[1;33m\u001b[0m\u001b[1;33m\u001b[0m\u001b[0m\n\u001b[0m",
      "\u001b[1;31mNameError\u001b[0m: name 'mob_data' is not defined"
     ]
    }
   ],
   "source": [
    "mob_data.columns"
   ]
  },
  {
   "cell_type": "code",
   "execution_count": 21,
   "id": "3f207864-68bc-43ae-8a93-55128093c1d3",
   "metadata": {},
   "outputs": [
    {
     "data": {
      "text/html": [
       "<div>\n",
       "<style scoped>\n",
       "    .dataframe tbody tr th:only-of-type {\n",
       "        vertical-align: middle;\n",
       "    }\n",
       "\n",
       "    .dataframe tbody tr th {\n",
       "        vertical-align: top;\n",
       "    }\n",
       "\n",
       "    .dataframe thead th {\n",
       "        text-align: right;\n",
       "    }\n",
       "</style>\n",
       "<table border=\"1\" class=\"dataframe\">\n",
       "  <thead>\n",
       "    <tr style=\"text-align: right;\">\n",
       "      <th></th>\n",
       "      <th>country</th>\n",
       "      <th>region</th>\n",
       "      <th>NUTS_ID</th>\n",
       "      <th>date</th>\n",
       "      <th>retail</th>\n",
       "      <th>grocery</th>\n",
       "      <th>parks</th>\n",
       "      <th>transit_x</th>\n",
       "      <th>workplaces</th>\n",
       "      <th>residential</th>\n",
       "      <th>driving</th>\n",
       "      <th>transit_y</th>\n",
       "      <th>walking</th>\n",
       "    </tr>\n",
       "  </thead>\n",
       "  <tbody>\n",
       "    <tr>\n",
       "      <th>0</th>\n",
       "      <td>Switzerland</td>\n",
       "      <td>Canton of Vaud</td>\n",
       "      <td>CH011</td>\n",
       "      <td>2020-02-15</td>\n",
       "      <td>-3.0</td>\n",
       "      <td>-3.0</td>\n",
       "      <td>33.0</td>\n",
       "      <td>6.0</td>\n",
       "      <td>-5.0</td>\n",
       "      <td>-1.0</td>\n",
       "      <td>154.67</td>\n",
       "      <td>92.92</td>\n",
       "      <td>121.66</td>\n",
       "    </tr>\n",
       "    <tr>\n",
       "      <th>1</th>\n",
       "      <td>Switzerland</td>\n",
       "      <td>Canton of Vaud</td>\n",
       "      <td>CH011</td>\n",
       "      <td>2020-02-16</td>\n",
       "      <td>13.0</td>\n",
       "      <td>6.0</td>\n",
       "      <td>24.0</td>\n",
       "      <td>10.0</td>\n",
       "      <td>-6.0</td>\n",
       "      <td>-1.0</td>\n",
       "      <td>102.89</td>\n",
       "      <td>99.97</td>\n",
       "      <td>81.25</td>\n",
       "    </tr>\n",
       "    <tr>\n",
       "      <th>2</th>\n",
       "      <td>Switzerland</td>\n",
       "      <td>Canton of Vaud</td>\n",
       "      <td>CH011</td>\n",
       "      <td>2020-02-17</td>\n",
       "      <td>-8.0</td>\n",
       "      <td>-11.0</td>\n",
       "      <td>-19.0</td>\n",
       "      <td>-11.0</td>\n",
       "      <td>-16.0</td>\n",
       "      <td>3.0</td>\n",
       "      <td>103.45</td>\n",
       "      <td>105.74</td>\n",
       "      <td>93.94</td>\n",
       "    </tr>\n",
       "  </tbody>\n",
       "</table>\n",
       "</div>"
      ],
      "text/plain": [
       "       country          region NUTS_ID       date  retail  grocery  parks  \\\n",
       "0  Switzerland  Canton of Vaud   CH011 2020-02-15    -3.0     -3.0   33.0   \n",
       "1  Switzerland  Canton of Vaud   CH011 2020-02-16    13.0      6.0   24.0   \n",
       "2  Switzerland  Canton of Vaud   CH011 2020-02-17    -8.0    -11.0  -19.0   \n",
       "\n",
       "   transit_x  workplaces  residential  driving  transit_y  walking  \n",
       "0        6.0        -5.0         -1.0   154.67      92.92   121.66  \n",
       "1       10.0        -6.0         -1.0   102.89      99.97    81.25  \n",
       "2      -11.0       -16.0          3.0   103.45     105.74    93.94  "
      ]
     },
     "execution_count": 21,
     "metadata": {},
     "output_type": "execute_result"
    }
   ],
   "source": [
    "mob_data = pd.merge(gog_mob, apl_mob, on = ['NUTS_ID', 'date'])\n",
    "mob_data.drop(['region_x', 'country_x'], axis = 1, inplace = True)\n",
    "mob_data.rename(columns = {'region_y': 'region', 'country_y': 'country'}, inplace = True)\n",
    "mob_data = mob_data[['country','region', 'NUTS_ID', 'date', 'retail', 'grocery', 'parks', 'transit_x',\n",
    "       'workplaces', 'residential', 'driving','transit_y', 'walking']]\n",
    "mob_data.head(3)"
   ]
  },
  {
   "cell_type": "code",
   "execution_count": 91,
   "id": "b2a851c2-2a4b-43c4-b7f0-26acc5ac5644",
   "metadata": {},
   "outputs": [],
   "source": [
    "mob_data.to_excel('02_Cleaned Data/Mobility data (Google + Apple).xlsx', index = False)"
   ]
  },
  {
   "cell_type": "code",
   "execution_count": 90,
   "id": "09371af8-4ccc-4bc6-87fb-8b1fbfe36fb1",
   "metadata": {},
   "outputs": [
    {
     "data": {
      "image/png": "[encoded data removed]",
      "text/plain": [
       "<Figure size 640x480 with 1 Axes>"
      ]
     },
     "metadata": {},
     "output_type": "display_data"
    },
    {
     "data": {
      "text/plain": [
       "<ggplot: (103907216951)>"
      ]
     },
     "execution_count": 90,
     "metadata": {},
     "output_type": "execute_result"
    }
   ],
   "source": [
    "# export the mobility data \n",
    "(ggplot(mob_data.query('country == \"Germany\"')[['region', 'date', 'walking']],\n",
    "        aes( x = 'date', y = 'walking', color = 'region'))\n",
    "    + theme_dark(base_size = 8)\n",
    "    + geom_line(alpha = .8)\n",
    "    # + geom_smooth(method = 'lm', alpha = .1)\n",
    "    + labs(x = '', y = '', title = 'Wanderaktivität aus deutschen Bundesländern (Apple data)'))"
   ]
  }
 ],
 "metadata": {
  "kernelspec": {
   "display_name": "Python 3 (ipykernel)",
   "language": "python",
   "name": "python3"
  },
  "language_info": {
   "codemirror_mode": {
    "name": "ipython",
    "version": 3
   },
   "file_extension": ".py",
   "mimetype": "text/x-python",
   "name": "python",
   "nbconvert_exporter": "python",
   "pygments_lexer": "ipython3",
   "version": "3.9.9"
  }
 },
 "nbformat": 4,
 "nbformat_minor": 5
}
